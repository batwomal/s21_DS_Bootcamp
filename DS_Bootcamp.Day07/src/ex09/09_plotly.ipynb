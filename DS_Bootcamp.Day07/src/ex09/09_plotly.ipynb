{
 "cells": [
  {
   "cell_type": "code",
   "execution_count": 27,
   "metadata": {},
   "outputs": [],
   "source": [
    "import pandas as pd\n",
    "import sqlite3\n",
    "import plotly.graph_objects as go\n",
    "import numpy as np\n",
    "\n",
    "pd.options.display.float_format = '{:,.2f}'.format\n",
    "con = sqlite3.connect('../../datasets/checking-logs.sqlite')"
   ]
  },
  {
   "cell_type": "code",
   "execution_count": 28,
   "metadata": {},
   "outputs": [
    {
     "data": {
      "text/html": [
       "<div>\n",
       "<style scoped>\n",
       "    .dataframe tbody tr th:only-of-type {\n",
       "        vertical-align: middle;\n",
       "    }\n",
       "\n",
       "    .dataframe tbody tr th {\n",
       "        vertical-align: top;\n",
       "    }\n",
       "\n",
       "    .dataframe thead th {\n",
       "        text-align: right;\n",
       "    }\n",
       "</style>\n",
       "<table border=\"1\" class=\"dataframe\">\n",
       "  <thead>\n",
       "    <tr style=\"text-align: right;\">\n",
       "      <th></th>\n",
       "      <th>uid</th>\n",
       "      <th>timestamp</th>\n",
       "      <th>date</th>\n",
       "    </tr>\n",
       "  </thead>\n",
       "  <tbody>\n",
       "    <tr>\n",
       "      <th>0</th>\n",
       "      <td>user_4</td>\n",
       "      <td>2020-04-17 05:19:02.744528</td>\n",
       "      <td>2020-04-17</td>\n",
       "    </tr>\n",
       "    <tr>\n",
       "      <th>1</th>\n",
       "      <td>user_4</td>\n",
       "      <td>2020-04-17 05:22:45.549397</td>\n",
       "      <td>2020-04-17</td>\n",
       "    </tr>\n",
       "    <tr>\n",
       "      <th>2</th>\n",
       "      <td>user_4</td>\n",
       "      <td>2020-04-17 05:34:24.422370</td>\n",
       "      <td>2020-04-17</td>\n",
       "    </tr>\n",
       "    <tr>\n",
       "      <th>3</th>\n",
       "      <td>user_4</td>\n",
       "      <td>2020-04-17 05:43:27.773992</td>\n",
       "      <td>2020-04-17</td>\n",
       "    </tr>\n",
       "    <tr>\n",
       "      <th>4</th>\n",
       "      <td>user_4</td>\n",
       "      <td>2020-04-17 05:46:32.275104</td>\n",
       "      <td>2020-04-17</td>\n",
       "    </tr>\n",
       "    <tr>\n",
       "      <th>...</th>\n",
       "      <td>...</td>\n",
       "      <td>...</td>\n",
       "      <td>...</td>\n",
       "    </tr>\n",
       "    <tr>\n",
       "      <th>946</th>\n",
       "      <td>user_19</td>\n",
       "      <td>2020-05-15 10:22:39.698523</td>\n",
       "      <td>2020-05-15</td>\n",
       "    </tr>\n",
       "    <tr>\n",
       "      <th>947</th>\n",
       "      <td>user_19</td>\n",
       "      <td>2020-05-15 10:22:46.248162</td>\n",
       "      <td>2020-05-15</td>\n",
       "    </tr>\n",
       "    <tr>\n",
       "      <th>948</th>\n",
       "      <td>user_19</td>\n",
       "      <td>2020-05-15 10:23:18.043212</td>\n",
       "      <td>2020-05-15</td>\n",
       "    </tr>\n",
       "    <tr>\n",
       "      <th>949</th>\n",
       "      <td>user_28</td>\n",
       "      <td>2020-05-15 10:38:14.430013</td>\n",
       "      <td>2020-05-15</td>\n",
       "    </tr>\n",
       "    <tr>\n",
       "      <th>950</th>\n",
       "      <td>user_19</td>\n",
       "      <td>2020-05-15 10:52:23.922331</td>\n",
       "      <td>2020-05-15</td>\n",
       "    </tr>\n",
       "  </tbody>\n",
       "</table>\n",
       "<p>951 rows × 3 columns</p>\n",
       "</div>"
      ],
      "text/plain": [
       "         uid                  timestamp        date\n",
       "0     user_4 2020-04-17 05:19:02.744528  2020-04-17\n",
       "1     user_4 2020-04-17 05:22:45.549397  2020-04-17\n",
       "2     user_4 2020-04-17 05:34:24.422370  2020-04-17\n",
       "3     user_4 2020-04-17 05:43:27.773992  2020-04-17\n",
       "4     user_4 2020-04-17 05:46:32.275104  2020-04-17\n",
       "..       ...                        ...         ...\n",
       "946  user_19 2020-05-15 10:22:39.698523  2020-05-15\n",
       "947  user_19 2020-05-15 10:22:46.248162  2020-05-15\n",
       "948  user_19 2020-05-15 10:23:18.043212  2020-05-15\n",
       "949  user_28 2020-05-15 10:38:14.430013  2020-05-15\n",
       "950  user_19 2020-05-15 10:52:23.922331  2020-05-15\n",
       "\n",
       "[951 rows x 3 columns]"
      ]
     },
     "execution_count": 28,
     "metadata": {},
     "output_type": "execute_result"
    }
   ],
   "source": [
    "df = pd.read_sql_query(\n",
    "    '''\n",
    "    SELECT \n",
    "        uid,\n",
    "        timestamp\n",
    "    FROM checker\n",
    "    WHERE \n",
    "        uid LIKE 'user_%'\n",
    "        AND status = 'ready'\n",
    "        AND labname = 'project1'\n",
    "    ''',\n",
    "    con,\n",
    "    parse_dates=['timestamp'],\n",
    ")\n",
    "df['date'] = df['timestamp'].dt.date\n",
    "df"
   ]
  },
  {
   "cell_type": "code",
   "execution_count": 29,
   "metadata": {},
   "outputs": [
    {
     "data": {
      "text/html": [
       "<div>\n",
       "<style scoped>\n",
       "    .dataframe tbody tr th:only-of-type {\n",
       "        vertical-align: middle;\n",
       "    }\n",
       "\n",
       "    .dataframe tbody tr th {\n",
       "        vertical-align: top;\n",
       "    }\n",
       "\n",
       "    .dataframe thead th {\n",
       "        text-align: right;\n",
       "    }\n",
       "</style>\n",
       "<table border=\"1\" class=\"dataframe\">\n",
       "  <thead>\n",
       "    <tr style=\"text-align: right;\">\n",
       "      <th>date</th>\n",
       "      <th>uid</th>\n",
       "      <th>2020-04-17</th>\n",
       "      <th>2020-04-18</th>\n",
       "      <th>2020-04-19</th>\n",
       "      <th>2020-04-22</th>\n",
       "      <th>2020-04-23</th>\n",
       "      <th>2020-04-24</th>\n",
       "      <th>2020-05-03</th>\n",
       "      <th>2020-05-04</th>\n",
       "      <th>2020-05-05</th>\n",
       "      <th>2020-05-06</th>\n",
       "      <th>2020-05-07</th>\n",
       "      <th>2020-05-08</th>\n",
       "      <th>2020-05-09</th>\n",
       "      <th>2020-05-10</th>\n",
       "      <th>2020-05-11</th>\n",
       "      <th>2020-05-12</th>\n",
       "      <th>2020-05-13</th>\n",
       "      <th>2020-05-14</th>\n",
       "      <th>2020-05-15</th>\n",
       "    </tr>\n",
       "  </thead>\n",
       "  <tbody>\n",
       "    <tr>\n",
       "      <th>0</th>\n",
       "      <td>user_1</td>\n",
       "      <td>0</td>\n",
       "      <td>0</td>\n",
       "      <td>0</td>\n",
       "      <td>0</td>\n",
       "      <td>0</td>\n",
       "      <td>0</td>\n",
       "      <td>0</td>\n",
       "      <td>0</td>\n",
       "      <td>0</td>\n",
       "      <td>0</td>\n",
       "      <td>0</td>\n",
       "      <td>0</td>\n",
       "      <td>0</td>\n",
       "      <td>0</td>\n",
       "      <td>0</td>\n",
       "      <td>0</td>\n",
       "      <td>0</td>\n",
       "      <td>11</td>\n",
       "      <td>11</td>\n",
       "    </tr>\n",
       "    <tr>\n",
       "      <th>1</th>\n",
       "      <td>user_10</td>\n",
       "      <td>0</td>\n",
       "      <td>0</td>\n",
       "      <td>0</td>\n",
       "      <td>0</td>\n",
       "      <td>0</td>\n",
       "      <td>0</td>\n",
       "      <td>0</td>\n",
       "      <td>0</td>\n",
       "      <td>0</td>\n",
       "      <td>0</td>\n",
       "      <td>0</td>\n",
       "      <td>0</td>\n",
       "      <td>0</td>\n",
       "      <td>0</td>\n",
       "      <td>0</td>\n",
       "      <td>7</td>\n",
       "      <td>21</td>\n",
       "      <td>58</td>\n",
       "      <td>58</td>\n",
       "    </tr>\n",
       "    <tr>\n",
       "      <th>2</th>\n",
       "      <td>user_11</td>\n",
       "      <td>0</td>\n",
       "      <td>0</td>\n",
       "      <td>0</td>\n",
       "      <td>0</td>\n",
       "      <td>0</td>\n",
       "      <td>0</td>\n",
       "      <td>1</td>\n",
       "      <td>1</td>\n",
       "      <td>1</td>\n",
       "      <td>1</td>\n",
       "      <td>1</td>\n",
       "      <td>1</td>\n",
       "      <td>1</td>\n",
       "      <td>1</td>\n",
       "      <td>1</td>\n",
       "      <td>1</td>\n",
       "      <td>1</td>\n",
       "      <td>1</td>\n",
       "      <td>1</td>\n",
       "    </tr>\n",
       "    <tr>\n",
       "      <th>3</th>\n",
       "      <td>user_12</td>\n",
       "      <td>0</td>\n",
       "      <td>0</td>\n",
       "      <td>0</td>\n",
       "      <td>0</td>\n",
       "      <td>0</td>\n",
       "      <td>0</td>\n",
       "      <td>0</td>\n",
       "      <td>0</td>\n",
       "      <td>0</td>\n",
       "      <td>0</td>\n",
       "      <td>0</td>\n",
       "      <td>0</td>\n",
       "      <td>0</td>\n",
       "      <td>0</td>\n",
       "      <td>0</td>\n",
       "      <td>0</td>\n",
       "      <td>0</td>\n",
       "      <td>4</td>\n",
       "      <td>4</td>\n",
       "    </tr>\n",
       "    <tr>\n",
       "      <th>4</th>\n",
       "      <td>user_13</td>\n",
       "      <td>0</td>\n",
       "      <td>0</td>\n",
       "      <td>0</td>\n",
       "      <td>0</td>\n",
       "      <td>0</td>\n",
       "      <td>0</td>\n",
       "      <td>0</td>\n",
       "      <td>0</td>\n",
       "      <td>0</td>\n",
       "      <td>0</td>\n",
       "      <td>0</td>\n",
       "      <td>0</td>\n",
       "      <td>0</td>\n",
       "      <td>0</td>\n",
       "      <td>2</td>\n",
       "      <td>30</td>\n",
       "      <td>30</td>\n",
       "      <td>32</td>\n",
       "      <td>32</td>\n",
       "    </tr>\n",
       "    <tr>\n",
       "      <th>5</th>\n",
       "      <td>user_14</td>\n",
       "      <td>0</td>\n",
       "      <td>0</td>\n",
       "      <td>0</td>\n",
       "      <td>0</td>\n",
       "      <td>0</td>\n",
       "      <td>0</td>\n",
       "      <td>0</td>\n",
       "      <td>0</td>\n",
       "      <td>1</td>\n",
       "      <td>1</td>\n",
       "      <td>1</td>\n",
       "      <td>1</td>\n",
       "      <td>18</td>\n",
       "      <td>25</td>\n",
       "      <td>49</td>\n",
       "      <td>92</td>\n",
       "      <td>92</td>\n",
       "      <td>99</td>\n",
       "      <td>99</td>\n",
       "    </tr>\n",
       "    <tr>\n",
       "      <th>6</th>\n",
       "      <td>user_15</td>\n",
       "      <td>0</td>\n",
       "      <td>0</td>\n",
       "      <td>0</td>\n",
       "      <td>0</td>\n",
       "      <td>0</td>\n",
       "      <td>0</td>\n",
       "      <td>0</td>\n",
       "      <td>0</td>\n",
       "      <td>0</td>\n",
       "      <td>0</td>\n",
       "      <td>0</td>\n",
       "      <td>0</td>\n",
       "      <td>0</td>\n",
       "      <td>0</td>\n",
       "      <td>0</td>\n",
       "      <td>0</td>\n",
       "      <td>0</td>\n",
       "      <td>3</td>\n",
       "      <td>3</td>\n",
       "    </tr>\n",
       "    <tr>\n",
       "      <th>7</th>\n",
       "      <td>user_16</td>\n",
       "      <td>0</td>\n",
       "      <td>0</td>\n",
       "      <td>0</td>\n",
       "      <td>0</td>\n",
       "      <td>0</td>\n",
       "      <td>0</td>\n",
       "      <td>0</td>\n",
       "      <td>0</td>\n",
       "      <td>0</td>\n",
       "      <td>0</td>\n",
       "      <td>0</td>\n",
       "      <td>0</td>\n",
       "      <td>0</td>\n",
       "      <td>0</td>\n",
       "      <td>0</td>\n",
       "      <td>2</td>\n",
       "      <td>2</td>\n",
       "      <td>9</td>\n",
       "      <td>9</td>\n",
       "    </tr>\n",
       "    <tr>\n",
       "      <th>8</th>\n",
       "      <td>user_17</td>\n",
       "      <td>0</td>\n",
       "      <td>1</td>\n",
       "      <td>1</td>\n",
       "      <td>1</td>\n",
       "      <td>1</td>\n",
       "      <td>1</td>\n",
       "      <td>1</td>\n",
       "      <td>1</td>\n",
       "      <td>1</td>\n",
       "      <td>1</td>\n",
       "      <td>1</td>\n",
       "      <td>1</td>\n",
       "      <td>1</td>\n",
       "      <td>1</td>\n",
       "      <td>1</td>\n",
       "      <td>3</td>\n",
       "      <td>3</td>\n",
       "      <td>5</td>\n",
       "      <td>5</td>\n",
       "    </tr>\n",
       "    <tr>\n",
       "      <th>9</th>\n",
       "      <td>user_18</td>\n",
       "      <td>0</td>\n",
       "      <td>0</td>\n",
       "      <td>0</td>\n",
       "      <td>0</td>\n",
       "      <td>0</td>\n",
       "      <td>0</td>\n",
       "      <td>0</td>\n",
       "      <td>0</td>\n",
       "      <td>0</td>\n",
       "      <td>0</td>\n",
       "      <td>0</td>\n",
       "      <td>0</td>\n",
       "      <td>0</td>\n",
       "      <td>0</td>\n",
       "      <td>7</td>\n",
       "      <td>7</td>\n",
       "      <td>8</td>\n",
       "      <td>31</td>\n",
       "      <td>31</td>\n",
       "    </tr>\n",
       "    <tr>\n",
       "      <th>10</th>\n",
       "      <td>user_19</td>\n",
       "      <td>0</td>\n",
       "      <td>0</td>\n",
       "      <td>0</td>\n",
       "      <td>0</td>\n",
       "      <td>0</td>\n",
       "      <td>0</td>\n",
       "      <td>0</td>\n",
       "      <td>0</td>\n",
       "      <td>0</td>\n",
       "      <td>0</td>\n",
       "      <td>0</td>\n",
       "      <td>0</td>\n",
       "      <td>0</td>\n",
       "      <td>0</td>\n",
       "      <td>0</td>\n",
       "      <td>0</td>\n",
       "      <td>0</td>\n",
       "      <td>25</td>\n",
       "      <td>29</td>\n",
       "    </tr>\n",
       "    <tr>\n",
       "      <th>11</th>\n",
       "      <td>user_2</td>\n",
       "      <td>0</td>\n",
       "      <td>0</td>\n",
       "      <td>0</td>\n",
       "      <td>0</td>\n",
       "      <td>0</td>\n",
       "      <td>0</td>\n",
       "      <td>0</td>\n",
       "      <td>0</td>\n",
       "      <td>57</td>\n",
       "      <td>58</td>\n",
       "      <td>58</td>\n",
       "      <td>58</td>\n",
       "      <td>58</td>\n",
       "      <td>62</td>\n",
       "      <td>74</td>\n",
       "      <td>78</td>\n",
       "      <td>93</td>\n",
       "      <td>95</td>\n",
       "      <td>95</td>\n",
       "    </tr>\n",
       "    <tr>\n",
       "      <th>12</th>\n",
       "      <td>user_20</td>\n",
       "      <td>0</td>\n",
       "      <td>0</td>\n",
       "      <td>0</td>\n",
       "      <td>0</td>\n",
       "      <td>0</td>\n",
       "      <td>0</td>\n",
       "      <td>0</td>\n",
       "      <td>0</td>\n",
       "      <td>0</td>\n",
       "      <td>0</td>\n",
       "      <td>0</td>\n",
       "      <td>0</td>\n",
       "      <td>0</td>\n",
       "      <td>0</td>\n",
       "      <td>11</td>\n",
       "      <td>11</td>\n",
       "      <td>11</td>\n",
       "      <td>54</td>\n",
       "      <td>54</td>\n",
       "    </tr>\n",
       "    <tr>\n",
       "      <th>13</th>\n",
       "      <td>user_21</td>\n",
       "      <td>0</td>\n",
       "      <td>0</td>\n",
       "      <td>0</td>\n",
       "      <td>0</td>\n",
       "      <td>0</td>\n",
       "      <td>0</td>\n",
       "      <td>0</td>\n",
       "      <td>0</td>\n",
       "      <td>0</td>\n",
       "      <td>0</td>\n",
       "      <td>0</td>\n",
       "      <td>0</td>\n",
       "      <td>0</td>\n",
       "      <td>7</td>\n",
       "      <td>7</td>\n",
       "      <td>7</td>\n",
       "      <td>7</td>\n",
       "      <td>9</td>\n",
       "      <td>9</td>\n",
       "    </tr>\n",
       "    <tr>\n",
       "      <th>14</th>\n",
       "      <td>user_22</td>\n",
       "      <td>0</td>\n",
       "      <td>0</td>\n",
       "      <td>0</td>\n",
       "      <td>0</td>\n",
       "      <td>0</td>\n",
       "      <td>0</td>\n",
       "      <td>1</td>\n",
       "      <td>1</td>\n",
       "      <td>1</td>\n",
       "      <td>1</td>\n",
       "      <td>1</td>\n",
       "      <td>1</td>\n",
       "      <td>1</td>\n",
       "      <td>1</td>\n",
       "      <td>1</td>\n",
       "      <td>1</td>\n",
       "      <td>1</td>\n",
       "      <td>2</td>\n",
       "      <td>2</td>\n",
       "    </tr>\n",
       "    <tr>\n",
       "      <th>15</th>\n",
       "      <td>user_24</td>\n",
       "      <td>0</td>\n",
       "      <td>0</td>\n",
       "      <td>0</td>\n",
       "      <td>0</td>\n",
       "      <td>0</td>\n",
       "      <td>0</td>\n",
       "      <td>0</td>\n",
       "      <td>0</td>\n",
       "      <td>0</td>\n",
       "      <td>0</td>\n",
       "      <td>0</td>\n",
       "      <td>0</td>\n",
       "      <td>0</td>\n",
       "      <td>0</td>\n",
       "      <td>0</td>\n",
       "      <td>0</td>\n",
       "      <td>9</td>\n",
       "      <td>34</td>\n",
       "      <td>34</td>\n",
       "    </tr>\n",
       "    <tr>\n",
       "      <th>16</th>\n",
       "      <td>user_25</td>\n",
       "      <td>0</td>\n",
       "      <td>0</td>\n",
       "      <td>0</td>\n",
       "      <td>0</td>\n",
       "      <td>0</td>\n",
       "      <td>0</td>\n",
       "      <td>0</td>\n",
       "      <td>0</td>\n",
       "      <td>0</td>\n",
       "      <td>0</td>\n",
       "      <td>0</td>\n",
       "      <td>5</td>\n",
       "      <td>27</td>\n",
       "      <td>29</td>\n",
       "      <td>33</td>\n",
       "      <td>54</td>\n",
       "      <td>57</td>\n",
       "      <td>77</td>\n",
       "      <td>77</td>\n",
       "    </tr>\n",
       "    <tr>\n",
       "      <th>17</th>\n",
       "      <td>user_26</td>\n",
       "      <td>0</td>\n",
       "      <td>0</td>\n",
       "      <td>0</td>\n",
       "      <td>0</td>\n",
       "      <td>0</td>\n",
       "      <td>0</td>\n",
       "      <td>0</td>\n",
       "      <td>0</td>\n",
       "      <td>0</td>\n",
       "      <td>0</td>\n",
       "      <td>0</td>\n",
       "      <td>0</td>\n",
       "      <td>0</td>\n",
       "      <td>35</td>\n",
       "      <td>35</td>\n",
       "      <td>35</td>\n",
       "      <td>52</td>\n",
       "      <td>69</td>\n",
       "      <td>69</td>\n",
       "    </tr>\n",
       "    <tr>\n",
       "      <th>18</th>\n",
       "      <td>user_27</td>\n",
       "      <td>0</td>\n",
       "      <td>0</td>\n",
       "      <td>0</td>\n",
       "      <td>0</td>\n",
       "      <td>0</td>\n",
       "      <td>0</td>\n",
       "      <td>0</td>\n",
       "      <td>0</td>\n",
       "      <td>0</td>\n",
       "      <td>0</td>\n",
       "      <td>0</td>\n",
       "      <td>0</td>\n",
       "      <td>0</td>\n",
       "      <td>0</td>\n",
       "      <td>0</td>\n",
       "      <td>0</td>\n",
       "      <td>0</td>\n",
       "      <td>8</td>\n",
       "      <td>8</td>\n",
       "    </tr>\n",
       "    <tr>\n",
       "      <th>19</th>\n",
       "      <td>user_28</td>\n",
       "      <td>0</td>\n",
       "      <td>0</td>\n",
       "      <td>0</td>\n",
       "      <td>0</td>\n",
       "      <td>0</td>\n",
       "      <td>0</td>\n",
       "      <td>0</td>\n",
       "      <td>0</td>\n",
       "      <td>0</td>\n",
       "      <td>0</td>\n",
       "      <td>0</td>\n",
       "      <td>0</td>\n",
       "      <td>0</td>\n",
       "      <td>0</td>\n",
       "      <td>0</td>\n",
       "      <td>2</td>\n",
       "      <td>20</td>\n",
       "      <td>26</td>\n",
       "      <td>27</td>\n",
       "    </tr>\n",
       "    <tr>\n",
       "      <th>20</th>\n",
       "      <td>user_29</td>\n",
       "      <td>0</td>\n",
       "      <td>0</td>\n",
       "      <td>0</td>\n",
       "      <td>0</td>\n",
       "      <td>0</td>\n",
       "      <td>0</td>\n",
       "      <td>0</td>\n",
       "      <td>0</td>\n",
       "      <td>0</td>\n",
       "      <td>0</td>\n",
       "      <td>0</td>\n",
       "      <td>0</td>\n",
       "      <td>0</td>\n",
       "      <td>0</td>\n",
       "      <td>5</td>\n",
       "      <td>18</td>\n",
       "      <td>34</td>\n",
       "      <td>35</td>\n",
       "      <td>35</td>\n",
       "    </tr>\n",
       "    <tr>\n",
       "      <th>21</th>\n",
       "      <td>user_3</td>\n",
       "      <td>0</td>\n",
       "      <td>0</td>\n",
       "      <td>0</td>\n",
       "      <td>0</td>\n",
       "      <td>0</td>\n",
       "      <td>0</td>\n",
       "      <td>0</td>\n",
       "      <td>0</td>\n",
       "      <td>0</td>\n",
       "      <td>0</td>\n",
       "      <td>1</td>\n",
       "      <td>28</td>\n",
       "      <td>29</td>\n",
       "      <td>31</td>\n",
       "      <td>54</td>\n",
       "      <td>56</td>\n",
       "      <td>56</td>\n",
       "      <td>58</td>\n",
       "      <td>58</td>\n",
       "    </tr>\n",
       "    <tr>\n",
       "      <th>22</th>\n",
       "      <td>user_30</td>\n",
       "      <td>0</td>\n",
       "      <td>0</td>\n",
       "      <td>0</td>\n",
       "      <td>1</td>\n",
       "      <td>2</td>\n",
       "      <td>2</td>\n",
       "      <td>4</td>\n",
       "      <td>5</td>\n",
       "      <td>5</td>\n",
       "      <td>5</td>\n",
       "      <td>12</td>\n",
       "      <td>12</td>\n",
       "      <td>12</td>\n",
       "      <td>17</td>\n",
       "      <td>17</td>\n",
       "      <td>17</td>\n",
       "      <td>17</td>\n",
       "      <td>19</td>\n",
       "      <td>19</td>\n",
       "    </tr>\n",
       "    <tr>\n",
       "      <th>23</th>\n",
       "      <td>user_31</td>\n",
       "      <td>0</td>\n",
       "      <td>0</td>\n",
       "      <td>0</td>\n",
       "      <td>0</td>\n",
       "      <td>0</td>\n",
       "      <td>0</td>\n",
       "      <td>0</td>\n",
       "      <td>0</td>\n",
       "      <td>0</td>\n",
       "      <td>0</td>\n",
       "      <td>1</td>\n",
       "      <td>1</td>\n",
       "      <td>4</td>\n",
       "      <td>4</td>\n",
       "      <td>6</td>\n",
       "      <td>6</td>\n",
       "      <td>6</td>\n",
       "      <td>8</td>\n",
       "      <td>8</td>\n",
       "    </tr>\n",
       "    <tr>\n",
       "      <th>24</th>\n",
       "      <td>user_4</td>\n",
       "      <td>7</td>\n",
       "      <td>7</td>\n",
       "      <td>11</td>\n",
       "      <td>11</td>\n",
       "      <td>20</td>\n",
       "      <td>27</td>\n",
       "      <td>35</td>\n",
       "      <td>48</td>\n",
       "      <td>53</td>\n",
       "      <td>53</td>\n",
       "      <td>71</td>\n",
       "      <td>83</td>\n",
       "      <td>83</td>\n",
       "      <td>83</td>\n",
       "      <td>87</td>\n",
       "      <td>125</td>\n",
       "      <td>137</td>\n",
       "      <td>164</td>\n",
       "      <td>164</td>\n",
       "    </tr>\n",
       "    <tr>\n",
       "      <th>25</th>\n",
       "      <td>user_6</td>\n",
       "      <td>0</td>\n",
       "      <td>0</td>\n",
       "      <td>0</td>\n",
       "      <td>0</td>\n",
       "      <td>0</td>\n",
       "      <td>0</td>\n",
       "      <td>0</td>\n",
       "      <td>0</td>\n",
       "      <td>0</td>\n",
       "      <td>0</td>\n",
       "      <td>0</td>\n",
       "      <td>0</td>\n",
       "      <td>0</td>\n",
       "      <td>0</td>\n",
       "      <td>0</td>\n",
       "      <td>0</td>\n",
       "      <td>1</td>\n",
       "      <td>2</td>\n",
       "      <td>2</td>\n",
       "    </tr>\n",
       "    <tr>\n",
       "      <th>26</th>\n",
       "      <td>user_8</td>\n",
       "      <td>0</td>\n",
       "      <td>0</td>\n",
       "      <td>0</td>\n",
       "      <td>0</td>\n",
       "      <td>0</td>\n",
       "      <td>0</td>\n",
       "      <td>0</td>\n",
       "      <td>0</td>\n",
       "      <td>0</td>\n",
       "      <td>0</td>\n",
       "      <td>0</td>\n",
       "      <td>0</td>\n",
       "      <td>0</td>\n",
       "      <td>0</td>\n",
       "      <td>0</td>\n",
       "      <td>0</td>\n",
       "      <td>0</td>\n",
       "      <td>8</td>\n",
       "      <td>8</td>\n",
       "    </tr>\n",
       "  </tbody>\n",
       "</table>\n",
       "</div>"
      ],
      "text/plain": [
       "date      uid  2020-04-17  2020-04-18  2020-04-19  2020-04-22  2020-04-23  \\\n",
       "0      user_1           0           0           0           0           0   \n",
       "1     user_10           0           0           0           0           0   \n",
       "2     user_11           0           0           0           0           0   \n",
       "3     user_12           0           0           0           0           0   \n",
       "4     user_13           0           0           0           0           0   \n",
       "5     user_14           0           0           0           0           0   \n",
       "6     user_15           0           0           0           0           0   \n",
       "7     user_16           0           0           0           0           0   \n",
       "8     user_17           0           1           1           1           1   \n",
       "9     user_18           0           0           0           0           0   \n",
       "10    user_19           0           0           0           0           0   \n",
       "11     user_2           0           0           0           0           0   \n",
       "12    user_20           0           0           0           0           0   \n",
       "13    user_21           0           0           0           0           0   \n",
       "14    user_22           0           0           0           0           0   \n",
       "15    user_24           0           0           0           0           0   \n",
       "16    user_25           0           0           0           0           0   \n",
       "17    user_26           0           0           0           0           0   \n",
       "18    user_27           0           0           0           0           0   \n",
       "19    user_28           0           0           0           0           0   \n",
       "20    user_29           0           0           0           0           0   \n",
       "21     user_3           0           0           0           0           0   \n",
       "22    user_30           0           0           0           1           2   \n",
       "23    user_31           0           0           0           0           0   \n",
       "24     user_4           7           7          11          11          20   \n",
       "25     user_6           0           0           0           0           0   \n",
       "26     user_8           0           0           0           0           0   \n",
       "\n",
       "date  2020-04-24  2020-05-03  2020-05-04  2020-05-05  2020-05-06  2020-05-07  \\\n",
       "0              0           0           0           0           0           0   \n",
       "1              0           0           0           0           0           0   \n",
       "2              0           1           1           1           1           1   \n",
       "3              0           0           0           0           0           0   \n",
       "4              0           0           0           0           0           0   \n",
       "5              0           0           0           1           1           1   \n",
       "6              0           0           0           0           0           0   \n",
       "7              0           0           0           0           0           0   \n",
       "8              1           1           1           1           1           1   \n",
       "9              0           0           0           0           0           0   \n",
       "10             0           0           0           0           0           0   \n",
       "11             0           0           0          57          58          58   \n",
       "12             0           0           0           0           0           0   \n",
       "13             0           0           0           0           0           0   \n",
       "14             0           1           1           1           1           1   \n",
       "15             0           0           0           0           0           0   \n",
       "16             0           0           0           0           0           0   \n",
       "17             0           0           0           0           0           0   \n",
       "18             0           0           0           0           0           0   \n",
       "19             0           0           0           0           0           0   \n",
       "20             0           0           0           0           0           0   \n",
       "21             0           0           0           0           0           1   \n",
       "22             2           4           5           5           5          12   \n",
       "23             0           0           0           0           0           1   \n",
       "24            27          35          48          53          53          71   \n",
       "25             0           0           0           0           0           0   \n",
       "26             0           0           0           0           0           0   \n",
       "\n",
       "date  2020-05-08  2020-05-09  2020-05-10  2020-05-11  2020-05-12  2020-05-13  \\\n",
       "0              0           0           0           0           0           0   \n",
       "1              0           0           0           0           7          21   \n",
       "2              1           1           1           1           1           1   \n",
       "3              0           0           0           0           0           0   \n",
       "4              0           0           0           2          30          30   \n",
       "5              1          18          25          49          92          92   \n",
       "6              0           0           0           0           0           0   \n",
       "7              0           0           0           0           2           2   \n",
       "8              1           1           1           1           3           3   \n",
       "9              0           0           0           7           7           8   \n",
       "10             0           0           0           0           0           0   \n",
       "11            58          58          62          74          78          93   \n",
       "12             0           0           0          11          11          11   \n",
       "13             0           0           7           7           7           7   \n",
       "14             1           1           1           1           1           1   \n",
       "15             0           0           0           0           0           9   \n",
       "16             5          27          29          33          54          57   \n",
       "17             0           0          35          35          35          52   \n",
       "18             0           0           0           0           0           0   \n",
       "19             0           0           0           0           2          20   \n",
       "20             0           0           0           5          18          34   \n",
       "21            28          29          31          54          56          56   \n",
       "22            12          12          17          17          17          17   \n",
       "23             1           4           4           6           6           6   \n",
       "24            83          83          83          87         125         137   \n",
       "25             0           0           0           0           0           1   \n",
       "26             0           0           0           0           0           0   \n",
       "\n",
       "date  2020-05-14  2020-05-15  \n",
       "0             11          11  \n",
       "1             58          58  \n",
       "2              1           1  \n",
       "3              4           4  \n",
       "4             32          32  \n",
       "5             99          99  \n",
       "6              3           3  \n",
       "7              9           9  \n",
       "8              5           5  \n",
       "9             31          31  \n",
       "10            25          29  \n",
       "11            95          95  \n",
       "12            54          54  \n",
       "13             9           9  \n",
       "14             2           2  \n",
       "15            34          34  \n",
       "16            77          77  \n",
       "17            69          69  \n",
       "18             8           8  \n",
       "19            26          27  \n",
       "20            35          35  \n",
       "21            58          58  \n",
       "22            19          19  \n",
       "23             8           8  \n",
       "24           164         164  \n",
       "25             2           2  \n",
       "26             8           8  "
      ]
     },
     "execution_count": 29,
     "metadata": {},
     "output_type": "execute_result"
    }
   ],
   "source": [
    "pivot_table = df.pivot_table(\n",
    "  index='uid',\n",
    "  columns='date',\n",
    "  values='date',\n",
    "  aggfunc='count',\n",
    "  fill_value=0\n",
    ")\n",
    "pivot_table = pivot_table.cumsum(axis=1)\n",
    "data = pivot_table.reset_index()\n",
    "data"
   ]
  },
  {
   "cell_type": "code",
   "execution_count": 30,
   "metadata": {},
   "outputs": [
    {
     "data": {
      "application/vnd.plotly.v1+json": {
       "config": {
        "plotlyServerURL": "https://plot.ly"
       },
       "data": [
        {
         "mode": "lines+markers",
         "name": "user_1",
         "type": "scatter",
         "y": "user_1"
        },
        {
         "mode": "lines+markers",
         "name": "user_10",
         "type": "scatter",
         "y": "user_10"
        },
        {
         "mode": "lines+markers",
         "name": "user_11",
         "type": "scatter",
         "y": "user_11"
        },
        {
         "mode": "lines+markers",
         "name": "user_12",
         "type": "scatter",
         "y": "user_12"
        },
        {
         "mode": "lines+markers",
         "name": "user_13",
         "type": "scatter",
         "y": "user_13"
        },
        {
         "mode": "lines+markers",
         "name": "user_14",
         "type": "scatter",
         "y": "user_14"
        },
        {
         "mode": "lines+markers",
         "name": "user_15",
         "type": "scatter",
         "y": "user_15"
        },
        {
         "mode": "lines+markers",
         "name": "user_16",
         "type": "scatter",
         "y": "user_16"
        },
        {
         "mode": "lines+markers",
         "name": "user_17",
         "type": "scatter",
         "y": "user_17"
        },
        {
         "mode": "lines+markers",
         "name": "user_18",
         "type": "scatter",
         "y": "user_18"
        },
        {
         "mode": "lines+markers",
         "name": "user_19",
         "type": "scatter",
         "y": "user_19"
        },
        {
         "mode": "lines+markers",
         "name": "user_2",
         "type": "scatter",
         "y": "user_2"
        },
        {
         "mode": "lines+markers",
         "name": "user_20",
         "type": "scatter",
         "y": "user_20"
        },
        {
         "mode": "lines+markers",
         "name": "user_21",
         "type": "scatter",
         "y": "user_21"
        },
        {
         "mode": "lines+markers",
         "name": "user_22",
         "type": "scatter",
         "y": "user_22"
        },
        {
         "mode": "lines+markers",
         "name": "user_24",
         "type": "scatter",
         "y": "user_24"
        },
        {
         "mode": "lines+markers",
         "name": "user_25",
         "type": "scatter",
         "y": "user_25"
        },
        {
         "mode": "lines+markers",
         "name": "user_26",
         "type": "scatter",
         "y": "user_26"
        },
        {
         "mode": "lines+markers",
         "name": "user_27",
         "type": "scatter",
         "y": "user_27"
        },
        {
         "mode": "lines+markers",
         "name": "user_28",
         "type": "scatter",
         "y": "user_28"
        },
        {
         "mode": "lines+markers",
         "name": "user_29",
         "type": "scatter",
         "y": "user_29"
        },
        {
         "mode": "lines+markers",
         "name": "user_3",
         "type": "scatter",
         "y": "user_3"
        },
        {
         "mode": "lines+markers",
         "name": "user_30",
         "type": "scatter",
         "y": "user_30"
        },
        {
         "mode": "lines+markers",
         "name": "user_31",
         "type": "scatter",
         "y": "user_31"
        },
        {
         "mode": "lines+markers",
         "name": "user_4",
         "type": "scatter",
         "y": "user_4"
        },
        {
         "mode": "lines+markers",
         "name": "user_6",
         "type": "scatter",
         "y": "user_6"
        },
        {
         "mode": "lines+markers",
         "name": "user_8",
         "type": "scatter",
         "y": "user_8"
        }
       ],
       "frames": [
        {
         "data": [
          {
           "dy": 10,
           "mode": "lines+markers",
           "name": "user_1",
           "type": "scatter",
           "x0": 1,
           "y": [
            0
           ]
          },
          {
           "dy": 10,
           "mode": "lines+markers",
           "name": "user_10",
           "type": "scatter",
           "x0": 1,
           "y": [
            0
           ]
          },
          {
           "dy": 10,
           "mode": "lines+markers",
           "name": "user_11",
           "type": "scatter",
           "x0": 1,
           "y": [
            0
           ]
          },
          {
           "dy": 10,
           "mode": "lines+markers",
           "name": "user_12",
           "type": "scatter",
           "x0": 1,
           "y": [
            0
           ]
          },
          {
           "dy": 10,
           "mode": "lines+markers",
           "name": "user_13",
           "type": "scatter",
           "x0": 1,
           "y": [
            0
           ]
          },
          {
           "dy": 10,
           "mode": "lines+markers",
           "name": "user_14",
           "type": "scatter",
           "x0": 1,
           "y": [
            0
           ]
          },
          {
           "dy": 10,
           "mode": "lines+markers",
           "name": "user_15",
           "type": "scatter",
           "x0": 1,
           "y": [
            0
           ]
          },
          {
           "dy": 10,
           "mode": "lines+markers",
           "name": "user_16",
           "type": "scatter",
           "x0": 1,
           "y": [
            0
           ]
          },
          {
           "dy": 10,
           "mode": "lines+markers",
           "name": "user_17",
           "type": "scatter",
           "x0": 1,
           "y": [
            0
           ]
          },
          {
           "dy": 10,
           "mode": "lines+markers",
           "name": "user_18",
           "type": "scatter",
           "x0": 1,
           "y": [
            0
           ]
          },
          {
           "dy": 10,
           "mode": "lines+markers",
           "name": "user_19",
           "type": "scatter",
           "x0": 1,
           "y": [
            0
           ]
          },
          {
           "dy": 10,
           "mode": "lines+markers",
           "name": "user_2",
           "type": "scatter",
           "x0": 1,
           "y": [
            0
           ]
          },
          {
           "dy": 10,
           "mode": "lines+markers",
           "name": "user_20",
           "type": "scatter",
           "x0": 1,
           "y": [
            0
           ]
          },
          {
           "dy": 10,
           "mode": "lines+markers",
           "name": "user_21",
           "type": "scatter",
           "x0": 1,
           "y": [
            0
           ]
          },
          {
           "dy": 10,
           "mode": "lines+markers",
           "name": "user_22",
           "type": "scatter",
           "x0": 1,
           "y": [
            0
           ]
          },
          {
           "dy": 10,
           "mode": "lines+markers",
           "name": "user_24",
           "type": "scatter",
           "x0": 1,
           "y": [
            0
           ]
          },
          {
           "dy": 10,
           "mode": "lines+markers",
           "name": "user_25",
           "type": "scatter",
           "x0": 1,
           "y": [
            0
           ]
          },
          {
           "dy": 10,
           "mode": "lines+markers",
           "name": "user_26",
           "type": "scatter",
           "x0": 1,
           "y": [
            0
           ]
          },
          {
           "dy": 10,
           "mode": "lines+markers",
           "name": "user_27",
           "type": "scatter",
           "x0": 1,
           "y": [
            0
           ]
          },
          {
           "dy": 10,
           "mode": "lines+markers",
           "name": "user_28",
           "type": "scatter",
           "x0": 1,
           "y": [
            0
           ]
          },
          {
           "dy": 10,
           "mode": "lines+markers",
           "name": "user_29",
           "type": "scatter",
           "x0": 1,
           "y": [
            0
           ]
          },
          {
           "dy": 10,
           "mode": "lines+markers",
           "name": "user_3",
           "type": "scatter",
           "x0": 1,
           "y": [
            0
           ]
          },
          {
           "dy": 10,
           "mode": "lines+markers",
           "name": "user_30",
           "type": "scatter",
           "x0": 1,
           "y": [
            0
           ]
          },
          {
           "dy": 10,
           "mode": "lines+markers",
           "name": "user_31",
           "type": "scatter",
           "x0": 1,
           "y": [
            0
           ]
          },
          {
           "dy": 10,
           "mode": "lines+markers",
           "name": "user_4",
           "type": "scatter",
           "x0": 1,
           "y": [
            7
           ]
          },
          {
           "dy": 10,
           "mode": "lines+markers",
           "name": "user_6",
           "type": "scatter",
           "x0": 1,
           "y": [
            0
           ]
          },
          {
           "dy": 10,
           "mode": "lines+markers",
           "name": "user_8",
           "type": "scatter",
           "x0": 1,
           "y": [
            0
           ]
          }
         ]
        },
        {
         "data": [
          {
           "dy": 10,
           "mode": "lines+markers",
           "name": "user_1",
           "type": "scatter",
           "x0": 1,
           "y": [
            0,
            0
           ]
          },
          {
           "dy": 10,
           "mode": "lines+markers",
           "name": "user_10",
           "type": "scatter",
           "x0": 1,
           "y": [
            0,
            0
           ]
          },
          {
           "dy": 10,
           "mode": "lines+markers",
           "name": "user_11",
           "type": "scatter",
           "x0": 1,
           "y": [
            0,
            0
           ]
          },
          {
           "dy": 10,
           "mode": "lines+markers",
           "name": "user_12",
           "type": "scatter",
           "x0": 1,
           "y": [
            0,
            0
           ]
          },
          {
           "dy": 10,
           "mode": "lines+markers",
           "name": "user_13",
           "type": "scatter",
           "x0": 1,
           "y": [
            0,
            0
           ]
          },
          {
           "dy": 10,
           "mode": "lines+markers",
           "name": "user_14",
           "type": "scatter",
           "x0": 1,
           "y": [
            0,
            0
           ]
          },
          {
           "dy": 10,
           "mode": "lines+markers",
           "name": "user_15",
           "type": "scatter",
           "x0": 1,
           "y": [
            0,
            0
           ]
          },
          {
           "dy": 10,
           "mode": "lines+markers",
           "name": "user_16",
           "type": "scatter",
           "x0": 1,
           "y": [
            0,
            0
           ]
          },
          {
           "dy": 10,
           "mode": "lines+markers",
           "name": "user_17",
           "type": "scatter",
           "x0": 1,
           "y": [
            0,
            1
           ]
          },
          {
           "dy": 10,
           "mode": "lines+markers",
           "name": "user_18",
           "type": "scatter",
           "x0": 1,
           "y": [
            0,
            0
           ]
          },
          {
           "dy": 10,
           "mode": "lines+markers",
           "name": "user_19",
           "type": "scatter",
           "x0": 1,
           "y": [
            0,
            0
           ]
          },
          {
           "dy": 10,
           "mode": "lines+markers",
           "name": "user_2",
           "type": "scatter",
           "x0": 1,
           "y": [
            0,
            0
           ]
          },
          {
           "dy": 10,
           "mode": "lines+markers",
           "name": "user_20",
           "type": "scatter",
           "x0": 1,
           "y": [
            0,
            0
           ]
          },
          {
           "dy": 10,
           "mode": "lines+markers",
           "name": "user_21",
           "type": "scatter",
           "x0": 1,
           "y": [
            0,
            0
           ]
          },
          {
           "dy": 10,
           "mode": "lines+markers",
           "name": "user_22",
           "type": "scatter",
           "x0": 1,
           "y": [
            0,
            0
           ]
          },
          {
           "dy": 10,
           "mode": "lines+markers",
           "name": "user_24",
           "type": "scatter",
           "x0": 1,
           "y": [
            0,
            0
           ]
          },
          {
           "dy": 10,
           "mode": "lines+markers",
           "name": "user_25",
           "type": "scatter",
           "x0": 1,
           "y": [
            0,
            0
           ]
          },
          {
           "dy": 10,
           "mode": "lines+markers",
           "name": "user_26",
           "type": "scatter",
           "x0": 1,
           "y": [
            0,
            0
           ]
          },
          {
           "dy": 10,
           "mode": "lines+markers",
           "name": "user_27",
           "type": "scatter",
           "x0": 1,
           "y": [
            0,
            0
           ]
          },
          {
           "dy": 10,
           "mode": "lines+markers",
           "name": "user_28",
           "type": "scatter",
           "x0": 1,
           "y": [
            0,
            0
           ]
          },
          {
           "dy": 10,
           "mode": "lines+markers",
           "name": "user_29",
           "type": "scatter",
           "x0": 1,
           "y": [
            0,
            0
           ]
          },
          {
           "dy": 10,
           "mode": "lines+markers",
           "name": "user_3",
           "type": "scatter",
           "x0": 1,
           "y": [
            0,
            0
           ]
          },
          {
           "dy": 10,
           "mode": "lines+markers",
           "name": "user_30",
           "type": "scatter",
           "x0": 1,
           "y": [
            0,
            0
           ]
          },
          {
           "dy": 10,
           "mode": "lines+markers",
           "name": "user_31",
           "type": "scatter",
           "x0": 1,
           "y": [
            0,
            0
           ]
          },
          {
           "dy": 10,
           "mode": "lines+markers",
           "name": "user_4",
           "type": "scatter",
           "x0": 1,
           "y": [
            7,
            7
           ]
          },
          {
           "dy": 10,
           "mode": "lines+markers",
           "name": "user_6",
           "type": "scatter",
           "x0": 1,
           "y": [
            0,
            0
           ]
          },
          {
           "dy": 10,
           "mode": "lines+markers",
           "name": "user_8",
           "type": "scatter",
           "x0": 1,
           "y": [
            0,
            0
           ]
          }
         ]
        },
        {
         "data": [
          {
           "dy": 10,
           "mode": "lines+markers",
           "name": "user_1",
           "type": "scatter",
           "x0": 1,
           "y": [
            0,
            0,
            0
           ]
          },
          {
           "dy": 10,
           "mode": "lines+markers",
           "name": "user_10",
           "type": "scatter",
           "x0": 1,
           "y": [
            0,
            0,
            0
           ]
          },
          {
           "dy": 10,
           "mode": "lines+markers",
           "name": "user_11",
           "type": "scatter",
           "x0": 1,
           "y": [
            0,
            0,
            0
           ]
          },
          {
           "dy": 10,
           "mode": "lines+markers",
           "name": "user_12",
           "type": "scatter",
           "x0": 1,
           "y": [
            0,
            0,
            0
           ]
          },
          {
           "dy": 10,
           "mode": "lines+markers",
           "name": "user_13",
           "type": "scatter",
           "x0": 1,
           "y": [
            0,
            0,
            0
           ]
          },
          {
           "dy": 10,
           "mode": "lines+markers",
           "name": "user_14",
           "type": "scatter",
           "x0": 1,
           "y": [
            0,
            0,
            0
           ]
          },
          {
           "dy": 10,
           "mode": "lines+markers",
           "name": "user_15",
           "type": "scatter",
           "x0": 1,
           "y": [
            0,
            0,
            0
           ]
          },
          {
           "dy": 10,
           "mode": "lines+markers",
           "name": "user_16",
           "type": "scatter",
           "x0": 1,
           "y": [
            0,
            0,
            0
           ]
          },
          {
           "dy": 10,
           "mode": "lines+markers",
           "name": "user_17",
           "type": "scatter",
           "x0": 1,
           "y": [
            0,
            1,
            1
           ]
          },
          {
           "dy": 10,
           "mode": "lines+markers",
           "name": "user_18",
           "type": "scatter",
           "x0": 1,
           "y": [
            0,
            0,
            0
           ]
          },
          {
           "dy": 10,
           "mode": "lines+markers",
           "name": "user_19",
           "type": "scatter",
           "x0": 1,
           "y": [
            0,
            0,
            0
           ]
          },
          {
           "dy": 10,
           "mode": "lines+markers",
           "name": "user_2",
           "type": "scatter",
           "x0": 1,
           "y": [
            0,
            0,
            0
           ]
          },
          {
           "dy": 10,
           "mode": "lines+markers",
           "name": "user_20",
           "type": "scatter",
           "x0": 1,
           "y": [
            0,
            0,
            0
           ]
          },
          {
           "dy": 10,
           "mode": "lines+markers",
           "name": "user_21",
           "type": "scatter",
           "x0": 1,
           "y": [
            0,
            0,
            0
           ]
          },
          {
           "dy": 10,
           "mode": "lines+markers",
           "name": "user_22",
           "type": "scatter",
           "x0": 1,
           "y": [
            0,
            0,
            0
           ]
          },
          {
           "dy": 10,
           "mode": "lines+markers",
           "name": "user_24",
           "type": "scatter",
           "x0": 1,
           "y": [
            0,
            0,
            0
           ]
          },
          {
           "dy": 10,
           "mode": "lines+markers",
           "name": "user_25",
           "type": "scatter",
           "x0": 1,
           "y": [
            0,
            0,
            0
           ]
          },
          {
           "dy": 10,
           "mode": "lines+markers",
           "name": "user_26",
           "type": "scatter",
           "x0": 1,
           "y": [
            0,
            0,
            0
           ]
          },
          {
           "dy": 10,
           "mode": "lines+markers",
           "name": "user_27",
           "type": "scatter",
           "x0": 1,
           "y": [
            0,
            0,
            0
           ]
          },
          {
           "dy": 10,
           "mode": "lines+markers",
           "name": "user_28",
           "type": "scatter",
           "x0": 1,
           "y": [
            0,
            0,
            0
           ]
          },
          {
           "dy": 10,
           "mode": "lines+markers",
           "name": "user_29",
           "type": "scatter",
           "x0": 1,
           "y": [
            0,
            0,
            0
           ]
          },
          {
           "dy": 10,
           "mode": "lines+markers",
           "name": "user_3",
           "type": "scatter",
           "x0": 1,
           "y": [
            0,
            0,
            0
           ]
          },
          {
           "dy": 10,
           "mode": "lines+markers",
           "name": "user_30",
           "type": "scatter",
           "x0": 1,
           "y": [
            0,
            0,
            0
           ]
          },
          {
           "dy": 10,
           "mode": "lines+markers",
           "name": "user_31",
           "type": "scatter",
           "x0": 1,
           "y": [
            0,
            0,
            0
           ]
          },
          {
           "dy": 10,
           "mode": "lines+markers",
           "name": "user_4",
           "type": "scatter",
           "x0": 1,
           "y": [
            7,
            7,
            11
           ]
          },
          {
           "dy": 10,
           "mode": "lines+markers",
           "name": "user_6",
           "type": "scatter",
           "x0": 1,
           "y": [
            0,
            0,
            0
           ]
          },
          {
           "dy": 10,
           "mode": "lines+markers",
           "name": "user_8",
           "type": "scatter",
           "x0": 1,
           "y": [
            0,
            0,
            0
           ]
          }
         ]
        },
        {
         "data": [
          {
           "dy": 10,
           "mode": "lines+markers",
           "name": "user_1",
           "type": "scatter",
           "x0": 1,
           "y": [
            0,
            0,
            0,
            0
           ]
          },
          {
           "dy": 10,
           "mode": "lines+markers",
           "name": "user_10",
           "type": "scatter",
           "x0": 1,
           "y": [
            0,
            0,
            0,
            0
           ]
          },
          {
           "dy": 10,
           "mode": "lines+markers",
           "name": "user_11",
           "type": "scatter",
           "x0": 1,
           "y": [
            0,
            0,
            0,
            0
           ]
          },
          {
           "dy": 10,
           "mode": "lines+markers",
           "name": "user_12",
           "type": "scatter",
           "x0": 1,
           "y": [
            0,
            0,
            0,
            0
           ]
          },
          {
           "dy": 10,
           "mode": "lines+markers",
           "name": "user_13",
           "type": "scatter",
           "x0": 1,
           "y": [
            0,
            0,
            0,
            0
           ]
          },
          {
           "dy": 10,
           "mode": "lines+markers",
           "name": "user_14",
           "type": "scatter",
           "x0": 1,
           "y": [
            0,
            0,
            0,
            0
           ]
          },
          {
           "dy": 10,
           "mode": "lines+markers",
           "name": "user_15",
           "type": "scatter",
           "x0": 1,
           "y": [
            0,
            0,
            0,
            0
           ]
          },
          {
           "dy": 10,
           "mode": "lines+markers",
           "name": "user_16",
           "type": "scatter",
           "x0": 1,
           "y": [
            0,
            0,
            0,
            0
           ]
          },
          {
           "dy": 10,
           "mode": "lines+markers",
           "name": "user_17",
           "type": "scatter",
           "x0": 1,
           "y": [
            0,
            1,
            1,
            1
           ]
          },
          {
           "dy": 10,
           "mode": "lines+markers",
           "name": "user_18",
           "type": "scatter",
           "x0": 1,
           "y": [
            0,
            0,
            0,
            0
           ]
          },
          {
           "dy": 10,
           "mode": "lines+markers",
           "name": "user_19",
           "type": "scatter",
           "x0": 1,
           "y": [
            0,
            0,
            0,
            0
           ]
          },
          {
           "dy": 10,
           "mode": "lines+markers",
           "name": "user_2",
           "type": "scatter",
           "x0": 1,
           "y": [
            0,
            0,
            0,
            0
           ]
          },
          {
           "dy": 10,
           "mode": "lines+markers",
           "name": "user_20",
           "type": "scatter",
           "x0": 1,
           "y": [
            0,
            0,
            0,
            0
           ]
          },
          {
           "dy": 10,
           "mode": "lines+markers",
           "name": "user_21",
           "type": "scatter",
           "x0": 1,
           "y": [
            0,
            0,
            0,
            0
           ]
          },
          {
           "dy": 10,
           "mode": "lines+markers",
           "name": "user_22",
           "type": "scatter",
           "x0": 1,
           "y": [
            0,
            0,
            0,
            0
           ]
          },
          {
           "dy": 10,
           "mode": "lines+markers",
           "name": "user_24",
           "type": "scatter",
           "x0": 1,
           "y": [
            0,
            0,
            0,
            0
           ]
          },
          {
           "dy": 10,
           "mode": "lines+markers",
           "name": "user_25",
           "type": "scatter",
           "x0": 1,
           "y": [
            0,
            0,
            0,
            0
           ]
          },
          {
           "dy": 10,
           "mode": "lines+markers",
           "name": "user_26",
           "type": "scatter",
           "x0": 1,
           "y": [
            0,
            0,
            0,
            0
           ]
          },
          {
           "dy": 10,
           "mode": "lines+markers",
           "name": "user_27",
           "type": "scatter",
           "x0": 1,
           "y": [
            0,
            0,
            0,
            0
           ]
          },
          {
           "dy": 10,
           "mode": "lines+markers",
           "name": "user_28",
           "type": "scatter",
           "x0": 1,
           "y": [
            0,
            0,
            0,
            0
           ]
          },
          {
           "dy": 10,
           "mode": "lines+markers",
           "name": "user_29",
           "type": "scatter",
           "x0": 1,
           "y": [
            0,
            0,
            0,
            0
           ]
          },
          {
           "dy": 10,
           "mode": "lines+markers",
           "name": "user_3",
           "type": "scatter",
           "x0": 1,
           "y": [
            0,
            0,
            0,
            0
           ]
          },
          {
           "dy": 10,
           "mode": "lines+markers",
           "name": "user_30",
           "type": "scatter",
           "x0": 1,
           "y": [
            0,
            0,
            0,
            1
           ]
          },
          {
           "dy": 10,
           "mode": "lines+markers",
           "name": "user_31",
           "type": "scatter",
           "x0": 1,
           "y": [
            0,
            0,
            0,
            0
           ]
          },
          {
           "dy": 10,
           "mode": "lines+markers",
           "name": "user_4",
           "type": "scatter",
           "x0": 1,
           "y": [
            7,
            7,
            11,
            11
           ]
          },
          {
           "dy": 10,
           "mode": "lines+markers",
           "name": "user_6",
           "type": "scatter",
           "x0": 1,
           "y": [
            0,
            0,
            0,
            0
           ]
          },
          {
           "dy": 10,
           "mode": "lines+markers",
           "name": "user_8",
           "type": "scatter",
           "x0": 1,
           "y": [
            0,
            0,
            0,
            0
           ]
          }
         ]
        },
        {
         "data": [
          {
           "dy": 10,
           "mode": "lines+markers",
           "name": "user_1",
           "type": "scatter",
           "x0": 1,
           "y": [
            0,
            0,
            0,
            0,
            0
           ]
          },
          {
           "dy": 10,
           "mode": "lines+markers",
           "name": "user_10",
           "type": "scatter",
           "x0": 1,
           "y": [
            0,
            0,
            0,
            0,
            0
           ]
          },
          {
           "dy": 10,
           "mode": "lines+markers",
           "name": "user_11",
           "type": "scatter",
           "x0": 1,
           "y": [
            0,
            0,
            0,
            0,
            0
           ]
          },
          {
           "dy": 10,
           "mode": "lines+markers",
           "name": "user_12",
           "type": "scatter",
           "x0": 1,
           "y": [
            0,
            0,
            0,
            0,
            0
           ]
          },
          {
           "dy": 10,
           "mode": "lines+markers",
           "name": "user_13",
           "type": "scatter",
           "x0": 1,
           "y": [
            0,
            0,
            0,
            0,
            0
           ]
          },
          {
           "dy": 10,
           "mode": "lines+markers",
           "name": "user_14",
           "type": "scatter",
           "x0": 1,
           "y": [
            0,
            0,
            0,
            0,
            0
           ]
          },
          {
           "dy": 10,
           "mode": "lines+markers",
           "name": "user_15",
           "type": "scatter",
           "x0": 1,
           "y": [
            0,
            0,
            0,
            0,
            0
           ]
          },
          {
           "dy": 10,
           "mode": "lines+markers",
           "name": "user_16",
           "type": "scatter",
           "x0": 1,
           "y": [
            0,
            0,
            0,
            0,
            0
           ]
          },
          {
           "dy": 10,
           "mode": "lines+markers",
           "name": "user_17",
           "type": "scatter",
           "x0": 1,
           "y": [
            0,
            1,
            1,
            1,
            1
           ]
          },
          {
           "dy": 10,
           "mode": "lines+markers",
           "name": "user_18",
           "type": "scatter",
           "x0": 1,
           "y": [
            0,
            0,
            0,
            0,
            0
           ]
          },
          {
           "dy": 10,
           "mode": "lines+markers",
           "name": "user_19",
           "type": "scatter",
           "x0": 1,
           "y": [
            0,
            0,
            0,
            0,
            0
           ]
          },
          {
           "dy": 10,
           "mode": "lines+markers",
           "name": "user_2",
           "type": "scatter",
           "x0": 1,
           "y": [
            0,
            0,
            0,
            0,
            0
           ]
          },
          {
           "dy": 10,
           "mode": "lines+markers",
           "name": "user_20",
           "type": "scatter",
           "x0": 1,
           "y": [
            0,
            0,
            0,
            0,
            0
           ]
          },
          {
           "dy": 10,
           "mode": "lines+markers",
           "name": "user_21",
           "type": "scatter",
           "x0": 1,
           "y": [
            0,
            0,
            0,
            0,
            0
           ]
          },
          {
           "dy": 10,
           "mode": "lines+markers",
           "name": "user_22",
           "type": "scatter",
           "x0": 1,
           "y": [
            0,
            0,
            0,
            0,
            0
           ]
          },
          {
           "dy": 10,
           "mode": "lines+markers",
           "name": "user_24",
           "type": "scatter",
           "x0": 1,
           "y": [
            0,
            0,
            0,
            0,
            0
           ]
          },
          {
           "dy": 10,
           "mode": "lines+markers",
           "name": "user_25",
           "type": "scatter",
           "x0": 1,
           "y": [
            0,
            0,
            0,
            0,
            0
           ]
          },
          {
           "dy": 10,
           "mode": "lines+markers",
           "name": "user_26",
           "type": "scatter",
           "x0": 1,
           "y": [
            0,
            0,
            0,
            0,
            0
           ]
          },
          {
           "dy": 10,
           "mode": "lines+markers",
           "name": "user_27",
           "type": "scatter",
           "x0": 1,
           "y": [
            0,
            0,
            0,
            0,
            0
           ]
          },
          {
           "dy": 10,
           "mode": "lines+markers",
           "name": "user_28",
           "type": "scatter",
           "x0": 1,
           "y": [
            0,
            0,
            0,
            0,
            0
           ]
          },
          {
           "dy": 10,
           "mode": "lines+markers",
           "name": "user_29",
           "type": "scatter",
           "x0": 1,
           "y": [
            0,
            0,
            0,
            0,
            0
           ]
          },
          {
           "dy": 10,
           "mode": "lines+markers",
           "name": "user_3",
           "type": "scatter",
           "x0": 1,
           "y": [
            0,
            0,
            0,
            0,
            0
           ]
          },
          {
           "dy": 10,
           "mode": "lines+markers",
           "name": "user_30",
           "type": "scatter",
           "x0": 1,
           "y": [
            0,
            0,
            0,
            1,
            2
           ]
          },
          {
           "dy": 10,
           "mode": "lines+markers",
           "name": "user_31",
           "type": "scatter",
           "x0": 1,
           "y": [
            0,
            0,
            0,
            0,
            0
           ]
          },
          {
           "dy": 10,
           "mode": "lines+markers",
           "name": "user_4",
           "type": "scatter",
           "x0": 1,
           "y": [
            7,
            7,
            11,
            11,
            20
           ]
          },
          {
           "dy": 10,
           "mode": "lines+markers",
           "name": "user_6",
           "type": "scatter",
           "x0": 1,
           "y": [
            0,
            0,
            0,
            0,
            0
           ]
          },
          {
           "dy": 10,
           "mode": "lines+markers",
           "name": "user_8",
           "type": "scatter",
           "x0": 1,
           "y": [
            0,
            0,
            0,
            0,
            0
           ]
          }
         ]
        },
        {
         "data": [
          {
           "dy": 10,
           "mode": "lines+markers",
           "name": "user_1",
           "type": "scatter",
           "x0": 1,
           "y": [
            0,
            0,
            0,
            0,
            0,
            0
           ]
          },
          {
           "dy": 10,
           "mode": "lines+markers",
           "name": "user_10",
           "type": "scatter",
           "x0": 1,
           "y": [
            0,
            0,
            0,
            0,
            0,
            0
           ]
          },
          {
           "dy": 10,
           "mode": "lines+markers",
           "name": "user_11",
           "type": "scatter",
           "x0": 1,
           "y": [
            0,
            0,
            0,
            0,
            0,
            0
           ]
          },
          {
           "dy": 10,
           "mode": "lines+markers",
           "name": "user_12",
           "type": "scatter",
           "x0": 1,
           "y": [
            0,
            0,
            0,
            0,
            0,
            0
           ]
          },
          {
           "dy": 10,
           "mode": "lines+markers",
           "name": "user_13",
           "type": "scatter",
           "x0": 1,
           "y": [
            0,
            0,
            0,
            0,
            0,
            0
           ]
          },
          {
           "dy": 10,
           "mode": "lines+markers",
           "name": "user_14",
           "type": "scatter",
           "x0": 1,
           "y": [
            0,
            0,
            0,
            0,
            0,
            0
           ]
          },
          {
           "dy": 10,
           "mode": "lines+markers",
           "name": "user_15",
           "type": "scatter",
           "x0": 1,
           "y": [
            0,
            0,
            0,
            0,
            0,
            0
           ]
          },
          {
           "dy": 10,
           "mode": "lines+markers",
           "name": "user_16",
           "type": "scatter",
           "x0": 1,
           "y": [
            0,
            0,
            0,
            0,
            0,
            0
           ]
          },
          {
           "dy": 10,
           "mode": "lines+markers",
           "name": "user_17",
           "type": "scatter",
           "x0": 1,
           "y": [
            0,
            1,
            1,
            1,
            1,
            1
           ]
          },
          {
           "dy": 10,
           "mode": "lines+markers",
           "name": "user_18",
           "type": "scatter",
           "x0": 1,
           "y": [
            0,
            0,
            0,
            0,
            0,
            0
           ]
          },
          {
           "dy": 10,
           "mode": "lines+markers",
           "name": "user_19",
           "type": "scatter",
           "x0": 1,
           "y": [
            0,
            0,
            0,
            0,
            0,
            0
           ]
          },
          {
           "dy": 10,
           "mode": "lines+markers",
           "name": "user_2",
           "type": "scatter",
           "x0": 1,
           "y": [
            0,
            0,
            0,
            0,
            0,
            0
           ]
          },
          {
           "dy": 10,
           "mode": "lines+markers",
           "name": "user_20",
           "type": "scatter",
           "x0": 1,
           "y": [
            0,
            0,
            0,
            0,
            0,
            0
           ]
          },
          {
           "dy": 10,
           "mode": "lines+markers",
           "name": "user_21",
           "type": "scatter",
           "x0": 1,
           "y": [
            0,
            0,
            0,
            0,
            0,
            0
           ]
          },
          {
           "dy": 10,
           "mode": "lines+markers",
           "name": "user_22",
           "type": "scatter",
           "x0": 1,
           "y": [
            0,
            0,
            0,
            0,
            0,
            0
           ]
          },
          {
           "dy": 10,
           "mode": "lines+markers",
           "name": "user_24",
           "type": "scatter",
           "x0": 1,
           "y": [
            0,
            0,
            0,
            0,
            0,
            0
           ]
          },
          {
           "dy": 10,
           "mode": "lines+markers",
           "name": "user_25",
           "type": "scatter",
           "x0": 1,
           "y": [
            0,
            0,
            0,
            0,
            0,
            0
           ]
          },
          {
           "dy": 10,
           "mode": "lines+markers",
           "name": "user_26",
           "type": "scatter",
           "x0": 1,
           "y": [
            0,
            0,
            0,
            0,
            0,
            0
           ]
          },
          {
           "dy": 10,
           "mode": "lines+markers",
           "name": "user_27",
           "type": "scatter",
           "x0": 1,
           "y": [
            0,
            0,
            0,
            0,
            0,
            0
           ]
          },
          {
           "dy": 10,
           "mode": "lines+markers",
           "name": "user_28",
           "type": "scatter",
           "x0": 1,
           "y": [
            0,
            0,
            0,
            0,
            0,
            0
           ]
          },
          {
           "dy": 10,
           "mode": "lines+markers",
           "name": "user_29",
           "type": "scatter",
           "x0": 1,
           "y": [
            0,
            0,
            0,
            0,
            0,
            0
           ]
          },
          {
           "dy": 10,
           "mode": "lines+markers",
           "name": "user_3",
           "type": "scatter",
           "x0": 1,
           "y": [
            0,
            0,
            0,
            0,
            0,
            0
           ]
          },
          {
           "dy": 10,
           "mode": "lines+markers",
           "name": "user_30",
           "type": "scatter",
           "x0": 1,
           "y": [
            0,
            0,
            0,
            1,
            2,
            2
           ]
          },
          {
           "dy": 10,
           "mode": "lines+markers",
           "name": "user_31",
           "type": "scatter",
           "x0": 1,
           "y": [
            0,
            0,
            0,
            0,
            0,
            0
           ]
          },
          {
           "dy": 10,
           "mode": "lines+markers",
           "name": "user_4",
           "type": "scatter",
           "x0": 1,
           "y": [
            7,
            7,
            11,
            11,
            20,
            27
           ]
          },
          {
           "dy": 10,
           "mode": "lines+markers",
           "name": "user_6",
           "type": "scatter",
           "x0": 1,
           "y": [
            0,
            0,
            0,
            0,
            0,
            0
           ]
          },
          {
           "dy": 10,
           "mode": "lines+markers",
           "name": "user_8",
           "type": "scatter",
           "x0": 1,
           "y": [
            0,
            0,
            0,
            0,
            0,
            0
           ]
          }
         ]
        },
        {
         "data": [
          {
           "dy": 10,
           "mode": "lines+markers",
           "name": "user_1",
           "type": "scatter",
           "x0": 1,
           "y": [
            0,
            0,
            0,
            0,
            0,
            0,
            0
           ]
          },
          {
           "dy": 10,
           "mode": "lines+markers",
           "name": "user_10",
           "type": "scatter",
           "x0": 1,
           "y": [
            0,
            0,
            0,
            0,
            0,
            0,
            0
           ]
          },
          {
           "dy": 10,
           "mode": "lines+markers",
           "name": "user_11",
           "type": "scatter",
           "x0": 1,
           "y": [
            0,
            0,
            0,
            0,
            0,
            0,
            1
           ]
          },
          {
           "dy": 10,
           "mode": "lines+markers",
           "name": "user_12",
           "type": "scatter",
           "x0": 1,
           "y": [
            0,
            0,
            0,
            0,
            0,
            0,
            0
           ]
          },
          {
           "dy": 10,
           "mode": "lines+markers",
           "name": "user_13",
           "type": "scatter",
           "x0": 1,
           "y": [
            0,
            0,
            0,
            0,
            0,
            0,
            0
           ]
          },
          {
           "dy": 10,
           "mode": "lines+markers",
           "name": "user_14",
           "type": "scatter",
           "x0": 1,
           "y": [
            0,
            0,
            0,
            0,
            0,
            0,
            0
           ]
          },
          {
           "dy": 10,
           "mode": "lines+markers",
           "name": "user_15",
           "type": "scatter",
           "x0": 1,
           "y": [
            0,
            0,
            0,
            0,
            0,
            0,
            0
           ]
          },
          {
           "dy": 10,
           "mode": "lines+markers",
           "name": "user_16",
           "type": "scatter",
           "x0": 1,
           "y": [
            0,
            0,
            0,
            0,
            0,
            0,
            0
           ]
          },
          {
           "dy": 10,
           "mode": "lines+markers",
           "name": "user_17",
           "type": "scatter",
           "x0": 1,
           "y": [
            0,
            1,
            1,
            1,
            1,
            1,
            1
           ]
          },
          {
           "dy": 10,
           "mode": "lines+markers",
           "name": "user_18",
           "type": "scatter",
           "x0": 1,
           "y": [
            0,
            0,
            0,
            0,
            0,
            0,
            0
           ]
          },
          {
           "dy": 10,
           "mode": "lines+markers",
           "name": "user_19",
           "type": "scatter",
           "x0": 1,
           "y": [
            0,
            0,
            0,
            0,
            0,
            0,
            0
           ]
          },
          {
           "dy": 10,
           "mode": "lines+markers",
           "name": "user_2",
           "type": "scatter",
           "x0": 1,
           "y": [
            0,
            0,
            0,
            0,
            0,
            0,
            0
           ]
          },
          {
           "dy": 10,
           "mode": "lines+markers",
           "name": "user_20",
           "type": "scatter",
           "x0": 1,
           "y": [
            0,
            0,
            0,
            0,
            0,
            0,
            0
           ]
          },
          {
           "dy": 10,
           "mode": "lines+markers",
           "name": "user_21",
           "type": "scatter",
           "x0": 1,
           "y": [
            0,
            0,
            0,
            0,
            0,
            0,
            0
           ]
          },
          {
           "dy": 10,
           "mode": "lines+markers",
           "name": "user_22",
           "type": "scatter",
           "x0": 1,
           "y": [
            0,
            0,
            0,
            0,
            0,
            0,
            1
           ]
          },
          {
           "dy": 10,
           "mode": "lines+markers",
           "name": "user_24",
           "type": "scatter",
           "x0": 1,
           "y": [
            0,
            0,
            0,
            0,
            0,
            0,
            0
           ]
          },
          {
           "dy": 10,
           "mode": "lines+markers",
           "name": "user_25",
           "type": "scatter",
           "x0": 1,
           "y": [
            0,
            0,
            0,
            0,
            0,
            0,
            0
           ]
          },
          {
           "dy": 10,
           "mode": "lines+markers",
           "name": "user_26",
           "type": "scatter",
           "x0": 1,
           "y": [
            0,
            0,
            0,
            0,
            0,
            0,
            0
           ]
          },
          {
           "dy": 10,
           "mode": "lines+markers",
           "name": "user_27",
           "type": "scatter",
           "x0": 1,
           "y": [
            0,
            0,
            0,
            0,
            0,
            0,
            0
           ]
          },
          {
           "dy": 10,
           "mode": "lines+markers",
           "name": "user_28",
           "type": "scatter",
           "x0": 1,
           "y": [
            0,
            0,
            0,
            0,
            0,
            0,
            0
           ]
          },
          {
           "dy": 10,
           "mode": "lines+markers",
           "name": "user_29",
           "type": "scatter",
           "x0": 1,
           "y": [
            0,
            0,
            0,
            0,
            0,
            0,
            0
           ]
          },
          {
           "dy": 10,
           "mode": "lines+markers",
           "name": "user_3",
           "type": "scatter",
           "x0": 1,
           "y": [
            0,
            0,
            0,
            0,
            0,
            0,
            0
           ]
          },
          {
           "dy": 10,
           "mode": "lines+markers",
           "name": "user_30",
           "type": "scatter",
           "x0": 1,
           "y": [
            0,
            0,
            0,
            1,
            2,
            2,
            4
           ]
          },
          {
           "dy": 10,
           "mode": "lines+markers",
           "name": "user_31",
           "type": "scatter",
           "x0": 1,
           "y": [
            0,
            0,
            0,
            0,
            0,
            0,
            0
           ]
          },
          {
           "dy": 10,
           "mode": "lines+markers",
           "name": "user_4",
           "type": "scatter",
           "x0": 1,
           "y": [
            7,
            7,
            11,
            11,
            20,
            27,
            35
           ]
          },
          {
           "dy": 10,
           "mode": "lines+markers",
           "name": "user_6",
           "type": "scatter",
           "x0": 1,
           "y": [
            0,
            0,
            0,
            0,
            0,
            0,
            0
           ]
          },
          {
           "dy": 10,
           "mode": "lines+markers",
           "name": "user_8",
           "type": "scatter",
           "x0": 1,
           "y": [
            0,
            0,
            0,
            0,
            0,
            0,
            0
           ]
          }
         ]
        },
        {
         "data": [
          {
           "dy": 10,
           "mode": "lines+markers",
           "name": "user_1",
           "type": "scatter",
           "x0": 1,
           "y": [
            0,
            0,
            0,
            0,
            0,
            0,
            0,
            0
           ]
          },
          {
           "dy": 10,
           "mode": "lines+markers",
           "name": "user_10",
           "type": "scatter",
           "x0": 1,
           "y": [
            0,
            0,
            0,
            0,
            0,
            0,
            0,
            0
           ]
          },
          {
           "dy": 10,
           "mode": "lines+markers",
           "name": "user_11",
           "type": "scatter",
           "x0": 1,
           "y": [
            0,
            0,
            0,
            0,
            0,
            0,
            1,
            1
           ]
          },
          {
           "dy": 10,
           "mode": "lines+markers",
           "name": "user_12",
           "type": "scatter",
           "x0": 1,
           "y": [
            0,
            0,
            0,
            0,
            0,
            0,
            0,
            0
           ]
          },
          {
           "dy": 10,
           "mode": "lines+markers",
           "name": "user_13",
           "type": "scatter",
           "x0": 1,
           "y": [
            0,
            0,
            0,
            0,
            0,
            0,
            0,
            0
           ]
          },
          {
           "dy": 10,
           "mode": "lines+markers",
           "name": "user_14",
           "type": "scatter",
           "x0": 1,
           "y": [
            0,
            0,
            0,
            0,
            0,
            0,
            0,
            0
           ]
          },
          {
           "dy": 10,
           "mode": "lines+markers",
           "name": "user_15",
           "type": "scatter",
           "x0": 1,
           "y": [
            0,
            0,
            0,
            0,
            0,
            0,
            0,
            0
           ]
          },
          {
           "dy": 10,
           "mode": "lines+markers",
           "name": "user_16",
           "type": "scatter",
           "x0": 1,
           "y": [
            0,
            0,
            0,
            0,
            0,
            0,
            0,
            0
           ]
          },
          {
           "dy": 10,
           "mode": "lines+markers",
           "name": "user_17",
           "type": "scatter",
           "x0": 1,
           "y": [
            0,
            1,
            1,
            1,
            1,
            1,
            1,
            1
           ]
          },
          {
           "dy": 10,
           "mode": "lines+markers",
           "name": "user_18",
           "type": "scatter",
           "x0": 1,
           "y": [
            0,
            0,
            0,
            0,
            0,
            0,
            0,
            0
           ]
          },
          {
           "dy": 10,
           "mode": "lines+markers",
           "name": "user_19",
           "type": "scatter",
           "x0": 1,
           "y": [
            0,
            0,
            0,
            0,
            0,
            0,
            0,
            0
           ]
          },
          {
           "dy": 10,
           "mode": "lines+markers",
           "name": "user_2",
           "type": "scatter",
           "x0": 1,
           "y": [
            0,
            0,
            0,
            0,
            0,
            0,
            0,
            0
           ]
          },
          {
           "dy": 10,
           "mode": "lines+markers",
           "name": "user_20",
           "type": "scatter",
           "x0": 1,
           "y": [
            0,
            0,
            0,
            0,
            0,
            0,
            0,
            0
           ]
          },
          {
           "dy": 10,
           "mode": "lines+markers",
           "name": "user_21",
           "type": "scatter",
           "x0": 1,
           "y": [
            0,
            0,
            0,
            0,
            0,
            0,
            0,
            0
           ]
          },
          {
           "dy": 10,
           "mode": "lines+markers",
           "name": "user_22",
           "type": "scatter",
           "x0": 1,
           "y": [
            0,
            0,
            0,
            0,
            0,
            0,
            1,
            1
           ]
          },
          {
           "dy": 10,
           "mode": "lines+markers",
           "name": "user_24",
           "type": "scatter",
           "x0": 1,
           "y": [
            0,
            0,
            0,
            0,
            0,
            0,
            0,
            0
           ]
          },
          {
           "dy": 10,
           "mode": "lines+markers",
           "name": "user_25",
           "type": "scatter",
           "x0": 1,
           "y": [
            0,
            0,
            0,
            0,
            0,
            0,
            0,
            0
           ]
          },
          {
           "dy": 10,
           "mode": "lines+markers",
           "name": "user_26",
           "type": "scatter",
           "x0": 1,
           "y": [
            0,
            0,
            0,
            0,
            0,
            0,
            0,
            0
           ]
          },
          {
           "dy": 10,
           "mode": "lines+markers",
           "name": "user_27",
           "type": "scatter",
           "x0": 1,
           "y": [
            0,
            0,
            0,
            0,
            0,
            0,
            0,
            0
           ]
          },
          {
           "dy": 10,
           "mode": "lines+markers",
           "name": "user_28",
           "type": "scatter",
           "x0": 1,
           "y": [
            0,
            0,
            0,
            0,
            0,
            0,
            0,
            0
           ]
          },
          {
           "dy": 10,
           "mode": "lines+markers",
           "name": "user_29",
           "type": "scatter",
           "x0": 1,
           "y": [
            0,
            0,
            0,
            0,
            0,
            0,
            0,
            0
           ]
          },
          {
           "dy": 10,
           "mode": "lines+markers",
           "name": "user_3",
           "type": "scatter",
           "x0": 1,
           "y": [
            0,
            0,
            0,
            0,
            0,
            0,
            0,
            0
           ]
          },
          {
           "dy": 10,
           "mode": "lines+markers",
           "name": "user_30",
           "type": "scatter",
           "x0": 1,
           "y": [
            0,
            0,
            0,
            1,
            2,
            2,
            4,
            5
           ]
          },
          {
           "dy": 10,
           "mode": "lines+markers",
           "name": "user_31",
           "type": "scatter",
           "x0": 1,
           "y": [
            0,
            0,
            0,
            0,
            0,
            0,
            0,
            0
           ]
          },
          {
           "dy": 10,
           "mode": "lines+markers",
           "name": "user_4",
           "type": "scatter",
           "x0": 1,
           "y": [
            7,
            7,
            11,
            11,
            20,
            27,
            35,
            48
           ]
          },
          {
           "dy": 10,
           "mode": "lines+markers",
           "name": "user_6",
           "type": "scatter",
           "x0": 1,
           "y": [
            0,
            0,
            0,
            0,
            0,
            0,
            0,
            0
           ]
          },
          {
           "dy": 10,
           "mode": "lines+markers",
           "name": "user_8",
           "type": "scatter",
           "x0": 1,
           "y": [
            0,
            0,
            0,
            0,
            0,
            0,
            0,
            0
           ]
          }
         ]
        },
        {
         "data": [
          {
           "dy": 10,
           "mode": "lines+markers",
           "name": "user_1",
           "type": "scatter",
           "x0": 1,
           "y": [
            0,
            0,
            0,
            0,
            0,
            0,
            0,
            0,
            0
           ]
          },
          {
           "dy": 10,
           "mode": "lines+markers",
           "name": "user_10",
           "type": "scatter",
           "x0": 1,
           "y": [
            0,
            0,
            0,
            0,
            0,
            0,
            0,
            0,
            0
           ]
          },
          {
           "dy": 10,
           "mode": "lines+markers",
           "name": "user_11",
           "type": "scatter",
           "x0": 1,
           "y": [
            0,
            0,
            0,
            0,
            0,
            0,
            1,
            1,
            1
           ]
          },
          {
           "dy": 10,
           "mode": "lines+markers",
           "name": "user_12",
           "type": "scatter",
           "x0": 1,
           "y": [
            0,
            0,
            0,
            0,
            0,
            0,
            0,
            0,
            0
           ]
          },
          {
           "dy": 10,
           "mode": "lines+markers",
           "name": "user_13",
           "type": "scatter",
           "x0": 1,
           "y": [
            0,
            0,
            0,
            0,
            0,
            0,
            0,
            0,
            0
           ]
          },
          {
           "dy": 10,
           "mode": "lines+markers",
           "name": "user_14",
           "type": "scatter",
           "x0": 1,
           "y": [
            0,
            0,
            0,
            0,
            0,
            0,
            0,
            0,
            1
           ]
          },
          {
           "dy": 10,
           "mode": "lines+markers",
           "name": "user_15",
           "type": "scatter",
           "x0": 1,
           "y": [
            0,
            0,
            0,
            0,
            0,
            0,
            0,
            0,
            0
           ]
          },
          {
           "dy": 10,
           "mode": "lines+markers",
           "name": "user_16",
           "type": "scatter",
           "x0": 1,
           "y": [
            0,
            0,
            0,
            0,
            0,
            0,
            0,
            0,
            0
           ]
          },
          {
           "dy": 10,
           "mode": "lines+markers",
           "name": "user_17",
           "type": "scatter",
           "x0": 1,
           "y": [
            0,
            1,
            1,
            1,
            1,
            1,
            1,
            1,
            1
           ]
          },
          {
           "dy": 10,
           "mode": "lines+markers",
           "name": "user_18",
           "type": "scatter",
           "x0": 1,
           "y": [
            0,
            0,
            0,
            0,
            0,
            0,
            0,
            0,
            0
           ]
          },
          {
           "dy": 10,
           "mode": "lines+markers",
           "name": "user_19",
           "type": "scatter",
           "x0": 1,
           "y": [
            0,
            0,
            0,
            0,
            0,
            0,
            0,
            0,
            0
           ]
          },
          {
           "dy": 10,
           "mode": "lines+markers",
           "name": "user_2",
           "type": "scatter",
           "x0": 1,
           "y": [
            0,
            0,
            0,
            0,
            0,
            0,
            0,
            0,
            57
           ]
          },
          {
           "dy": 10,
           "mode": "lines+markers",
           "name": "user_20",
           "type": "scatter",
           "x0": 1,
           "y": [
            0,
            0,
            0,
            0,
            0,
            0,
            0,
            0,
            0
           ]
          },
          {
           "dy": 10,
           "mode": "lines+markers",
           "name": "user_21",
           "type": "scatter",
           "x0": 1,
           "y": [
            0,
            0,
            0,
            0,
            0,
            0,
            0,
            0,
            0
           ]
          },
          {
           "dy": 10,
           "mode": "lines+markers",
           "name": "user_22",
           "type": "scatter",
           "x0": 1,
           "y": [
            0,
            0,
            0,
            0,
            0,
            0,
            1,
            1,
            1
           ]
          },
          {
           "dy": 10,
           "mode": "lines+markers",
           "name": "user_24",
           "type": "scatter",
           "x0": 1,
           "y": [
            0,
            0,
            0,
            0,
            0,
            0,
            0,
            0,
            0
           ]
          },
          {
           "dy": 10,
           "mode": "lines+markers",
           "name": "user_25",
           "type": "scatter",
           "x0": 1,
           "y": [
            0,
            0,
            0,
            0,
            0,
            0,
            0,
            0,
            0
           ]
          },
          {
           "dy": 10,
           "mode": "lines+markers",
           "name": "user_26",
           "type": "scatter",
           "x0": 1,
           "y": [
            0,
            0,
            0,
            0,
            0,
            0,
            0,
            0,
            0
           ]
          },
          {
           "dy": 10,
           "mode": "lines+markers",
           "name": "user_27",
           "type": "scatter",
           "x0": 1,
           "y": [
            0,
            0,
            0,
            0,
            0,
            0,
            0,
            0,
            0
           ]
          },
          {
           "dy": 10,
           "mode": "lines+markers",
           "name": "user_28",
           "type": "scatter",
           "x0": 1,
           "y": [
            0,
            0,
            0,
            0,
            0,
            0,
            0,
            0,
            0
           ]
          },
          {
           "dy": 10,
           "mode": "lines+markers",
           "name": "user_29",
           "type": "scatter",
           "x0": 1,
           "y": [
            0,
            0,
            0,
            0,
            0,
            0,
            0,
            0,
            0
           ]
          },
          {
           "dy": 10,
           "mode": "lines+markers",
           "name": "user_3",
           "type": "scatter",
           "x0": 1,
           "y": [
            0,
            0,
            0,
            0,
            0,
            0,
            0,
            0,
            0
           ]
          },
          {
           "dy": 10,
           "mode": "lines+markers",
           "name": "user_30",
           "type": "scatter",
           "x0": 1,
           "y": [
            0,
            0,
            0,
            1,
            2,
            2,
            4,
            5,
            5
           ]
          },
          {
           "dy": 10,
           "mode": "lines+markers",
           "name": "user_31",
           "type": "scatter",
           "x0": 1,
           "y": [
            0,
            0,
            0,
            0,
            0,
            0,
            0,
            0,
            0
           ]
          },
          {
           "dy": 10,
           "mode": "lines+markers",
           "name": "user_4",
           "type": "scatter",
           "x0": 1,
           "y": [
            7,
            7,
            11,
            11,
            20,
            27,
            35,
            48,
            53
           ]
          },
          {
           "dy": 10,
           "mode": "lines+markers",
           "name": "user_6",
           "type": "scatter",
           "x0": 1,
           "y": [
            0,
            0,
            0,
            0,
            0,
            0,
            0,
            0,
            0
           ]
          },
          {
           "dy": 10,
           "mode": "lines+markers",
           "name": "user_8",
           "type": "scatter",
           "x0": 1,
           "y": [
            0,
            0,
            0,
            0,
            0,
            0,
            0,
            0,
            0
           ]
          }
         ]
        },
        {
         "data": [
          {
           "dy": 10,
           "mode": "lines+markers",
           "name": "user_1",
           "type": "scatter",
           "x0": 1,
           "y": [
            0,
            0,
            0,
            0,
            0,
            0,
            0,
            0,
            0,
            0
           ]
          },
          {
           "dy": 10,
           "mode": "lines+markers",
           "name": "user_10",
           "type": "scatter",
           "x0": 1,
           "y": [
            0,
            0,
            0,
            0,
            0,
            0,
            0,
            0,
            0,
            0
           ]
          },
          {
           "dy": 10,
           "mode": "lines+markers",
           "name": "user_11",
           "type": "scatter",
           "x0": 1,
           "y": [
            0,
            0,
            0,
            0,
            0,
            0,
            1,
            1,
            1,
            1
           ]
          },
          {
           "dy": 10,
           "mode": "lines+markers",
           "name": "user_12",
           "type": "scatter",
           "x0": 1,
           "y": [
            0,
            0,
            0,
            0,
            0,
            0,
            0,
            0,
            0,
            0
           ]
          },
          {
           "dy": 10,
           "mode": "lines+markers",
           "name": "user_13",
           "type": "scatter",
           "x0": 1,
           "y": [
            0,
            0,
            0,
            0,
            0,
            0,
            0,
            0,
            0,
            0
           ]
          },
          {
           "dy": 10,
           "mode": "lines+markers",
           "name": "user_14",
           "type": "scatter",
           "x0": 1,
           "y": [
            0,
            0,
            0,
            0,
            0,
            0,
            0,
            0,
            1,
            1
           ]
          },
          {
           "dy": 10,
           "mode": "lines+markers",
           "name": "user_15",
           "type": "scatter",
           "x0": 1,
           "y": [
            0,
            0,
            0,
            0,
            0,
            0,
            0,
            0,
            0,
            0
           ]
          },
          {
           "dy": 10,
           "mode": "lines+markers",
           "name": "user_16",
           "type": "scatter",
           "x0": 1,
           "y": [
            0,
            0,
            0,
            0,
            0,
            0,
            0,
            0,
            0,
            0
           ]
          },
          {
           "dy": 10,
           "mode": "lines+markers",
           "name": "user_17",
           "type": "scatter",
           "x0": 1,
           "y": [
            0,
            1,
            1,
            1,
            1,
            1,
            1,
            1,
            1,
            1
           ]
          },
          {
           "dy": 10,
           "mode": "lines+markers",
           "name": "user_18",
           "type": "scatter",
           "x0": 1,
           "y": [
            0,
            0,
            0,
            0,
            0,
            0,
            0,
            0,
            0,
            0
           ]
          },
          {
           "dy": 10,
           "mode": "lines+markers",
           "name": "user_19",
           "type": "scatter",
           "x0": 1,
           "y": [
            0,
            0,
            0,
            0,
            0,
            0,
            0,
            0,
            0,
            0
           ]
          },
          {
           "dy": 10,
           "mode": "lines+markers",
           "name": "user_2",
           "type": "scatter",
           "x0": 1,
           "y": [
            0,
            0,
            0,
            0,
            0,
            0,
            0,
            0,
            57,
            58
           ]
          },
          {
           "dy": 10,
           "mode": "lines+markers",
           "name": "user_20",
           "type": "scatter",
           "x0": 1,
           "y": [
            0,
            0,
            0,
            0,
            0,
            0,
            0,
            0,
            0,
            0
           ]
          },
          {
           "dy": 10,
           "mode": "lines+markers",
           "name": "user_21",
           "type": "scatter",
           "x0": 1,
           "y": [
            0,
            0,
            0,
            0,
            0,
            0,
            0,
            0,
            0,
            0
           ]
          },
          {
           "dy": 10,
           "mode": "lines+markers",
           "name": "user_22",
           "type": "scatter",
           "x0": 1,
           "y": [
            0,
            0,
            0,
            0,
            0,
            0,
            1,
            1,
            1,
            1
           ]
          },
          {
           "dy": 10,
           "mode": "lines+markers",
           "name": "user_24",
           "type": "scatter",
           "x0": 1,
           "y": [
            0,
            0,
            0,
            0,
            0,
            0,
            0,
            0,
            0,
            0
           ]
          },
          {
           "dy": 10,
           "mode": "lines+markers",
           "name": "user_25",
           "type": "scatter",
           "x0": 1,
           "y": [
            0,
            0,
            0,
            0,
            0,
            0,
            0,
            0,
            0,
            0
           ]
          },
          {
           "dy": 10,
           "mode": "lines+markers",
           "name": "user_26",
           "type": "scatter",
           "x0": 1,
           "y": [
            0,
            0,
            0,
            0,
            0,
            0,
            0,
            0,
            0,
            0
           ]
          },
          {
           "dy": 10,
           "mode": "lines+markers",
           "name": "user_27",
           "type": "scatter",
           "x0": 1,
           "y": [
            0,
            0,
            0,
            0,
            0,
            0,
            0,
            0,
            0,
            0
           ]
          },
          {
           "dy": 10,
           "mode": "lines+markers",
           "name": "user_28",
           "type": "scatter",
           "x0": 1,
           "y": [
            0,
            0,
            0,
            0,
            0,
            0,
            0,
            0,
            0,
            0
           ]
          },
          {
           "dy": 10,
           "mode": "lines+markers",
           "name": "user_29",
           "type": "scatter",
           "x0": 1,
           "y": [
            0,
            0,
            0,
            0,
            0,
            0,
            0,
            0,
            0,
            0
           ]
          },
          {
           "dy": 10,
           "mode": "lines+markers",
           "name": "user_3",
           "type": "scatter",
           "x0": 1,
           "y": [
            0,
            0,
            0,
            0,
            0,
            0,
            0,
            0,
            0,
            0
           ]
          },
          {
           "dy": 10,
           "mode": "lines+markers",
           "name": "user_30",
           "type": "scatter",
           "x0": 1,
           "y": [
            0,
            0,
            0,
            1,
            2,
            2,
            4,
            5,
            5,
            5
           ]
          },
          {
           "dy": 10,
           "mode": "lines+markers",
           "name": "user_31",
           "type": "scatter",
           "x0": 1,
           "y": [
            0,
            0,
            0,
            0,
            0,
            0,
            0,
            0,
            0,
            0
           ]
          },
          {
           "dy": 10,
           "mode": "lines+markers",
           "name": "user_4",
           "type": "scatter",
           "x0": 1,
           "y": [
            7,
            7,
            11,
            11,
            20,
            27,
            35,
            48,
            53,
            53
           ]
          },
          {
           "dy": 10,
           "mode": "lines+markers",
           "name": "user_6",
           "type": "scatter",
           "x0": 1,
           "y": [
            0,
            0,
            0,
            0,
            0,
            0,
            0,
            0,
            0,
            0
           ]
          },
          {
           "dy": 10,
           "mode": "lines+markers",
           "name": "user_8",
           "type": "scatter",
           "x0": 1,
           "y": [
            0,
            0,
            0,
            0,
            0,
            0,
            0,
            0,
            0,
            0
           ]
          }
         ]
        },
        {
         "data": [
          {
           "dy": 10,
           "mode": "lines+markers",
           "name": "user_1",
           "type": "scatter",
           "x0": 1,
           "y": [
            0,
            0,
            0,
            0,
            0,
            0,
            0,
            0,
            0,
            0,
            0
           ]
          },
          {
           "dy": 10,
           "mode": "lines+markers",
           "name": "user_10",
           "type": "scatter",
           "x0": 1,
           "y": [
            0,
            0,
            0,
            0,
            0,
            0,
            0,
            0,
            0,
            0,
            0
           ]
          },
          {
           "dy": 10,
           "mode": "lines+markers",
           "name": "user_11",
           "type": "scatter",
           "x0": 1,
           "y": [
            0,
            0,
            0,
            0,
            0,
            0,
            1,
            1,
            1,
            1,
            1
           ]
          },
          {
           "dy": 10,
           "mode": "lines+markers",
           "name": "user_12",
           "type": "scatter",
           "x0": 1,
           "y": [
            0,
            0,
            0,
            0,
            0,
            0,
            0,
            0,
            0,
            0,
            0
           ]
          },
          {
           "dy": 10,
           "mode": "lines+markers",
           "name": "user_13",
           "type": "scatter",
           "x0": 1,
           "y": [
            0,
            0,
            0,
            0,
            0,
            0,
            0,
            0,
            0,
            0,
            0
           ]
          },
          {
           "dy": 10,
           "mode": "lines+markers",
           "name": "user_14",
           "type": "scatter",
           "x0": 1,
           "y": [
            0,
            0,
            0,
            0,
            0,
            0,
            0,
            0,
            1,
            1,
            1
           ]
          },
          {
           "dy": 10,
           "mode": "lines+markers",
           "name": "user_15",
           "type": "scatter",
           "x0": 1,
           "y": [
            0,
            0,
            0,
            0,
            0,
            0,
            0,
            0,
            0,
            0,
            0
           ]
          },
          {
           "dy": 10,
           "mode": "lines+markers",
           "name": "user_16",
           "type": "scatter",
           "x0": 1,
           "y": [
            0,
            0,
            0,
            0,
            0,
            0,
            0,
            0,
            0,
            0,
            0
           ]
          },
          {
           "dy": 10,
           "mode": "lines+markers",
           "name": "user_17",
           "type": "scatter",
           "x0": 1,
           "y": [
            0,
            1,
            1,
            1,
            1,
            1,
            1,
            1,
            1,
            1,
            1
           ]
          },
          {
           "dy": 10,
           "mode": "lines+markers",
           "name": "user_18",
           "type": "scatter",
           "x0": 1,
           "y": [
            0,
            0,
            0,
            0,
            0,
            0,
            0,
            0,
            0,
            0,
            0
           ]
          },
          {
           "dy": 10,
           "mode": "lines+markers",
           "name": "user_19",
           "type": "scatter",
           "x0": 1,
           "y": [
            0,
            0,
            0,
            0,
            0,
            0,
            0,
            0,
            0,
            0,
            0
           ]
          },
          {
           "dy": 10,
           "mode": "lines+markers",
           "name": "user_2",
           "type": "scatter",
           "x0": 1,
           "y": [
            0,
            0,
            0,
            0,
            0,
            0,
            0,
            0,
            57,
            58,
            58
           ]
          },
          {
           "dy": 10,
           "mode": "lines+markers",
           "name": "user_20",
           "type": "scatter",
           "x0": 1,
           "y": [
            0,
            0,
            0,
            0,
            0,
            0,
            0,
            0,
            0,
            0,
            0
           ]
          },
          {
           "dy": 10,
           "mode": "lines+markers",
           "name": "user_21",
           "type": "scatter",
           "x0": 1,
           "y": [
            0,
            0,
            0,
            0,
            0,
            0,
            0,
            0,
            0,
            0,
            0
           ]
          },
          {
           "dy": 10,
           "mode": "lines+markers",
           "name": "user_22",
           "type": "scatter",
           "x0": 1,
           "y": [
            0,
            0,
            0,
            0,
            0,
            0,
            1,
            1,
            1,
            1,
            1
           ]
          },
          {
           "dy": 10,
           "mode": "lines+markers",
           "name": "user_24",
           "type": "scatter",
           "x0": 1,
           "y": [
            0,
            0,
            0,
            0,
            0,
            0,
            0,
            0,
            0,
            0,
            0
           ]
          },
          {
           "dy": 10,
           "mode": "lines+markers",
           "name": "user_25",
           "type": "scatter",
           "x0": 1,
           "y": [
            0,
            0,
            0,
            0,
            0,
            0,
            0,
            0,
            0,
            0,
            0
           ]
          },
          {
           "dy": 10,
           "mode": "lines+markers",
           "name": "user_26",
           "type": "scatter",
           "x0": 1,
           "y": [
            0,
            0,
            0,
            0,
            0,
            0,
            0,
            0,
            0,
            0,
            0
           ]
          },
          {
           "dy": 10,
           "mode": "lines+markers",
           "name": "user_27",
           "type": "scatter",
           "x0": 1,
           "y": [
            0,
            0,
            0,
            0,
            0,
            0,
            0,
            0,
            0,
            0,
            0
           ]
          },
          {
           "dy": 10,
           "mode": "lines+markers",
           "name": "user_28",
           "type": "scatter",
           "x0": 1,
           "y": [
            0,
            0,
            0,
            0,
            0,
            0,
            0,
            0,
            0,
            0,
            0
           ]
          },
          {
           "dy": 10,
           "mode": "lines+markers",
           "name": "user_29",
           "type": "scatter",
           "x0": 1,
           "y": [
            0,
            0,
            0,
            0,
            0,
            0,
            0,
            0,
            0,
            0,
            0
           ]
          },
          {
           "dy": 10,
           "mode": "lines+markers",
           "name": "user_3",
           "type": "scatter",
           "x0": 1,
           "y": [
            0,
            0,
            0,
            0,
            0,
            0,
            0,
            0,
            0,
            0,
            1
           ]
          },
          {
           "dy": 10,
           "mode": "lines+markers",
           "name": "user_30",
           "type": "scatter",
           "x0": 1,
           "y": [
            0,
            0,
            0,
            1,
            2,
            2,
            4,
            5,
            5,
            5,
            12
           ]
          },
          {
           "dy": 10,
           "mode": "lines+markers",
           "name": "user_31",
           "type": "scatter",
           "x0": 1,
           "y": [
            0,
            0,
            0,
            0,
            0,
            0,
            0,
            0,
            0,
            0,
            1
           ]
          },
          {
           "dy": 10,
           "mode": "lines+markers",
           "name": "user_4",
           "type": "scatter",
           "x0": 1,
           "y": [
            7,
            7,
            11,
            11,
            20,
            27,
            35,
            48,
            53,
            53,
            71
           ]
          },
          {
           "dy": 10,
           "mode": "lines+markers",
           "name": "user_6",
           "type": "scatter",
           "x0": 1,
           "y": [
            0,
            0,
            0,
            0,
            0,
            0,
            0,
            0,
            0,
            0,
            0
           ]
          },
          {
           "dy": 10,
           "mode": "lines+markers",
           "name": "user_8",
           "type": "scatter",
           "x0": 1,
           "y": [
            0,
            0,
            0,
            0,
            0,
            0,
            0,
            0,
            0,
            0,
            0
           ]
          }
         ]
        },
        {
         "data": [
          {
           "dy": 10,
           "mode": "lines+markers",
           "name": "user_1",
           "type": "scatter",
           "x0": 1,
           "y": [
            0,
            0,
            0,
            0,
            0,
            0,
            0,
            0,
            0,
            0,
            0,
            0
           ]
          },
          {
           "dy": 10,
           "mode": "lines+markers",
           "name": "user_10",
           "type": "scatter",
           "x0": 1,
           "y": [
            0,
            0,
            0,
            0,
            0,
            0,
            0,
            0,
            0,
            0,
            0,
            0
           ]
          },
          {
           "dy": 10,
           "mode": "lines+markers",
           "name": "user_11",
           "type": "scatter",
           "x0": 1,
           "y": [
            0,
            0,
            0,
            0,
            0,
            0,
            1,
            1,
            1,
            1,
            1,
            1
           ]
          },
          {
           "dy": 10,
           "mode": "lines+markers",
           "name": "user_12",
           "type": "scatter",
           "x0": 1,
           "y": [
            0,
            0,
            0,
            0,
            0,
            0,
            0,
            0,
            0,
            0,
            0,
            0
           ]
          },
          {
           "dy": 10,
           "mode": "lines+markers",
           "name": "user_13",
           "type": "scatter",
           "x0": 1,
           "y": [
            0,
            0,
            0,
            0,
            0,
            0,
            0,
            0,
            0,
            0,
            0,
            0
           ]
          },
          {
           "dy": 10,
           "mode": "lines+markers",
           "name": "user_14",
           "type": "scatter",
           "x0": 1,
           "y": [
            0,
            0,
            0,
            0,
            0,
            0,
            0,
            0,
            1,
            1,
            1,
            1
           ]
          },
          {
           "dy": 10,
           "mode": "lines+markers",
           "name": "user_15",
           "type": "scatter",
           "x0": 1,
           "y": [
            0,
            0,
            0,
            0,
            0,
            0,
            0,
            0,
            0,
            0,
            0,
            0
           ]
          },
          {
           "dy": 10,
           "mode": "lines+markers",
           "name": "user_16",
           "type": "scatter",
           "x0": 1,
           "y": [
            0,
            0,
            0,
            0,
            0,
            0,
            0,
            0,
            0,
            0,
            0,
            0
           ]
          },
          {
           "dy": 10,
           "mode": "lines+markers",
           "name": "user_17",
           "type": "scatter",
           "x0": 1,
           "y": [
            0,
            1,
            1,
            1,
            1,
            1,
            1,
            1,
            1,
            1,
            1,
            1
           ]
          },
          {
           "dy": 10,
           "mode": "lines+markers",
           "name": "user_18",
           "type": "scatter",
           "x0": 1,
           "y": [
            0,
            0,
            0,
            0,
            0,
            0,
            0,
            0,
            0,
            0,
            0,
            0
           ]
          },
          {
           "dy": 10,
           "mode": "lines+markers",
           "name": "user_19",
           "type": "scatter",
           "x0": 1,
           "y": [
            0,
            0,
            0,
            0,
            0,
            0,
            0,
            0,
            0,
            0,
            0,
            0
           ]
          },
          {
           "dy": 10,
           "mode": "lines+markers",
           "name": "user_2",
           "type": "scatter",
           "x0": 1,
           "y": [
            0,
            0,
            0,
            0,
            0,
            0,
            0,
            0,
            57,
            58,
            58,
            58
           ]
          },
          {
           "dy": 10,
           "mode": "lines+markers",
           "name": "user_20",
           "type": "scatter",
           "x0": 1,
           "y": [
            0,
            0,
            0,
            0,
            0,
            0,
            0,
            0,
            0,
            0,
            0,
            0
           ]
          },
          {
           "dy": 10,
           "mode": "lines+markers",
           "name": "user_21",
           "type": "scatter",
           "x0": 1,
           "y": [
            0,
            0,
            0,
            0,
            0,
            0,
            0,
            0,
            0,
            0,
            0,
            0
           ]
          },
          {
           "dy": 10,
           "mode": "lines+markers",
           "name": "user_22",
           "type": "scatter",
           "x0": 1,
           "y": [
            0,
            0,
            0,
            0,
            0,
            0,
            1,
            1,
            1,
            1,
            1,
            1
           ]
          },
          {
           "dy": 10,
           "mode": "lines+markers",
           "name": "user_24",
           "type": "scatter",
           "x0": 1,
           "y": [
            0,
            0,
            0,
            0,
            0,
            0,
            0,
            0,
            0,
            0,
            0,
            0
           ]
          },
          {
           "dy": 10,
           "mode": "lines+markers",
           "name": "user_25",
           "type": "scatter",
           "x0": 1,
           "y": [
            0,
            0,
            0,
            0,
            0,
            0,
            0,
            0,
            0,
            0,
            0,
            5
           ]
          },
          {
           "dy": 10,
           "mode": "lines+markers",
           "name": "user_26",
           "type": "scatter",
           "x0": 1,
           "y": [
            0,
            0,
            0,
            0,
            0,
            0,
            0,
            0,
            0,
            0,
            0,
            0
           ]
          },
          {
           "dy": 10,
           "mode": "lines+markers",
           "name": "user_27",
           "type": "scatter",
           "x0": 1,
           "y": [
            0,
            0,
            0,
            0,
            0,
            0,
            0,
            0,
            0,
            0,
            0,
            0
           ]
          },
          {
           "dy": 10,
           "mode": "lines+markers",
           "name": "user_28",
           "type": "scatter",
           "x0": 1,
           "y": [
            0,
            0,
            0,
            0,
            0,
            0,
            0,
            0,
            0,
            0,
            0,
            0
           ]
          },
          {
           "dy": 10,
           "mode": "lines+markers",
           "name": "user_29",
           "type": "scatter",
           "x0": 1,
           "y": [
            0,
            0,
            0,
            0,
            0,
            0,
            0,
            0,
            0,
            0,
            0,
            0
           ]
          },
          {
           "dy": 10,
           "mode": "lines+markers",
           "name": "user_3",
           "type": "scatter",
           "x0": 1,
           "y": [
            0,
            0,
            0,
            0,
            0,
            0,
            0,
            0,
            0,
            0,
            1,
            28
           ]
          },
          {
           "dy": 10,
           "mode": "lines+markers",
           "name": "user_30",
           "type": "scatter",
           "x0": 1,
           "y": [
            0,
            0,
            0,
            1,
            2,
            2,
            4,
            5,
            5,
            5,
            12,
            12
           ]
          },
          {
           "dy": 10,
           "mode": "lines+markers",
           "name": "user_31",
           "type": "scatter",
           "x0": 1,
           "y": [
            0,
            0,
            0,
            0,
            0,
            0,
            0,
            0,
            0,
            0,
            1,
            1
           ]
          },
          {
           "dy": 10,
           "mode": "lines+markers",
           "name": "user_4",
           "type": "scatter",
           "x0": 1,
           "y": [
            7,
            7,
            11,
            11,
            20,
            27,
            35,
            48,
            53,
            53,
            71,
            83
           ]
          },
          {
           "dy": 10,
           "mode": "lines+markers",
           "name": "user_6",
           "type": "scatter",
           "x0": 1,
           "y": [
            0,
            0,
            0,
            0,
            0,
            0,
            0,
            0,
            0,
            0,
            0,
            0
           ]
          },
          {
           "dy": 10,
           "mode": "lines+markers",
           "name": "user_8",
           "type": "scatter",
           "x0": 1,
           "y": [
            0,
            0,
            0,
            0,
            0,
            0,
            0,
            0,
            0,
            0,
            0,
            0
           ]
          }
         ]
        },
        {
         "data": [
          {
           "dy": 10,
           "mode": "lines+markers",
           "name": "user_1",
           "type": "scatter",
           "x0": 1,
           "y": [
            0,
            0,
            0,
            0,
            0,
            0,
            0,
            0,
            0,
            0,
            0,
            0,
            0
           ]
          },
          {
           "dy": 10,
           "mode": "lines+markers",
           "name": "user_10",
           "type": "scatter",
           "x0": 1,
           "y": [
            0,
            0,
            0,
            0,
            0,
            0,
            0,
            0,
            0,
            0,
            0,
            0,
            0
           ]
          },
          {
           "dy": 10,
           "mode": "lines+markers",
           "name": "user_11",
           "type": "scatter",
           "x0": 1,
           "y": [
            0,
            0,
            0,
            0,
            0,
            0,
            1,
            1,
            1,
            1,
            1,
            1,
            1
           ]
          },
          {
           "dy": 10,
           "mode": "lines+markers",
           "name": "user_12",
           "type": "scatter",
           "x0": 1,
           "y": [
            0,
            0,
            0,
            0,
            0,
            0,
            0,
            0,
            0,
            0,
            0,
            0,
            0
           ]
          },
          {
           "dy": 10,
           "mode": "lines+markers",
           "name": "user_13",
           "type": "scatter",
           "x0": 1,
           "y": [
            0,
            0,
            0,
            0,
            0,
            0,
            0,
            0,
            0,
            0,
            0,
            0,
            0
           ]
          },
          {
           "dy": 10,
           "mode": "lines+markers",
           "name": "user_14",
           "type": "scatter",
           "x0": 1,
           "y": [
            0,
            0,
            0,
            0,
            0,
            0,
            0,
            0,
            1,
            1,
            1,
            1,
            18
           ]
          },
          {
           "dy": 10,
           "mode": "lines+markers",
           "name": "user_15",
           "type": "scatter",
           "x0": 1,
           "y": [
            0,
            0,
            0,
            0,
            0,
            0,
            0,
            0,
            0,
            0,
            0,
            0,
            0
           ]
          },
          {
           "dy": 10,
           "mode": "lines+markers",
           "name": "user_16",
           "type": "scatter",
           "x0": 1,
           "y": [
            0,
            0,
            0,
            0,
            0,
            0,
            0,
            0,
            0,
            0,
            0,
            0,
            0
           ]
          },
          {
           "dy": 10,
           "mode": "lines+markers",
           "name": "user_17",
           "type": "scatter",
           "x0": 1,
           "y": [
            0,
            1,
            1,
            1,
            1,
            1,
            1,
            1,
            1,
            1,
            1,
            1,
            1
           ]
          },
          {
           "dy": 10,
           "mode": "lines+markers",
           "name": "user_18",
           "type": "scatter",
           "x0": 1,
           "y": [
            0,
            0,
            0,
            0,
            0,
            0,
            0,
            0,
            0,
            0,
            0,
            0,
            0
           ]
          },
          {
           "dy": 10,
           "mode": "lines+markers",
           "name": "user_19",
           "type": "scatter",
           "x0": 1,
           "y": [
            0,
            0,
            0,
            0,
            0,
            0,
            0,
            0,
            0,
            0,
            0,
            0,
            0
           ]
          },
          {
           "dy": 10,
           "mode": "lines+markers",
           "name": "user_2",
           "type": "scatter",
           "x0": 1,
           "y": [
            0,
            0,
            0,
            0,
            0,
            0,
            0,
            0,
            57,
            58,
            58,
            58,
            58
           ]
          },
          {
           "dy": 10,
           "mode": "lines+markers",
           "name": "user_20",
           "type": "scatter",
           "x0": 1,
           "y": [
            0,
            0,
            0,
            0,
            0,
            0,
            0,
            0,
            0,
            0,
            0,
            0,
            0
           ]
          },
          {
           "dy": 10,
           "mode": "lines+markers",
           "name": "user_21",
           "type": "scatter",
           "x0": 1,
           "y": [
            0,
            0,
            0,
            0,
            0,
            0,
            0,
            0,
            0,
            0,
            0,
            0,
            0
           ]
          },
          {
           "dy": 10,
           "mode": "lines+markers",
           "name": "user_22",
           "type": "scatter",
           "x0": 1,
           "y": [
            0,
            0,
            0,
            0,
            0,
            0,
            1,
            1,
            1,
            1,
            1,
            1,
            1
           ]
          },
          {
           "dy": 10,
           "mode": "lines+markers",
           "name": "user_24",
           "type": "scatter",
           "x0": 1,
           "y": [
            0,
            0,
            0,
            0,
            0,
            0,
            0,
            0,
            0,
            0,
            0,
            0,
            0
           ]
          },
          {
           "dy": 10,
           "mode": "lines+markers",
           "name": "user_25",
           "type": "scatter",
           "x0": 1,
           "y": [
            0,
            0,
            0,
            0,
            0,
            0,
            0,
            0,
            0,
            0,
            0,
            5,
            27
           ]
          },
          {
           "dy": 10,
           "mode": "lines+markers",
           "name": "user_26",
           "type": "scatter",
           "x0": 1,
           "y": [
            0,
            0,
            0,
            0,
            0,
            0,
            0,
            0,
            0,
            0,
            0,
            0,
            0
           ]
          },
          {
           "dy": 10,
           "mode": "lines+markers",
           "name": "user_27",
           "type": "scatter",
           "x0": 1,
           "y": [
            0,
            0,
            0,
            0,
            0,
            0,
            0,
            0,
            0,
            0,
            0,
            0,
            0
           ]
          },
          {
           "dy": 10,
           "mode": "lines+markers",
           "name": "user_28",
           "type": "scatter",
           "x0": 1,
           "y": [
            0,
            0,
            0,
            0,
            0,
            0,
            0,
            0,
            0,
            0,
            0,
            0,
            0
           ]
          },
          {
           "dy": 10,
           "mode": "lines+markers",
           "name": "user_29",
           "type": "scatter",
           "x0": 1,
           "y": [
            0,
            0,
            0,
            0,
            0,
            0,
            0,
            0,
            0,
            0,
            0,
            0,
            0
           ]
          },
          {
           "dy": 10,
           "mode": "lines+markers",
           "name": "user_3",
           "type": "scatter",
           "x0": 1,
           "y": [
            0,
            0,
            0,
            0,
            0,
            0,
            0,
            0,
            0,
            0,
            1,
            28,
            29
           ]
          },
          {
           "dy": 10,
           "mode": "lines+markers",
           "name": "user_30",
           "type": "scatter",
           "x0": 1,
           "y": [
            0,
            0,
            0,
            1,
            2,
            2,
            4,
            5,
            5,
            5,
            12,
            12,
            12
           ]
          },
          {
           "dy": 10,
           "mode": "lines+markers",
           "name": "user_31",
           "type": "scatter",
           "x0": 1,
           "y": [
            0,
            0,
            0,
            0,
            0,
            0,
            0,
            0,
            0,
            0,
            1,
            1,
            4
           ]
          },
          {
           "dy": 10,
           "mode": "lines+markers",
           "name": "user_4",
           "type": "scatter",
           "x0": 1,
           "y": [
            7,
            7,
            11,
            11,
            20,
            27,
            35,
            48,
            53,
            53,
            71,
            83,
            83
           ]
          },
          {
           "dy": 10,
           "mode": "lines+markers",
           "name": "user_6",
           "type": "scatter",
           "x0": 1,
           "y": [
            0,
            0,
            0,
            0,
            0,
            0,
            0,
            0,
            0,
            0,
            0,
            0,
            0
           ]
          },
          {
           "dy": 10,
           "mode": "lines+markers",
           "name": "user_8",
           "type": "scatter",
           "x0": 1,
           "y": [
            0,
            0,
            0,
            0,
            0,
            0,
            0,
            0,
            0,
            0,
            0,
            0,
            0
           ]
          }
         ]
        },
        {
         "data": [
          {
           "dy": 10,
           "mode": "lines+markers",
           "name": "user_1",
           "type": "scatter",
           "x0": 1,
           "y": [
            0,
            0,
            0,
            0,
            0,
            0,
            0,
            0,
            0,
            0,
            0,
            0,
            0,
            0
           ]
          },
          {
           "dy": 10,
           "mode": "lines+markers",
           "name": "user_10",
           "type": "scatter",
           "x0": 1,
           "y": [
            0,
            0,
            0,
            0,
            0,
            0,
            0,
            0,
            0,
            0,
            0,
            0,
            0,
            0
           ]
          },
          {
           "dy": 10,
           "mode": "lines+markers",
           "name": "user_11",
           "type": "scatter",
           "x0": 1,
           "y": [
            0,
            0,
            0,
            0,
            0,
            0,
            1,
            1,
            1,
            1,
            1,
            1,
            1,
            1
           ]
          },
          {
           "dy": 10,
           "mode": "lines+markers",
           "name": "user_12",
           "type": "scatter",
           "x0": 1,
           "y": [
            0,
            0,
            0,
            0,
            0,
            0,
            0,
            0,
            0,
            0,
            0,
            0,
            0,
            0
           ]
          },
          {
           "dy": 10,
           "mode": "lines+markers",
           "name": "user_13",
           "type": "scatter",
           "x0": 1,
           "y": [
            0,
            0,
            0,
            0,
            0,
            0,
            0,
            0,
            0,
            0,
            0,
            0,
            0,
            0
           ]
          },
          {
           "dy": 10,
           "mode": "lines+markers",
           "name": "user_14",
           "type": "scatter",
           "x0": 1,
           "y": [
            0,
            0,
            0,
            0,
            0,
            0,
            0,
            0,
            1,
            1,
            1,
            1,
            18,
            25
           ]
          },
          {
           "dy": 10,
           "mode": "lines+markers",
           "name": "user_15",
           "type": "scatter",
           "x0": 1,
           "y": [
            0,
            0,
            0,
            0,
            0,
            0,
            0,
            0,
            0,
            0,
            0,
            0,
            0,
            0
           ]
          },
          {
           "dy": 10,
           "mode": "lines+markers",
           "name": "user_16",
           "type": "scatter",
           "x0": 1,
           "y": [
            0,
            0,
            0,
            0,
            0,
            0,
            0,
            0,
            0,
            0,
            0,
            0,
            0,
            0
           ]
          },
          {
           "dy": 10,
           "mode": "lines+markers",
           "name": "user_17",
           "type": "scatter",
           "x0": 1,
           "y": [
            0,
            1,
            1,
            1,
            1,
            1,
            1,
            1,
            1,
            1,
            1,
            1,
            1,
            1
           ]
          },
          {
           "dy": 10,
           "mode": "lines+markers",
           "name": "user_18",
           "type": "scatter",
           "x0": 1,
           "y": [
            0,
            0,
            0,
            0,
            0,
            0,
            0,
            0,
            0,
            0,
            0,
            0,
            0,
            0
           ]
          },
          {
           "dy": 10,
           "mode": "lines+markers",
           "name": "user_19",
           "type": "scatter",
           "x0": 1,
           "y": [
            0,
            0,
            0,
            0,
            0,
            0,
            0,
            0,
            0,
            0,
            0,
            0,
            0,
            0
           ]
          },
          {
           "dy": 10,
           "mode": "lines+markers",
           "name": "user_2",
           "type": "scatter",
           "x0": 1,
           "y": [
            0,
            0,
            0,
            0,
            0,
            0,
            0,
            0,
            57,
            58,
            58,
            58,
            58,
            62
           ]
          },
          {
           "dy": 10,
           "mode": "lines+markers",
           "name": "user_20",
           "type": "scatter",
           "x0": 1,
           "y": [
            0,
            0,
            0,
            0,
            0,
            0,
            0,
            0,
            0,
            0,
            0,
            0,
            0,
            0
           ]
          },
          {
           "dy": 10,
           "mode": "lines+markers",
           "name": "user_21",
           "type": "scatter",
           "x0": 1,
           "y": [
            0,
            0,
            0,
            0,
            0,
            0,
            0,
            0,
            0,
            0,
            0,
            0,
            0,
            7
           ]
          },
          {
           "dy": 10,
           "mode": "lines+markers",
           "name": "user_22",
           "type": "scatter",
           "x0": 1,
           "y": [
            0,
            0,
            0,
            0,
            0,
            0,
            1,
            1,
            1,
            1,
            1,
            1,
            1,
            1
           ]
          },
          {
           "dy": 10,
           "mode": "lines+markers",
           "name": "user_24",
           "type": "scatter",
           "x0": 1,
           "y": [
            0,
            0,
            0,
            0,
            0,
            0,
            0,
            0,
            0,
            0,
            0,
            0,
            0,
            0
           ]
          },
          {
           "dy": 10,
           "mode": "lines+markers",
           "name": "user_25",
           "type": "scatter",
           "x0": 1,
           "y": [
            0,
            0,
            0,
            0,
            0,
            0,
            0,
            0,
            0,
            0,
            0,
            5,
            27,
            29
           ]
          },
          {
           "dy": 10,
           "mode": "lines+markers",
           "name": "user_26",
           "type": "scatter",
           "x0": 1,
           "y": [
            0,
            0,
            0,
            0,
            0,
            0,
            0,
            0,
            0,
            0,
            0,
            0,
            0,
            35
           ]
          },
          {
           "dy": 10,
           "mode": "lines+markers",
           "name": "user_27",
           "type": "scatter",
           "x0": 1,
           "y": [
            0,
            0,
            0,
            0,
            0,
            0,
            0,
            0,
            0,
            0,
            0,
            0,
            0,
            0
           ]
          },
          {
           "dy": 10,
           "mode": "lines+markers",
           "name": "user_28",
           "type": "scatter",
           "x0": 1,
           "y": [
            0,
            0,
            0,
            0,
            0,
            0,
            0,
            0,
            0,
            0,
            0,
            0,
            0,
            0
           ]
          },
          {
           "dy": 10,
           "mode": "lines+markers",
           "name": "user_29",
           "type": "scatter",
           "x0": 1,
           "y": [
            0,
            0,
            0,
            0,
            0,
            0,
            0,
            0,
            0,
            0,
            0,
            0,
            0,
            0
           ]
          },
          {
           "dy": 10,
           "mode": "lines+markers",
           "name": "user_3",
           "type": "scatter",
           "x0": 1,
           "y": [
            0,
            0,
            0,
            0,
            0,
            0,
            0,
            0,
            0,
            0,
            1,
            28,
            29,
            31
           ]
          },
          {
           "dy": 10,
           "mode": "lines+markers",
           "name": "user_30",
           "type": "scatter",
           "x0": 1,
           "y": [
            0,
            0,
            0,
            1,
            2,
            2,
            4,
            5,
            5,
            5,
            12,
            12,
            12,
            17
           ]
          },
          {
           "dy": 10,
           "mode": "lines+markers",
           "name": "user_31",
           "type": "scatter",
           "x0": 1,
           "y": [
            0,
            0,
            0,
            0,
            0,
            0,
            0,
            0,
            0,
            0,
            1,
            1,
            4,
            4
           ]
          },
          {
           "dy": 10,
           "mode": "lines+markers",
           "name": "user_4",
           "type": "scatter",
           "x0": 1,
           "y": [
            7,
            7,
            11,
            11,
            20,
            27,
            35,
            48,
            53,
            53,
            71,
            83,
            83,
            83
           ]
          },
          {
           "dy": 10,
           "mode": "lines+markers",
           "name": "user_6",
           "type": "scatter",
           "x0": 1,
           "y": [
            0,
            0,
            0,
            0,
            0,
            0,
            0,
            0,
            0,
            0,
            0,
            0,
            0,
            0
           ]
          },
          {
           "dy": 10,
           "mode": "lines+markers",
           "name": "user_8",
           "type": "scatter",
           "x0": 1,
           "y": [
            0,
            0,
            0,
            0,
            0,
            0,
            0,
            0,
            0,
            0,
            0,
            0,
            0,
            0
           ]
          }
         ]
        },
        {
         "data": [
          {
           "dy": 10,
           "mode": "lines+markers",
           "name": "user_1",
           "type": "scatter",
           "x0": 1,
           "y": [
            0,
            0,
            0,
            0,
            0,
            0,
            0,
            0,
            0,
            0,
            0,
            0,
            0,
            0,
            0
           ]
          },
          {
           "dy": 10,
           "mode": "lines+markers",
           "name": "user_10",
           "type": "scatter",
           "x0": 1,
           "y": [
            0,
            0,
            0,
            0,
            0,
            0,
            0,
            0,
            0,
            0,
            0,
            0,
            0,
            0,
            0
           ]
          },
          {
           "dy": 10,
           "mode": "lines+markers",
           "name": "user_11",
           "type": "scatter",
           "x0": 1,
           "y": [
            0,
            0,
            0,
            0,
            0,
            0,
            1,
            1,
            1,
            1,
            1,
            1,
            1,
            1,
            1
           ]
          },
          {
           "dy": 10,
           "mode": "lines+markers",
           "name": "user_12",
           "type": "scatter",
           "x0": 1,
           "y": [
            0,
            0,
            0,
            0,
            0,
            0,
            0,
            0,
            0,
            0,
            0,
            0,
            0,
            0,
            0
           ]
          },
          {
           "dy": 10,
           "mode": "lines+markers",
           "name": "user_13",
           "type": "scatter",
           "x0": 1,
           "y": [
            0,
            0,
            0,
            0,
            0,
            0,
            0,
            0,
            0,
            0,
            0,
            0,
            0,
            0,
            2
           ]
          },
          {
           "dy": 10,
           "mode": "lines+markers",
           "name": "user_14",
           "type": "scatter",
           "x0": 1,
           "y": [
            0,
            0,
            0,
            0,
            0,
            0,
            0,
            0,
            1,
            1,
            1,
            1,
            18,
            25,
            49
           ]
          },
          {
           "dy": 10,
           "mode": "lines+markers",
           "name": "user_15",
           "type": "scatter",
           "x0": 1,
           "y": [
            0,
            0,
            0,
            0,
            0,
            0,
            0,
            0,
            0,
            0,
            0,
            0,
            0,
            0,
            0
           ]
          },
          {
           "dy": 10,
           "mode": "lines+markers",
           "name": "user_16",
           "type": "scatter",
           "x0": 1,
           "y": [
            0,
            0,
            0,
            0,
            0,
            0,
            0,
            0,
            0,
            0,
            0,
            0,
            0,
            0,
            0
           ]
          },
          {
           "dy": 10,
           "mode": "lines+markers",
           "name": "user_17",
           "type": "scatter",
           "x0": 1,
           "y": [
            0,
            1,
            1,
            1,
            1,
            1,
            1,
            1,
            1,
            1,
            1,
            1,
            1,
            1,
            1
           ]
          },
          {
           "dy": 10,
           "mode": "lines+markers",
           "name": "user_18",
           "type": "scatter",
           "x0": 1,
           "y": [
            0,
            0,
            0,
            0,
            0,
            0,
            0,
            0,
            0,
            0,
            0,
            0,
            0,
            0,
            7
           ]
          },
          {
           "dy": 10,
           "mode": "lines+markers",
           "name": "user_19",
           "type": "scatter",
           "x0": 1,
           "y": [
            0,
            0,
            0,
            0,
            0,
            0,
            0,
            0,
            0,
            0,
            0,
            0,
            0,
            0,
            0
           ]
          },
          {
           "dy": 10,
           "mode": "lines+markers",
           "name": "user_2",
           "type": "scatter",
           "x0": 1,
           "y": [
            0,
            0,
            0,
            0,
            0,
            0,
            0,
            0,
            57,
            58,
            58,
            58,
            58,
            62,
            74
           ]
          },
          {
           "dy": 10,
           "mode": "lines+markers",
           "name": "user_20",
           "type": "scatter",
           "x0": 1,
           "y": [
            0,
            0,
            0,
            0,
            0,
            0,
            0,
            0,
            0,
            0,
            0,
            0,
            0,
            0,
            11
           ]
          },
          {
           "dy": 10,
           "mode": "lines+markers",
           "name": "user_21",
           "type": "scatter",
           "x0": 1,
           "y": [
            0,
            0,
            0,
            0,
            0,
            0,
            0,
            0,
            0,
            0,
            0,
            0,
            0,
            7,
            7
           ]
          },
          {
           "dy": 10,
           "mode": "lines+markers",
           "name": "user_22",
           "type": "scatter",
           "x0": 1,
           "y": [
            0,
            0,
            0,
            0,
            0,
            0,
            1,
            1,
            1,
            1,
            1,
            1,
            1,
            1,
            1
           ]
          },
          {
           "dy": 10,
           "mode": "lines+markers",
           "name": "user_24",
           "type": "scatter",
           "x0": 1,
           "y": [
            0,
            0,
            0,
            0,
            0,
            0,
            0,
            0,
            0,
            0,
            0,
            0,
            0,
            0,
            0
           ]
          },
          {
           "dy": 10,
           "mode": "lines+markers",
           "name": "user_25",
           "type": "scatter",
           "x0": 1,
           "y": [
            0,
            0,
            0,
            0,
            0,
            0,
            0,
            0,
            0,
            0,
            0,
            5,
            27,
            29,
            33
           ]
          },
          {
           "dy": 10,
           "mode": "lines+markers",
           "name": "user_26",
           "type": "scatter",
           "x0": 1,
           "y": [
            0,
            0,
            0,
            0,
            0,
            0,
            0,
            0,
            0,
            0,
            0,
            0,
            0,
            35,
            35
           ]
          },
          {
           "dy": 10,
           "mode": "lines+markers",
           "name": "user_27",
           "type": "scatter",
           "x0": 1,
           "y": [
            0,
            0,
            0,
            0,
            0,
            0,
            0,
            0,
            0,
            0,
            0,
            0,
            0,
            0,
            0
           ]
          },
          {
           "dy": 10,
           "mode": "lines+markers",
           "name": "user_28",
           "type": "scatter",
           "x0": 1,
           "y": [
            0,
            0,
            0,
            0,
            0,
            0,
            0,
            0,
            0,
            0,
            0,
            0,
            0,
            0,
            0
           ]
          },
          {
           "dy": 10,
           "mode": "lines+markers",
           "name": "user_29",
           "type": "scatter",
           "x0": 1,
           "y": [
            0,
            0,
            0,
            0,
            0,
            0,
            0,
            0,
            0,
            0,
            0,
            0,
            0,
            0,
            5
           ]
          },
          {
           "dy": 10,
           "mode": "lines+markers",
           "name": "user_3",
           "type": "scatter",
           "x0": 1,
           "y": [
            0,
            0,
            0,
            0,
            0,
            0,
            0,
            0,
            0,
            0,
            1,
            28,
            29,
            31,
            54
           ]
          },
          {
           "dy": 10,
           "mode": "lines+markers",
           "name": "user_30",
           "type": "scatter",
           "x0": 1,
           "y": [
            0,
            0,
            0,
            1,
            2,
            2,
            4,
            5,
            5,
            5,
            12,
            12,
            12,
            17,
            17
           ]
          },
          {
           "dy": 10,
           "mode": "lines+markers",
           "name": "user_31",
           "type": "scatter",
           "x0": 1,
           "y": [
            0,
            0,
            0,
            0,
            0,
            0,
            0,
            0,
            0,
            0,
            1,
            1,
            4,
            4,
            6
           ]
          },
          {
           "dy": 10,
           "mode": "lines+markers",
           "name": "user_4",
           "type": "scatter",
           "x0": 1,
           "y": [
            7,
            7,
            11,
            11,
            20,
            27,
            35,
            48,
            53,
            53,
            71,
            83,
            83,
            83,
            87
           ]
          },
          {
           "dy": 10,
           "mode": "lines+markers",
           "name": "user_6",
           "type": "scatter",
           "x0": 1,
           "y": [
            0,
            0,
            0,
            0,
            0,
            0,
            0,
            0,
            0,
            0,
            0,
            0,
            0,
            0,
            0
           ]
          },
          {
           "dy": 10,
           "mode": "lines+markers",
           "name": "user_8",
           "type": "scatter",
           "x0": 1,
           "y": [
            0,
            0,
            0,
            0,
            0,
            0,
            0,
            0,
            0,
            0,
            0,
            0,
            0,
            0,
            0
           ]
          }
         ]
        },
        {
         "data": [
          {
           "dy": 10,
           "mode": "lines+markers",
           "name": "user_1",
           "type": "scatter",
           "x0": 1,
           "y": [
            0,
            0,
            0,
            0,
            0,
            0,
            0,
            0,
            0,
            0,
            0,
            0,
            0,
            0,
            0,
            0
           ]
          },
          {
           "dy": 10,
           "mode": "lines+markers",
           "name": "user_10",
           "type": "scatter",
           "x0": 1,
           "y": [
            0,
            0,
            0,
            0,
            0,
            0,
            0,
            0,
            0,
            0,
            0,
            0,
            0,
            0,
            0,
            7
           ]
          },
          {
           "dy": 10,
           "mode": "lines+markers",
           "name": "user_11",
           "type": "scatter",
           "x0": 1,
           "y": [
            0,
            0,
            0,
            0,
            0,
            0,
            1,
            1,
            1,
            1,
            1,
            1,
            1,
            1,
            1,
            1
           ]
          },
          {
           "dy": 10,
           "mode": "lines+markers",
           "name": "user_12",
           "type": "scatter",
           "x0": 1,
           "y": [
            0,
            0,
            0,
            0,
            0,
            0,
            0,
            0,
            0,
            0,
            0,
            0,
            0,
            0,
            0,
            0
           ]
          },
          {
           "dy": 10,
           "mode": "lines+markers",
           "name": "user_13",
           "type": "scatter",
           "x0": 1,
           "y": [
            0,
            0,
            0,
            0,
            0,
            0,
            0,
            0,
            0,
            0,
            0,
            0,
            0,
            0,
            2,
            30
           ]
          },
          {
           "dy": 10,
           "mode": "lines+markers",
           "name": "user_14",
           "type": "scatter",
           "x0": 1,
           "y": [
            0,
            0,
            0,
            0,
            0,
            0,
            0,
            0,
            1,
            1,
            1,
            1,
            18,
            25,
            49,
            92
           ]
          },
          {
           "dy": 10,
           "mode": "lines+markers",
           "name": "user_15",
           "type": "scatter",
           "x0": 1,
           "y": [
            0,
            0,
            0,
            0,
            0,
            0,
            0,
            0,
            0,
            0,
            0,
            0,
            0,
            0,
            0,
            0
           ]
          },
          {
           "dy": 10,
           "mode": "lines+markers",
           "name": "user_16",
           "type": "scatter",
           "x0": 1,
           "y": [
            0,
            0,
            0,
            0,
            0,
            0,
            0,
            0,
            0,
            0,
            0,
            0,
            0,
            0,
            0,
            2
           ]
          },
          {
           "dy": 10,
           "mode": "lines+markers",
           "name": "user_17",
           "type": "scatter",
           "x0": 1,
           "y": [
            0,
            1,
            1,
            1,
            1,
            1,
            1,
            1,
            1,
            1,
            1,
            1,
            1,
            1,
            1,
            3
           ]
          },
          {
           "dy": 10,
           "mode": "lines+markers",
           "name": "user_18",
           "type": "scatter",
           "x0": 1,
           "y": [
            0,
            0,
            0,
            0,
            0,
            0,
            0,
            0,
            0,
            0,
            0,
            0,
            0,
            0,
            7,
            7
           ]
          },
          {
           "dy": 10,
           "mode": "lines+markers",
           "name": "user_19",
           "type": "scatter",
           "x0": 1,
           "y": [
            0,
            0,
            0,
            0,
            0,
            0,
            0,
            0,
            0,
            0,
            0,
            0,
            0,
            0,
            0,
            0
           ]
          },
          {
           "dy": 10,
           "mode": "lines+markers",
           "name": "user_2",
           "type": "scatter",
           "x0": 1,
           "y": [
            0,
            0,
            0,
            0,
            0,
            0,
            0,
            0,
            57,
            58,
            58,
            58,
            58,
            62,
            74,
            78
           ]
          },
          {
           "dy": 10,
           "mode": "lines+markers",
           "name": "user_20",
           "type": "scatter",
           "x0": 1,
           "y": [
            0,
            0,
            0,
            0,
            0,
            0,
            0,
            0,
            0,
            0,
            0,
            0,
            0,
            0,
            11,
            11
           ]
          },
          {
           "dy": 10,
           "mode": "lines+markers",
           "name": "user_21",
           "type": "scatter",
           "x0": 1,
           "y": [
            0,
            0,
            0,
            0,
            0,
            0,
            0,
            0,
            0,
            0,
            0,
            0,
            0,
            7,
            7,
            7
           ]
          },
          {
           "dy": 10,
           "mode": "lines+markers",
           "name": "user_22",
           "type": "scatter",
           "x0": 1,
           "y": [
            0,
            0,
            0,
            0,
            0,
            0,
            1,
            1,
            1,
            1,
            1,
            1,
            1,
            1,
            1,
            1
           ]
          },
          {
           "dy": 10,
           "mode": "lines+markers",
           "name": "user_24",
           "type": "scatter",
           "x0": 1,
           "y": [
            0,
            0,
            0,
            0,
            0,
            0,
            0,
            0,
            0,
            0,
            0,
            0,
            0,
            0,
            0,
            0
           ]
          },
          {
           "dy": 10,
           "mode": "lines+markers",
           "name": "user_25",
           "type": "scatter",
           "x0": 1,
           "y": [
            0,
            0,
            0,
            0,
            0,
            0,
            0,
            0,
            0,
            0,
            0,
            5,
            27,
            29,
            33,
            54
           ]
          },
          {
           "dy": 10,
           "mode": "lines+markers",
           "name": "user_26",
           "type": "scatter",
           "x0": 1,
           "y": [
            0,
            0,
            0,
            0,
            0,
            0,
            0,
            0,
            0,
            0,
            0,
            0,
            0,
            35,
            35,
            35
           ]
          },
          {
           "dy": 10,
           "mode": "lines+markers",
           "name": "user_27",
           "type": "scatter",
           "x0": 1,
           "y": [
            0,
            0,
            0,
            0,
            0,
            0,
            0,
            0,
            0,
            0,
            0,
            0,
            0,
            0,
            0,
            0
           ]
          },
          {
           "dy": 10,
           "mode": "lines+markers",
           "name": "user_28",
           "type": "scatter",
           "x0": 1,
           "y": [
            0,
            0,
            0,
            0,
            0,
            0,
            0,
            0,
            0,
            0,
            0,
            0,
            0,
            0,
            0,
            2
           ]
          },
          {
           "dy": 10,
           "mode": "lines+markers",
           "name": "user_29",
           "type": "scatter",
           "x0": 1,
           "y": [
            0,
            0,
            0,
            0,
            0,
            0,
            0,
            0,
            0,
            0,
            0,
            0,
            0,
            0,
            5,
            18
           ]
          },
          {
           "dy": 10,
           "mode": "lines+markers",
           "name": "user_3",
           "type": "scatter",
           "x0": 1,
           "y": [
            0,
            0,
            0,
            0,
            0,
            0,
            0,
            0,
            0,
            0,
            1,
            28,
            29,
            31,
            54,
            56
           ]
          },
          {
           "dy": 10,
           "mode": "lines+markers",
           "name": "user_30",
           "type": "scatter",
           "x0": 1,
           "y": [
            0,
            0,
            0,
            1,
            2,
            2,
            4,
            5,
            5,
            5,
            12,
            12,
            12,
            17,
            17,
            17
           ]
          },
          {
           "dy": 10,
           "mode": "lines+markers",
           "name": "user_31",
           "type": "scatter",
           "x0": 1,
           "y": [
            0,
            0,
            0,
            0,
            0,
            0,
            0,
            0,
            0,
            0,
            1,
            1,
            4,
            4,
            6,
            6
           ]
          },
          {
           "dy": 10,
           "mode": "lines+markers",
           "name": "user_4",
           "type": "scatter",
           "x0": 1,
           "y": [
            7,
            7,
            11,
            11,
            20,
            27,
            35,
            48,
            53,
            53,
            71,
            83,
            83,
            83,
            87,
            125
           ]
          },
          {
           "dy": 10,
           "mode": "lines+markers",
           "name": "user_6",
           "type": "scatter",
           "x0": 1,
           "y": [
            0,
            0,
            0,
            0,
            0,
            0,
            0,
            0,
            0,
            0,
            0,
            0,
            0,
            0,
            0,
            0
           ]
          },
          {
           "dy": 10,
           "mode": "lines+markers",
           "name": "user_8",
           "type": "scatter",
           "x0": 1,
           "y": [
            0,
            0,
            0,
            0,
            0,
            0,
            0,
            0,
            0,
            0,
            0,
            0,
            0,
            0,
            0,
            0
           ]
          }
         ]
        },
        {
         "data": [
          {
           "dy": 10,
           "mode": "lines+markers",
           "name": "user_1",
           "type": "scatter",
           "x0": 1,
           "y": [
            0,
            0,
            0,
            0,
            0,
            0,
            0,
            0,
            0,
            0,
            0,
            0,
            0,
            0,
            0,
            0,
            0
           ]
          },
          {
           "dy": 10,
           "mode": "lines+markers",
           "name": "user_10",
           "type": "scatter",
           "x0": 1,
           "y": [
            0,
            0,
            0,
            0,
            0,
            0,
            0,
            0,
            0,
            0,
            0,
            0,
            0,
            0,
            0,
            7,
            21
           ]
          },
          {
           "dy": 10,
           "mode": "lines+markers",
           "name": "user_11",
           "type": "scatter",
           "x0": 1,
           "y": [
            0,
            0,
            0,
            0,
            0,
            0,
            1,
            1,
            1,
            1,
            1,
            1,
            1,
            1,
            1,
            1,
            1
           ]
          },
          {
           "dy": 10,
           "mode": "lines+markers",
           "name": "user_12",
           "type": "scatter",
           "x0": 1,
           "y": [
            0,
            0,
            0,
            0,
            0,
            0,
            0,
            0,
            0,
            0,
            0,
            0,
            0,
            0,
            0,
            0,
            0
           ]
          },
          {
           "dy": 10,
           "mode": "lines+markers",
           "name": "user_13",
           "type": "scatter",
           "x0": 1,
           "y": [
            0,
            0,
            0,
            0,
            0,
            0,
            0,
            0,
            0,
            0,
            0,
            0,
            0,
            0,
            2,
            30,
            30
           ]
          },
          {
           "dy": 10,
           "mode": "lines+markers",
           "name": "user_14",
           "type": "scatter",
           "x0": 1,
           "y": [
            0,
            0,
            0,
            0,
            0,
            0,
            0,
            0,
            1,
            1,
            1,
            1,
            18,
            25,
            49,
            92,
            92
           ]
          },
          {
           "dy": 10,
           "mode": "lines+markers",
           "name": "user_15",
           "type": "scatter",
           "x0": 1,
           "y": [
            0,
            0,
            0,
            0,
            0,
            0,
            0,
            0,
            0,
            0,
            0,
            0,
            0,
            0,
            0,
            0,
            0
           ]
          },
          {
           "dy": 10,
           "mode": "lines+markers",
           "name": "user_16",
           "type": "scatter",
           "x0": 1,
           "y": [
            0,
            0,
            0,
            0,
            0,
            0,
            0,
            0,
            0,
            0,
            0,
            0,
            0,
            0,
            0,
            2,
            2
           ]
          },
          {
           "dy": 10,
           "mode": "lines+markers",
           "name": "user_17",
           "type": "scatter",
           "x0": 1,
           "y": [
            0,
            1,
            1,
            1,
            1,
            1,
            1,
            1,
            1,
            1,
            1,
            1,
            1,
            1,
            1,
            3,
            3
           ]
          },
          {
           "dy": 10,
           "mode": "lines+markers",
           "name": "user_18",
           "type": "scatter",
           "x0": 1,
           "y": [
            0,
            0,
            0,
            0,
            0,
            0,
            0,
            0,
            0,
            0,
            0,
            0,
            0,
            0,
            7,
            7,
            8
           ]
          },
          {
           "dy": 10,
           "mode": "lines+markers",
           "name": "user_19",
           "type": "scatter",
           "x0": 1,
           "y": [
            0,
            0,
            0,
            0,
            0,
            0,
            0,
            0,
            0,
            0,
            0,
            0,
            0,
            0,
            0,
            0,
            0
           ]
          },
          {
           "dy": 10,
           "mode": "lines+markers",
           "name": "user_2",
           "type": "scatter",
           "x0": 1,
           "y": [
            0,
            0,
            0,
            0,
            0,
            0,
            0,
            0,
            57,
            58,
            58,
            58,
            58,
            62,
            74,
            78,
            93
           ]
          },
          {
           "dy": 10,
           "mode": "lines+markers",
           "name": "user_20",
           "type": "scatter",
           "x0": 1,
           "y": [
            0,
            0,
            0,
            0,
            0,
            0,
            0,
            0,
            0,
            0,
            0,
            0,
            0,
            0,
            11,
            11,
            11
           ]
          },
          {
           "dy": 10,
           "mode": "lines+markers",
           "name": "user_21",
           "type": "scatter",
           "x0": 1,
           "y": [
            0,
            0,
            0,
            0,
            0,
            0,
            0,
            0,
            0,
            0,
            0,
            0,
            0,
            7,
            7,
            7,
            7
           ]
          },
          {
           "dy": 10,
           "mode": "lines+markers",
           "name": "user_22",
           "type": "scatter",
           "x0": 1,
           "y": [
            0,
            0,
            0,
            0,
            0,
            0,
            1,
            1,
            1,
            1,
            1,
            1,
            1,
            1,
            1,
            1,
            1
           ]
          },
          {
           "dy": 10,
           "mode": "lines+markers",
           "name": "user_24",
           "type": "scatter",
           "x0": 1,
           "y": [
            0,
            0,
            0,
            0,
            0,
            0,
            0,
            0,
            0,
            0,
            0,
            0,
            0,
            0,
            0,
            0,
            9
           ]
          },
          {
           "dy": 10,
           "mode": "lines+markers",
           "name": "user_25",
           "type": "scatter",
           "x0": 1,
           "y": [
            0,
            0,
            0,
            0,
            0,
            0,
            0,
            0,
            0,
            0,
            0,
            5,
            27,
            29,
            33,
            54,
            57
           ]
          },
          {
           "dy": 10,
           "mode": "lines+markers",
           "name": "user_26",
           "type": "scatter",
           "x0": 1,
           "y": [
            0,
            0,
            0,
            0,
            0,
            0,
            0,
            0,
            0,
            0,
            0,
            0,
            0,
            35,
            35,
            35,
            52
           ]
          },
          {
           "dy": 10,
           "mode": "lines+markers",
           "name": "user_27",
           "type": "scatter",
           "x0": 1,
           "y": [
            0,
            0,
            0,
            0,
            0,
            0,
            0,
            0,
            0,
            0,
            0,
            0,
            0,
            0,
            0,
            0,
            0
           ]
          },
          {
           "dy": 10,
           "mode": "lines+markers",
           "name": "user_28",
           "type": "scatter",
           "x0": 1,
           "y": [
            0,
            0,
            0,
            0,
            0,
            0,
            0,
            0,
            0,
            0,
            0,
            0,
            0,
            0,
            0,
            2,
            20
           ]
          },
          {
           "dy": 10,
           "mode": "lines+markers",
           "name": "user_29",
           "type": "scatter",
           "x0": 1,
           "y": [
            0,
            0,
            0,
            0,
            0,
            0,
            0,
            0,
            0,
            0,
            0,
            0,
            0,
            0,
            5,
            18,
            34
           ]
          },
          {
           "dy": 10,
           "mode": "lines+markers",
           "name": "user_3",
           "type": "scatter",
           "x0": 1,
           "y": [
            0,
            0,
            0,
            0,
            0,
            0,
            0,
            0,
            0,
            0,
            1,
            28,
            29,
            31,
            54,
            56,
            56
           ]
          },
          {
           "dy": 10,
           "mode": "lines+markers",
           "name": "user_30",
           "type": "scatter",
           "x0": 1,
           "y": [
            0,
            0,
            0,
            1,
            2,
            2,
            4,
            5,
            5,
            5,
            12,
            12,
            12,
            17,
            17,
            17,
            17
           ]
          },
          {
           "dy": 10,
           "mode": "lines+markers",
           "name": "user_31",
           "type": "scatter",
           "x0": 1,
           "y": [
            0,
            0,
            0,
            0,
            0,
            0,
            0,
            0,
            0,
            0,
            1,
            1,
            4,
            4,
            6,
            6,
            6
           ]
          },
          {
           "dy": 10,
           "mode": "lines+markers",
           "name": "user_4",
           "type": "scatter",
           "x0": 1,
           "y": [
            7,
            7,
            11,
            11,
            20,
            27,
            35,
            48,
            53,
            53,
            71,
            83,
            83,
            83,
            87,
            125,
            137
           ]
          },
          {
           "dy": 10,
           "mode": "lines+markers",
           "name": "user_6",
           "type": "scatter",
           "x0": 1,
           "y": [
            0,
            0,
            0,
            0,
            0,
            0,
            0,
            0,
            0,
            0,
            0,
            0,
            0,
            0,
            0,
            0,
            1
           ]
          },
          {
           "dy": 10,
           "mode": "lines+markers",
           "name": "user_8",
           "type": "scatter",
           "x0": 1,
           "y": [
            0,
            0,
            0,
            0,
            0,
            0,
            0,
            0,
            0,
            0,
            0,
            0,
            0,
            0,
            0,
            0,
            0
           ]
          }
         ]
        },
        {
         "data": [
          {
           "dy": 10,
           "mode": "lines+markers",
           "name": "user_1",
           "type": "scatter",
           "x0": 1,
           "y": [
            0,
            0,
            0,
            0,
            0,
            0,
            0,
            0,
            0,
            0,
            0,
            0,
            0,
            0,
            0,
            0,
            0,
            11
           ]
          },
          {
           "dy": 10,
           "mode": "lines+markers",
           "name": "user_10",
           "type": "scatter",
           "x0": 1,
           "y": [
            0,
            0,
            0,
            0,
            0,
            0,
            0,
            0,
            0,
            0,
            0,
            0,
            0,
            0,
            0,
            7,
            21,
            58
           ]
          },
          {
           "dy": 10,
           "mode": "lines+markers",
           "name": "user_11",
           "type": "scatter",
           "x0": 1,
           "y": [
            0,
            0,
            0,
            0,
            0,
            0,
            1,
            1,
            1,
            1,
            1,
            1,
            1,
            1,
            1,
            1,
            1,
            1
           ]
          },
          {
           "dy": 10,
           "mode": "lines+markers",
           "name": "user_12",
           "type": "scatter",
           "x0": 1,
           "y": [
            0,
            0,
            0,
            0,
            0,
            0,
            0,
            0,
            0,
            0,
            0,
            0,
            0,
            0,
            0,
            0,
            0,
            4
           ]
          },
          {
           "dy": 10,
           "mode": "lines+markers",
           "name": "user_13",
           "type": "scatter",
           "x0": 1,
           "y": [
            0,
            0,
            0,
            0,
            0,
            0,
            0,
            0,
            0,
            0,
            0,
            0,
            0,
            0,
            2,
            30,
            30,
            32
           ]
          },
          {
           "dy": 10,
           "mode": "lines+markers",
           "name": "user_14",
           "type": "scatter",
           "x0": 1,
           "y": [
            0,
            0,
            0,
            0,
            0,
            0,
            0,
            0,
            1,
            1,
            1,
            1,
            18,
            25,
            49,
            92,
            92,
            99
           ]
          },
          {
           "dy": 10,
           "mode": "lines+markers",
           "name": "user_15",
           "type": "scatter",
           "x0": 1,
           "y": [
            0,
            0,
            0,
            0,
            0,
            0,
            0,
            0,
            0,
            0,
            0,
            0,
            0,
            0,
            0,
            0,
            0,
            3
           ]
          },
          {
           "dy": 10,
           "mode": "lines+markers",
           "name": "user_16",
           "type": "scatter",
           "x0": 1,
           "y": [
            0,
            0,
            0,
            0,
            0,
            0,
            0,
            0,
            0,
            0,
            0,
            0,
            0,
            0,
            0,
            2,
            2,
            9
           ]
          },
          {
           "dy": 10,
           "mode": "lines+markers",
           "name": "user_17",
           "type": "scatter",
           "x0": 1,
           "y": [
            0,
            1,
            1,
            1,
            1,
            1,
            1,
            1,
            1,
            1,
            1,
            1,
            1,
            1,
            1,
            3,
            3,
            5
           ]
          },
          {
           "dy": 10,
           "mode": "lines+markers",
           "name": "user_18",
           "type": "scatter",
           "x0": 1,
           "y": [
            0,
            0,
            0,
            0,
            0,
            0,
            0,
            0,
            0,
            0,
            0,
            0,
            0,
            0,
            7,
            7,
            8,
            31
           ]
          },
          {
           "dy": 10,
           "mode": "lines+markers",
           "name": "user_19",
           "type": "scatter",
           "x0": 1,
           "y": [
            0,
            0,
            0,
            0,
            0,
            0,
            0,
            0,
            0,
            0,
            0,
            0,
            0,
            0,
            0,
            0,
            0,
            25
           ]
          },
          {
           "dy": 10,
           "mode": "lines+markers",
           "name": "user_2",
           "type": "scatter",
           "x0": 1,
           "y": [
            0,
            0,
            0,
            0,
            0,
            0,
            0,
            0,
            57,
            58,
            58,
            58,
            58,
            62,
            74,
            78,
            93,
            95
           ]
          },
          {
           "dy": 10,
           "mode": "lines+markers",
           "name": "user_20",
           "type": "scatter",
           "x0": 1,
           "y": [
            0,
            0,
            0,
            0,
            0,
            0,
            0,
            0,
            0,
            0,
            0,
            0,
            0,
            0,
            11,
            11,
            11,
            54
           ]
          },
          {
           "dy": 10,
           "mode": "lines+markers",
           "name": "user_21",
           "type": "scatter",
           "x0": 1,
           "y": [
            0,
            0,
            0,
            0,
            0,
            0,
            0,
            0,
            0,
            0,
            0,
            0,
            0,
            7,
            7,
            7,
            7,
            9
           ]
          },
          {
           "dy": 10,
           "mode": "lines+markers",
           "name": "user_22",
           "type": "scatter",
           "x0": 1,
           "y": [
            0,
            0,
            0,
            0,
            0,
            0,
            1,
            1,
            1,
            1,
            1,
            1,
            1,
            1,
            1,
            1,
            1,
            2
           ]
          },
          {
           "dy": 10,
           "mode": "lines+markers",
           "name": "user_24",
           "type": "scatter",
           "x0": 1,
           "y": [
            0,
            0,
            0,
            0,
            0,
            0,
            0,
            0,
            0,
            0,
            0,
            0,
            0,
            0,
            0,
            0,
            9,
            34
           ]
          },
          {
           "dy": 10,
           "mode": "lines+markers",
           "name": "user_25",
           "type": "scatter",
           "x0": 1,
           "y": [
            0,
            0,
            0,
            0,
            0,
            0,
            0,
            0,
            0,
            0,
            0,
            5,
            27,
            29,
            33,
            54,
            57,
            77
           ]
          },
          {
           "dy": 10,
           "mode": "lines+markers",
           "name": "user_26",
           "type": "scatter",
           "x0": 1,
           "y": [
            0,
            0,
            0,
            0,
            0,
            0,
            0,
            0,
            0,
            0,
            0,
            0,
            0,
            35,
            35,
            35,
            52,
            69
           ]
          },
          {
           "dy": 10,
           "mode": "lines+markers",
           "name": "user_27",
           "type": "scatter",
           "x0": 1,
           "y": [
            0,
            0,
            0,
            0,
            0,
            0,
            0,
            0,
            0,
            0,
            0,
            0,
            0,
            0,
            0,
            0,
            0,
            8
           ]
          },
          {
           "dy": 10,
           "mode": "lines+markers",
           "name": "user_28",
           "type": "scatter",
           "x0": 1,
           "y": [
            0,
            0,
            0,
            0,
            0,
            0,
            0,
            0,
            0,
            0,
            0,
            0,
            0,
            0,
            0,
            2,
            20,
            26
           ]
          },
          {
           "dy": 10,
           "mode": "lines+markers",
           "name": "user_29",
           "type": "scatter",
           "x0": 1,
           "y": [
            0,
            0,
            0,
            0,
            0,
            0,
            0,
            0,
            0,
            0,
            0,
            0,
            0,
            0,
            5,
            18,
            34,
            35
           ]
          },
          {
           "dy": 10,
           "mode": "lines+markers",
           "name": "user_3",
           "type": "scatter",
           "x0": 1,
           "y": [
            0,
            0,
            0,
            0,
            0,
            0,
            0,
            0,
            0,
            0,
            1,
            28,
            29,
            31,
            54,
            56,
            56,
            58
           ]
          },
          {
           "dy": 10,
           "mode": "lines+markers",
           "name": "user_30",
           "type": "scatter",
           "x0": 1,
           "y": [
            0,
            0,
            0,
            1,
            2,
            2,
            4,
            5,
            5,
            5,
            12,
            12,
            12,
            17,
            17,
            17,
            17,
            19
           ]
          },
          {
           "dy": 10,
           "mode": "lines+markers",
           "name": "user_31",
           "type": "scatter",
           "x0": 1,
           "y": [
            0,
            0,
            0,
            0,
            0,
            0,
            0,
            0,
            0,
            0,
            1,
            1,
            4,
            4,
            6,
            6,
            6,
            8
           ]
          },
          {
           "dy": 10,
           "mode": "lines+markers",
           "name": "user_4",
           "type": "scatter",
           "x0": 1,
           "y": [
            7,
            7,
            11,
            11,
            20,
            27,
            35,
            48,
            53,
            53,
            71,
            83,
            83,
            83,
            87,
            125,
            137,
            164
           ]
          },
          {
           "dy": 10,
           "mode": "lines+markers",
           "name": "user_6",
           "type": "scatter",
           "x0": 1,
           "y": [
            0,
            0,
            0,
            0,
            0,
            0,
            0,
            0,
            0,
            0,
            0,
            0,
            0,
            0,
            0,
            0,
            1,
            2
           ]
          },
          {
           "dy": 10,
           "mode": "lines+markers",
           "name": "user_8",
           "type": "scatter",
           "x0": 1,
           "y": [
            0,
            0,
            0,
            0,
            0,
            0,
            0,
            0,
            0,
            0,
            0,
            0,
            0,
            0,
            0,
            0,
            0,
            8
           ]
          }
         ]
        },
        {
         "data": [
          {
           "dy": 10,
           "mode": "lines+markers",
           "name": "user_1",
           "type": "scatter",
           "x0": 1,
           "y": [
            0,
            0,
            0,
            0,
            0,
            0,
            0,
            0,
            0,
            0,
            0,
            0,
            0,
            0,
            0,
            0,
            0,
            11,
            11
           ]
          },
          {
           "dy": 10,
           "mode": "lines+markers",
           "name": "user_10",
           "type": "scatter",
           "x0": 1,
           "y": [
            0,
            0,
            0,
            0,
            0,
            0,
            0,
            0,
            0,
            0,
            0,
            0,
            0,
            0,
            0,
            7,
            21,
            58,
            58
           ]
          },
          {
           "dy": 10,
           "mode": "lines+markers",
           "name": "user_11",
           "type": "scatter",
           "x0": 1,
           "y": [
            0,
            0,
            0,
            0,
            0,
            0,
            1,
            1,
            1,
            1,
            1,
            1,
            1,
            1,
            1,
            1,
            1,
            1,
            1
           ]
          },
          {
           "dy": 10,
           "mode": "lines+markers",
           "name": "user_12",
           "type": "scatter",
           "x0": 1,
           "y": [
            0,
            0,
            0,
            0,
            0,
            0,
            0,
            0,
            0,
            0,
            0,
            0,
            0,
            0,
            0,
            0,
            0,
            4,
            4
           ]
          },
          {
           "dy": 10,
           "mode": "lines+markers",
           "name": "user_13",
           "type": "scatter",
           "x0": 1,
           "y": [
            0,
            0,
            0,
            0,
            0,
            0,
            0,
            0,
            0,
            0,
            0,
            0,
            0,
            0,
            2,
            30,
            30,
            32,
            32
           ]
          },
          {
           "dy": 10,
           "mode": "lines+markers",
           "name": "user_14",
           "type": "scatter",
           "x0": 1,
           "y": [
            0,
            0,
            0,
            0,
            0,
            0,
            0,
            0,
            1,
            1,
            1,
            1,
            18,
            25,
            49,
            92,
            92,
            99,
            99
           ]
          },
          {
           "dy": 10,
           "mode": "lines+markers",
           "name": "user_15",
           "type": "scatter",
           "x0": 1,
           "y": [
            0,
            0,
            0,
            0,
            0,
            0,
            0,
            0,
            0,
            0,
            0,
            0,
            0,
            0,
            0,
            0,
            0,
            3,
            3
           ]
          },
          {
           "dy": 10,
           "mode": "lines+markers",
           "name": "user_16",
           "type": "scatter",
           "x0": 1,
           "y": [
            0,
            0,
            0,
            0,
            0,
            0,
            0,
            0,
            0,
            0,
            0,
            0,
            0,
            0,
            0,
            2,
            2,
            9,
            9
           ]
          },
          {
           "dy": 10,
           "mode": "lines+markers",
           "name": "user_17",
           "type": "scatter",
           "x0": 1,
           "y": [
            0,
            1,
            1,
            1,
            1,
            1,
            1,
            1,
            1,
            1,
            1,
            1,
            1,
            1,
            1,
            3,
            3,
            5,
            5
           ]
          },
          {
           "dy": 10,
           "mode": "lines+markers",
           "name": "user_18",
           "type": "scatter",
           "x0": 1,
           "y": [
            0,
            0,
            0,
            0,
            0,
            0,
            0,
            0,
            0,
            0,
            0,
            0,
            0,
            0,
            7,
            7,
            8,
            31,
            31
           ]
          },
          {
           "dy": 10,
           "mode": "lines+markers",
           "name": "user_19",
           "type": "scatter",
           "x0": 1,
           "y": [
            0,
            0,
            0,
            0,
            0,
            0,
            0,
            0,
            0,
            0,
            0,
            0,
            0,
            0,
            0,
            0,
            0,
            25,
            29
           ]
          },
          {
           "dy": 10,
           "mode": "lines+markers",
           "name": "user_2",
           "type": "scatter",
           "x0": 1,
           "y": [
            0,
            0,
            0,
            0,
            0,
            0,
            0,
            0,
            57,
            58,
            58,
            58,
            58,
            62,
            74,
            78,
            93,
            95,
            95
           ]
          },
          {
           "dy": 10,
           "mode": "lines+markers",
           "name": "user_20",
           "type": "scatter",
           "x0": 1,
           "y": [
            0,
            0,
            0,
            0,
            0,
            0,
            0,
            0,
            0,
            0,
            0,
            0,
            0,
            0,
            11,
            11,
            11,
            54,
            54
           ]
          },
          {
           "dy": 10,
           "mode": "lines+markers",
           "name": "user_21",
           "type": "scatter",
           "x0": 1,
           "y": [
            0,
            0,
            0,
            0,
            0,
            0,
            0,
            0,
            0,
            0,
            0,
            0,
            0,
            7,
            7,
            7,
            7,
            9,
            9
           ]
          },
          {
           "dy": 10,
           "mode": "lines+markers",
           "name": "user_22",
           "type": "scatter",
           "x0": 1,
           "y": [
            0,
            0,
            0,
            0,
            0,
            0,
            1,
            1,
            1,
            1,
            1,
            1,
            1,
            1,
            1,
            1,
            1,
            2,
            2
           ]
          },
          {
           "dy": 10,
           "mode": "lines+markers",
           "name": "user_24",
           "type": "scatter",
           "x0": 1,
           "y": [
            0,
            0,
            0,
            0,
            0,
            0,
            0,
            0,
            0,
            0,
            0,
            0,
            0,
            0,
            0,
            0,
            9,
            34,
            34
           ]
          },
          {
           "dy": 10,
           "mode": "lines+markers",
           "name": "user_25",
           "type": "scatter",
           "x0": 1,
           "y": [
            0,
            0,
            0,
            0,
            0,
            0,
            0,
            0,
            0,
            0,
            0,
            5,
            27,
            29,
            33,
            54,
            57,
            77,
            77
           ]
          },
          {
           "dy": 10,
           "mode": "lines+markers",
           "name": "user_26",
           "type": "scatter",
           "x0": 1,
           "y": [
            0,
            0,
            0,
            0,
            0,
            0,
            0,
            0,
            0,
            0,
            0,
            0,
            0,
            35,
            35,
            35,
            52,
            69,
            69
           ]
          },
          {
           "dy": 10,
           "mode": "lines+markers",
           "name": "user_27",
           "type": "scatter",
           "x0": 1,
           "y": [
            0,
            0,
            0,
            0,
            0,
            0,
            0,
            0,
            0,
            0,
            0,
            0,
            0,
            0,
            0,
            0,
            0,
            8,
            8
           ]
          },
          {
           "dy": 10,
           "mode": "lines+markers",
           "name": "user_28",
           "type": "scatter",
           "x0": 1,
           "y": [
            0,
            0,
            0,
            0,
            0,
            0,
            0,
            0,
            0,
            0,
            0,
            0,
            0,
            0,
            0,
            2,
            20,
            26,
            27
           ]
          },
          {
           "dy": 10,
           "mode": "lines+markers",
           "name": "user_29",
           "type": "scatter",
           "x0": 1,
           "y": [
            0,
            0,
            0,
            0,
            0,
            0,
            0,
            0,
            0,
            0,
            0,
            0,
            0,
            0,
            5,
            18,
            34,
            35,
            35
           ]
          },
          {
           "dy": 10,
           "mode": "lines+markers",
           "name": "user_3",
           "type": "scatter",
           "x0": 1,
           "y": [
            0,
            0,
            0,
            0,
            0,
            0,
            0,
            0,
            0,
            0,
            1,
            28,
            29,
            31,
            54,
            56,
            56,
            58,
            58
           ]
          },
          {
           "dy": 10,
           "mode": "lines+markers",
           "name": "user_30",
           "type": "scatter",
           "x0": 1,
           "y": [
            0,
            0,
            0,
            1,
            2,
            2,
            4,
            5,
            5,
            5,
            12,
            12,
            12,
            17,
            17,
            17,
            17,
            19,
            19
           ]
          },
          {
           "dy": 10,
           "mode": "lines+markers",
           "name": "user_31",
           "type": "scatter",
           "x0": 1,
           "y": [
            0,
            0,
            0,
            0,
            0,
            0,
            0,
            0,
            0,
            0,
            1,
            1,
            4,
            4,
            6,
            6,
            6,
            8,
            8
           ]
          },
          {
           "dy": 10,
           "mode": "lines+markers",
           "name": "user_4",
           "type": "scatter",
           "x0": 1,
           "y": [
            7,
            7,
            11,
            11,
            20,
            27,
            35,
            48,
            53,
            53,
            71,
            83,
            83,
            83,
            87,
            125,
            137,
            164,
            164
           ]
          },
          {
           "dy": 10,
           "mode": "lines+markers",
           "name": "user_6",
           "type": "scatter",
           "x0": 1,
           "y": [
            0,
            0,
            0,
            0,
            0,
            0,
            0,
            0,
            0,
            0,
            0,
            0,
            0,
            0,
            0,
            0,
            1,
            2,
            2
           ]
          },
          {
           "dy": 10,
           "mode": "lines+markers",
           "name": "user_8",
           "type": "scatter",
           "x0": 1,
           "y": [
            0,
            0,
            0,
            0,
            0,
            0,
            0,
            0,
            0,
            0,
            0,
            0,
            0,
            0,
            0,
            0,
            0,
            8,
            8
           ]
          }
         ]
        }
       ],
       "layout": {
        "height": 600,
        "legend": {
         "font": {
          "size": 12
         },
         "x": 1.1,
         "y": 1
        },
        "paper_bgcolor": "white",
        "plot_bgcolor": "rgba(220, 220, 220, 0.5)",
        "template": {
         "data": {
          "bar": [
           {
            "error_x": {
             "color": "#2a3f5f"
            },
            "error_y": {
             "color": "#2a3f5f"
            },
            "marker": {
             "line": {
              "color": "#E5ECF6",
              "width": 0.5
             },
             "pattern": {
              "fillmode": "overlay",
              "size": 10,
              "solidity": 0.2
             }
            },
            "type": "bar"
           }
          ],
          "barpolar": [
           {
            "marker": {
             "line": {
              "color": "#E5ECF6",
              "width": 0.5
             },
             "pattern": {
              "fillmode": "overlay",
              "size": 10,
              "solidity": 0.2
             }
            },
            "type": "barpolar"
           }
          ],
          "carpet": [
           {
            "aaxis": {
             "endlinecolor": "#2a3f5f",
             "gridcolor": "white",
             "linecolor": "white",
             "minorgridcolor": "white",
             "startlinecolor": "#2a3f5f"
            },
            "baxis": {
             "endlinecolor": "#2a3f5f",
             "gridcolor": "white",
             "linecolor": "white",
             "minorgridcolor": "white",
             "startlinecolor": "#2a3f5f"
            },
            "type": "carpet"
           }
          ],
          "choropleth": [
           {
            "colorbar": {
             "outlinewidth": 0,
             "ticks": ""
            },
            "type": "choropleth"
           }
          ],
          "contour": [
           {
            "colorbar": {
             "outlinewidth": 0,
             "ticks": ""
            },
            "colorscale": [
             [
              0,
              "#0d0887"
             ],
             [
              0.1111111111111111,
              "#46039f"
             ],
             [
              0.2222222222222222,
              "#7201a8"
             ],
             [
              0.3333333333333333,
              "#9c179e"
             ],
             [
              0.4444444444444444,
              "#bd3786"
             ],
             [
              0.5555555555555556,
              "#d8576b"
             ],
             [
              0.6666666666666666,
              "#ed7953"
             ],
             [
              0.7777777777777778,
              "#fb9f3a"
             ],
             [
              0.8888888888888888,
              "#fdca26"
             ],
             [
              1,
              "#f0f921"
             ]
            ],
            "type": "contour"
           }
          ],
          "contourcarpet": [
           {
            "colorbar": {
             "outlinewidth": 0,
             "ticks": ""
            },
            "type": "contourcarpet"
           }
          ],
          "heatmap": [
           {
            "colorbar": {
             "outlinewidth": 0,
             "ticks": ""
            },
            "colorscale": [
             [
              0,
              "#0d0887"
             ],
             [
              0.1111111111111111,
              "#46039f"
             ],
             [
              0.2222222222222222,
              "#7201a8"
             ],
             [
              0.3333333333333333,
              "#9c179e"
             ],
             [
              0.4444444444444444,
              "#bd3786"
             ],
             [
              0.5555555555555556,
              "#d8576b"
             ],
             [
              0.6666666666666666,
              "#ed7953"
             ],
             [
              0.7777777777777778,
              "#fb9f3a"
             ],
             [
              0.8888888888888888,
              "#fdca26"
             ],
             [
              1,
              "#f0f921"
             ]
            ],
            "type": "heatmap"
           }
          ],
          "histogram": [
           {
            "marker": {
             "pattern": {
              "fillmode": "overlay",
              "size": 10,
              "solidity": 0.2
             }
            },
            "type": "histogram"
           }
          ],
          "histogram2d": [
           {
            "colorbar": {
             "outlinewidth": 0,
             "ticks": ""
            },
            "colorscale": [
             [
              0,
              "#0d0887"
             ],
             [
              0.1111111111111111,
              "#46039f"
             ],
             [
              0.2222222222222222,
              "#7201a8"
             ],
             [
              0.3333333333333333,
              "#9c179e"
             ],
             [
              0.4444444444444444,
              "#bd3786"
             ],
             [
              0.5555555555555556,
              "#d8576b"
             ],
             [
              0.6666666666666666,
              "#ed7953"
             ],
             [
              0.7777777777777778,
              "#fb9f3a"
             ],
             [
              0.8888888888888888,
              "#fdca26"
             ],
             [
              1,
              "#f0f921"
             ]
            ],
            "type": "histogram2d"
           }
          ],
          "histogram2dcontour": [
           {
            "colorbar": {
             "outlinewidth": 0,
             "ticks": ""
            },
            "colorscale": [
             [
              0,
              "#0d0887"
             ],
             [
              0.1111111111111111,
              "#46039f"
             ],
             [
              0.2222222222222222,
              "#7201a8"
             ],
             [
              0.3333333333333333,
              "#9c179e"
             ],
             [
              0.4444444444444444,
              "#bd3786"
             ],
             [
              0.5555555555555556,
              "#d8576b"
             ],
             [
              0.6666666666666666,
              "#ed7953"
             ],
             [
              0.7777777777777778,
              "#fb9f3a"
             ],
             [
              0.8888888888888888,
              "#fdca26"
             ],
             [
              1,
              "#f0f921"
             ]
            ],
            "type": "histogram2dcontour"
           }
          ],
          "mesh3d": [
           {
            "colorbar": {
             "outlinewidth": 0,
             "ticks": ""
            },
            "type": "mesh3d"
           }
          ],
          "parcoords": [
           {
            "line": {
             "colorbar": {
              "outlinewidth": 0,
              "ticks": ""
             }
            },
            "type": "parcoords"
           }
          ],
          "pie": [
           {
            "automargin": true,
            "type": "pie"
           }
          ],
          "scatter": [
           {
            "fillpattern": {
             "fillmode": "overlay",
             "size": 10,
             "solidity": 0.2
            },
            "type": "scatter"
           }
          ],
          "scatter3d": [
           {
            "line": {
             "colorbar": {
              "outlinewidth": 0,
              "ticks": ""
             }
            },
            "marker": {
             "colorbar": {
              "outlinewidth": 0,
              "ticks": ""
             }
            },
            "type": "scatter3d"
           }
          ],
          "scattercarpet": [
           {
            "marker": {
             "colorbar": {
              "outlinewidth": 0,
              "ticks": ""
             }
            },
            "type": "scattercarpet"
           }
          ],
          "scattergeo": [
           {
            "marker": {
             "colorbar": {
              "outlinewidth": 0,
              "ticks": ""
             }
            },
            "type": "scattergeo"
           }
          ],
          "scattergl": [
           {
            "marker": {
             "colorbar": {
              "outlinewidth": 0,
              "ticks": ""
             }
            },
            "type": "scattergl"
           }
          ],
          "scattermap": [
           {
            "marker": {
             "colorbar": {
              "outlinewidth": 0,
              "ticks": ""
             }
            },
            "type": "scattermap"
           }
          ],
          "scattermapbox": [
           {
            "marker": {
             "colorbar": {
              "outlinewidth": 0,
              "ticks": ""
             }
            },
            "type": "scattermapbox"
           }
          ],
          "scatterpolar": [
           {
            "marker": {
             "colorbar": {
              "outlinewidth": 0,
              "ticks": ""
             }
            },
            "type": "scatterpolar"
           }
          ],
          "scatterpolargl": [
           {
            "marker": {
             "colorbar": {
              "outlinewidth": 0,
              "ticks": ""
             }
            },
            "type": "scatterpolargl"
           }
          ],
          "scatterternary": [
           {
            "marker": {
             "colorbar": {
              "outlinewidth": 0,
              "ticks": ""
             }
            },
            "type": "scatterternary"
           }
          ],
          "surface": [
           {
            "colorbar": {
             "outlinewidth": 0,
             "ticks": ""
            },
            "colorscale": [
             [
              0,
              "#0d0887"
             ],
             [
              0.1111111111111111,
              "#46039f"
             ],
             [
              0.2222222222222222,
              "#7201a8"
             ],
             [
              0.3333333333333333,
              "#9c179e"
             ],
             [
              0.4444444444444444,
              "#bd3786"
             ],
             [
              0.5555555555555556,
              "#d8576b"
             ],
             [
              0.6666666666666666,
              "#ed7953"
             ],
             [
              0.7777777777777778,
              "#fb9f3a"
             ],
             [
              0.8888888888888888,
              "#fdca26"
             ],
             [
              1,
              "#f0f921"
             ]
            ],
            "type": "surface"
           }
          ],
          "table": [
           {
            "cells": {
             "fill": {
              "color": "#EBF0F8"
             },
             "line": {
              "color": "white"
             }
            },
            "header": {
             "fill": {
              "color": "#C8D4E3"
             },
             "line": {
              "color": "white"
             }
            },
            "type": "table"
           }
          ]
         },
         "layout": {
          "annotationdefaults": {
           "arrowcolor": "#2a3f5f",
           "arrowhead": 0,
           "arrowwidth": 1
          },
          "autotypenumbers": "strict",
          "coloraxis": {
           "colorbar": {
            "outlinewidth": 0,
            "ticks": ""
           }
          },
          "colorscale": {
           "diverging": [
            [
             0,
             "#8e0152"
            ],
            [
             0.1,
             "#c51b7d"
            ],
            [
             0.2,
             "#de77ae"
            ],
            [
             0.3,
             "#f1b6da"
            ],
            [
             0.4,
             "#fde0ef"
            ],
            [
             0.5,
             "#f7f7f7"
            ],
            [
             0.6,
             "#e6f5d0"
            ],
            [
             0.7,
             "#b8e186"
            ],
            [
             0.8,
             "#7fbc41"
            ],
            [
             0.9,
             "#4d9221"
            ],
            [
             1,
             "#276419"
            ]
           ],
           "sequential": [
            [
             0,
             "#0d0887"
            ],
            [
             0.1111111111111111,
             "#46039f"
            ],
            [
             0.2222222222222222,
             "#7201a8"
            ],
            [
             0.3333333333333333,
             "#9c179e"
            ],
            [
             0.4444444444444444,
             "#bd3786"
            ],
            [
             0.5555555555555556,
             "#d8576b"
            ],
            [
             0.6666666666666666,
             "#ed7953"
            ],
            [
             0.7777777777777778,
             "#fb9f3a"
            ],
            [
             0.8888888888888888,
             "#fdca26"
            ],
            [
             1,
             "#f0f921"
            ]
           ],
           "sequentialminus": [
            [
             0,
             "#0d0887"
            ],
            [
             0.1111111111111111,
             "#46039f"
            ],
            [
             0.2222222222222222,
             "#7201a8"
            ],
            [
             0.3333333333333333,
             "#9c179e"
            ],
            [
             0.4444444444444444,
             "#bd3786"
            ],
            [
             0.5555555555555556,
             "#d8576b"
            ],
            [
             0.6666666666666666,
             "#ed7953"
            ],
            [
             0.7777777777777778,
             "#fb9f3a"
            ],
            [
             0.8888888888888888,
             "#fdca26"
            ],
            [
             1,
             "#f0f921"
            ]
           ]
          },
          "colorway": [
           "#636efa",
           "#EF553B",
           "#00cc96",
           "#ab63fa",
           "#FFA15A",
           "#19d3f3",
           "#FF6692",
           "#B6E880",
           "#FF97FF",
           "#FECB52"
          ],
          "font": {
           "color": "#2a3f5f"
          },
          "geo": {
           "bgcolor": "white",
           "lakecolor": "white",
           "landcolor": "#E5ECF6",
           "showlakes": true,
           "showland": true,
           "subunitcolor": "white"
          },
          "hoverlabel": {
           "align": "left"
          },
          "hovermode": "closest",
          "mapbox": {
           "style": "light"
          },
          "paper_bgcolor": "white",
          "plot_bgcolor": "#E5ECF6",
          "polar": {
           "angularaxis": {
            "gridcolor": "white",
            "linecolor": "white",
            "ticks": ""
           },
           "bgcolor": "#E5ECF6",
           "radialaxis": {
            "gridcolor": "white",
            "linecolor": "white",
            "ticks": ""
           }
          },
          "scene": {
           "xaxis": {
            "backgroundcolor": "#E5ECF6",
            "gridcolor": "white",
            "gridwidth": 2,
            "linecolor": "white",
            "showbackground": true,
            "ticks": "",
            "zerolinecolor": "white"
           },
           "yaxis": {
            "backgroundcolor": "#E5ECF6",
            "gridcolor": "white",
            "gridwidth": 2,
            "linecolor": "white",
            "showbackground": true,
            "ticks": "",
            "zerolinecolor": "white"
           },
           "zaxis": {
            "backgroundcolor": "#E5ECF6",
            "gridcolor": "white",
            "gridwidth": 2,
            "linecolor": "white",
            "showbackground": true,
            "ticks": "",
            "zerolinecolor": "white"
           }
          },
          "shapedefaults": {
           "line": {
            "color": "#2a3f5f"
           }
          },
          "ternary": {
           "aaxis": {
            "gridcolor": "white",
            "linecolor": "white",
            "ticks": ""
           },
           "baxis": {
            "gridcolor": "white",
            "linecolor": "white",
            "ticks": ""
           },
           "bgcolor": "#E5ECF6",
           "caxis": {
            "gridcolor": "white",
            "linecolor": "white",
            "ticks": ""
           }
          },
          "title": {
           "x": 0.05
          },
          "xaxis": {
           "automargin": true,
           "gridcolor": "white",
           "linecolor": "white",
           "ticks": "",
           "title": {
            "standoff": 15
           },
           "zerolinecolor": "white",
           "zerolinewidth": 2
          },
          "yaxis": {
           "automargin": true,
           "gridcolor": "white",
           "linecolor": "white",
           "ticks": "",
           "title": {
            "standoff": 15
           },
           "zerolinecolor": "white",
           "zerolinewidth": 2
          }
         }
        },
        "title": {
         "font": {
          "size": 30
         },
         "text": "Dynamic of commits per user in project1",
         "x": 0.5,
         "y": 0.95
        },
        "updatemenus": [
         {
          "buttons": [
           {
            "args": [
             null
            ],
            "label": "play",
            "method": "animate"
           }
          ],
          "type": "buttons"
         }
        ],
        "width": 1000,
        "xaxis": {
         "dtick": 2,
         "range": [
          1,
          20
         ],
         "showgrid": true
        },
        "yaxis": {
         "showgrid": true
        }
       }
      }
     },
     "metadata": {},
     "output_type": "display_data"
    }
   ],
   "source": [
    "numOfRows = data.shape[0]\n",
    "numOfCols = data.shape[1] \n",
    "numOfFrames = numOfCols - 1\n",
    "xaxis_range = [1,numOfFrames + 1]\n",
    "\n",
    "initial_data = []\n",
    "for uid_ind in range(numOfRows):\n",
    "    y_axis = np.array(data.iloc[uid_ind,0])\n",
    "    initial_data.append(go.Scatter(\n",
    "        y = y_axis,\n",
    "        mode = \"lines+markers\",\n",
    "        name = data.uid[uid_ind]\n",
    "    ))\n",
    "initial_max = 0\n",
    "\n",
    "# Frames\n",
    "frames = []\n",
    "for f in range(1,numOfFrames+1):\n",
    "    curr_data = []\n",
    "    title_names = []\n",
    "    for uid_ind in range(numOfRows):\n",
    "        curr_uid = data.uid[uid_ind]\n",
    "        y_axis = np.array(data.iloc[uid_ind,1:f+1])\n",
    "        curr_data.append(go.Scatter(\n",
    "            x0=1,\n",
    "            y = y_axis,\n",
    "            mode = \"lines+markers\", \n",
    "            name = curr_uid,\n",
    "            dy=10\n",
    "        ))\n",
    "    curr_frame = go.Frame(data = curr_data)\n",
    "    frames.append(curr_frame)\n",
    " \n",
    "figure = go.Figure(\n",
    "    data = initial_data,\n",
    "    frames = frames\n",
    ")\n",
    "\n",
    "figure.update_layout(\n",
    "    title=dict(\n",
    "        text=\"Dynamic of commits per user in project1\",\n",
    "        font=dict(size=30),\n",
    "        x=0.5,\n",
    "        y=0.95,\n",
    "    ),\n",
    "    xaxis=dict(\n",
    "        showgrid=True, \n",
    "        dtick=2,\n",
    "        range=xaxis_range\n",
    "    ),\n",
    "    yaxis=dict(\n",
    "        showgrid=True, \n",
    "    ),\n",
    "    legend=dict(\n",
    "        x=1.1, \n",
    "        y=1,\n",
    "        font=dict(size=12),\n",
    "    ),\n",
    "    width=1000,\n",
    "    height=600,\n",
    "    updatemenus=[\n",
    "        {\n",
    "            \"type\":\"buttons\",\n",
    "            \"buttons\":[\n",
    "                {\n",
    "                    \"method\":\"animate\",\n",
    "                    \"label\":\"play\",\n",
    "                     \"args\":[None]\n",
    "                }\n",
    "            ]\n",
    "        }\n",
    "    ],\n",
    "    paper_bgcolor='white',\n",
    "    plot_bgcolor='rgba(220, 220, 220, 0.5)',  \n",
    ")\n",
    "\n",
    "figure.show()"
   ]
  },
  {
   "cell_type": "code",
   "execution_count": 31,
   "metadata": {},
   "outputs": [],
   "source": [
    "con.close()"
   ]
  }
 ],
 "metadata": {
  "kernelspec": {
   "display_name": "Python 3.11.4 ('.venv': venv)",
   "language": "python",
   "name": "python3"
  },
  "language_info": {
   "codemirror_mode": {
    "name": "ipython",
    "version": 3
   },
   "file_extension": ".py",
   "mimetype": "text/x-python",
   "name": "python",
   "nbconvert_exporter": "python",
   "pygments_lexer": "ipython3",
   "version": "3.11.4"
  },
  "vscode": {
   "interpreter": {
    "hash": "3e45248c2836e4ede72b4e9a52cfe85570f006e297957fb840a68030cdf99f38"
   }
  }
 },
 "nbformat": 4,
 "nbformat_minor": 2
}
