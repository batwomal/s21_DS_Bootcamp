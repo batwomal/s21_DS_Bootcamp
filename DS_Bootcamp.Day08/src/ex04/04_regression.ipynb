{
 "cells": [
  {
   "cell_type": "markdown",
   "metadata": {},
   "source": [
    "# Day 08. Exercise 04\n",
    "# Regression"
   ]
  },
  {
   "cell_type": "markdown",
   "metadata": {},
   "source": [
    "## 0. Imports"
   ]
  },
  {
   "cell_type": "code",
   "execution_count": 110,
   "metadata": {},
   "outputs": [],
   "source": [
    "import pandas as pd\n",
    "import numpy as np\n",
    "import seaborn as sns\n",
    "import matplotlib.pyplot as plt\n",
    "from matplotlib.colors import ListedColormap\n",
    "\n",
    "from sklearn.model_selection import (\n",
    "  train_test_split\n",
    ")\n",
    "\n",
    "from sklearn.linear_model import (\n",
    "  LinearRegression\n",
    ")\n",
    "\n",
    "from sklearn.tree import (\n",
    "  DecisionTreeRegressor,\n",
    "  plot_tree\n",
    ")\n",
    "\n",
    "from sklearn.svm import (\n",
    "  SVC\n",
    ")\n",
    "\n",
    "from sklearn.metrics import (\n",
    "  accuracy_score,\n",
    "  mean_squared_error,\n",
    ")\n",
    "\n",
    "from sklearn.inspection import (\n",
    "  DecisionBoundaryDisplay\n",
    ")\n",
    "\n",
    "from sklearn.preprocessing import (\n",
    "  StandardScaler,\n",
    "  OneHotEncoder\n",
    ")\n",
    "\n",
    "from sklearn.pipeline import make_pipeline\n",
    "\n",
    "from sklearn.multiclass import OneVsRestClassifier\n",
    "\n",
    "from sklearn.ensemble import (\n",
    "  RandomForestRegressor\n",
    ")\n",
    "\n",
    "from sklearn.model_selection import (\n",
    "  cross_val_score,\n",
    "  KFold\n",
    ")\n",
    "\n",
    "import joblib\n"
   ]
  },
  {
   "cell_type": "markdown",
   "metadata": {},
   "source": [
    "## 1. Preprocessing"
   ]
  },
  {
   "cell_type": "markdown",
   "metadata": {},
   "source": [
    "1. Read the file [`checker_regression.csv`](https://drive.google.com/file/d/1L8auBzJEghWFewznhhFpcrqxW4GqcfRY/view?usp=sharing).\n",
    "2. Fill the missing values in it with `0`.\n",
    "3. Make a split of your dataset on train and test with parameters `test_size=0.2`."
   ]
  },
  {
   "cell_type": "code",
   "execution_count": 111,
   "metadata": {},
   "outputs": [
    {
     "data": {
      "application/vnd.microsoft.datawrangler.viewer.v0+json": {
       "columns": [
        {
         "name": "index",
         "rawType": "int64",
         "type": "integer"
        },
        {
         "name": "uid",
         "rawType": "object",
         "type": "string"
        },
        {
         "name": "num_commits",
         "rawType": "int64",
         "type": "integer"
        },
        {
         "name": "pageviews",
         "rawType": "float64",
         "type": "float"
        },
        {
         "name": "AVG(diff)",
         "rawType": "float64",
         "type": "float"
        }
       ],
       "ref": "9d908e58-9b6f-4000-863e-4ff453e0d835",
       "rows": [
        [
         "0",
         "user_1",
         "62",
         "28.0",
         null
        ],
        [
         "1",
         "user_1",
         "62",
         "28.0",
         null
        ],
        [
         "2",
         "user_1",
         "62",
         "28.0",
         null
        ],
        [
         "3",
         "user_1",
         "62",
         "28.0",
         null
        ],
        [
         "4",
         "user_1",
         "62",
         "28.0",
         null
        ],
        [
         "5",
         "user_1",
         "62",
         "28.0",
         null
        ],
        [
         "6",
         "user_10",
         "20",
         "89.0",
         null
        ],
        [
         "7",
         "user_10",
         "20",
         "89.0",
         null
        ],
        [
         "8",
         "user_10",
         "20",
         "89.0",
         null
        ],
        [
         "9",
         "user_10",
         "20",
         "89.0",
         null
        ],
        [
         "10",
         "user_10",
         "20",
         "89.0",
         null
        ],
        [
         "11",
         "user_10",
         "20",
         "89.0",
         null
        ],
        [
         "12",
         "user_11",
         "7",
         null,
         "-2.0"
        ],
        [
         "13",
         "user_12",
         "86",
         null,
         "-89.0"
        ],
        [
         "14",
         "user_13",
         "52",
         null,
         "-48.5"
        ],
        [
         "15",
         "user_14",
         "61",
         "143.0",
         null
        ],
        [
         "16",
         "user_14",
         "61",
         "143.0",
         null
        ],
        [
         "17",
         "user_14",
         "61",
         "143.0",
         null
        ],
        [
         "18",
         "user_14",
         "61",
         "143.0",
         null
        ],
        [
         "19",
         "user_15",
         "23",
         null,
         "-17.5"
        ],
        [
         "20",
         "user_16",
         "41",
         null,
         "-39.333333333333336"
        ],
        [
         "21",
         "user_17",
         "51",
         "47.0",
         null
        ],
        [
         "22",
         "user_17",
         "51",
         "47.0",
         null
        ],
        [
         "23",
         "user_17",
         "51",
         "47.0",
         null
        ],
        [
         "24",
         "user_17",
         "51",
         "47.0",
         null
        ],
        [
         "25",
         "user_17",
         "51",
         "47.0",
         null
        ],
        [
         "26",
         "user_17",
         "51",
         "47.0",
         null
        ],
        [
         "27",
         "user_18",
         "5",
         "3.0",
         null
        ],
        [
         "28",
         "user_18",
         "5",
         "3.0",
         null
        ],
        [
         "29",
         "user_18",
         "5",
         "3.0",
         null
        ],
        [
         "30",
         "user_18",
         "5",
         "3.0",
         null
        ],
        [
         "31",
         "user_19",
         "118",
         "16.0",
         null
        ],
        [
         "32",
         "user_19",
         "118",
         "16.0",
         null
        ],
        [
         "33",
         "user_19",
         "118",
         "16.0",
         null
        ],
        [
         "34",
         "user_19",
         "118",
         "16.0",
         null
        ],
        [
         "35",
         "user_19",
         "118",
         "16.0",
         null
        ],
        [
         "36",
         "user_2",
         "46",
         null,
         "-137.2"
        ],
        [
         "37",
         "user_20",
         "57",
         null,
         "-27.0"
        ],
        [
         "38",
         "user_21",
         "65",
         "10.0",
         null
        ],
        [
         "39",
         "user_21",
         "65",
         "10.0",
         null
        ],
        [
         "40",
         "user_21",
         "65",
         "10.0",
         null
        ],
        [
         "41",
         "user_21",
         "65",
         "10.0",
         null
        ],
        [
         "42",
         "user_21",
         "65",
         "10.0",
         null
        ],
        [
         "43",
         "user_22",
         "5",
         null,
         "-141.4"
        ],
        [
         "44",
         "user_23",
         "6",
         null,
         "-84.0"
        ],
        [
         "45",
         "user_24",
         "37",
         null,
         "-223.6"
        ],
        [
         "46",
         "user_25",
         "79",
         "179.0",
         null
        ],
        [
         "47",
         "user_25",
         "79",
         "179.0",
         null
        ],
        [
         "48",
         "user_25",
         "79",
         "179.0",
         null
        ],
        [
         "49",
         "user_25",
         "79",
         "179.0",
         null
        ]
       ],
       "shape": {
        "columns": 4,
        "rows": 77
       }
      },
      "text/html": [
       "<div>\n",
       "<style scoped>\n",
       "    .dataframe tbody tr th:only-of-type {\n",
       "        vertical-align: middle;\n",
       "    }\n",
       "\n",
       "    .dataframe tbody tr th {\n",
       "        vertical-align: top;\n",
       "    }\n",
       "\n",
       "    .dataframe thead th {\n",
       "        text-align: right;\n",
       "    }\n",
       "</style>\n",
       "<table border=\"1\" class=\"dataframe\">\n",
       "  <thead>\n",
       "    <tr style=\"text-align: right;\">\n",
       "      <th></th>\n",
       "      <th>uid</th>\n",
       "      <th>num_commits</th>\n",
       "      <th>pageviews</th>\n",
       "      <th>AVG(diff)</th>\n",
       "    </tr>\n",
       "  </thead>\n",
       "  <tbody>\n",
       "    <tr>\n",
       "      <th>0</th>\n",
       "      <td>user_1</td>\n",
       "      <td>62</td>\n",
       "      <td>28.0</td>\n",
       "      <td>NaN</td>\n",
       "    </tr>\n",
       "    <tr>\n",
       "      <th>1</th>\n",
       "      <td>user_1</td>\n",
       "      <td>62</td>\n",
       "      <td>28.0</td>\n",
       "      <td>NaN</td>\n",
       "    </tr>\n",
       "    <tr>\n",
       "      <th>2</th>\n",
       "      <td>user_1</td>\n",
       "      <td>62</td>\n",
       "      <td>28.0</td>\n",
       "      <td>NaN</td>\n",
       "    </tr>\n",
       "    <tr>\n",
       "      <th>3</th>\n",
       "      <td>user_1</td>\n",
       "      <td>62</td>\n",
       "      <td>28.0</td>\n",
       "      <td>NaN</td>\n",
       "    </tr>\n",
       "    <tr>\n",
       "      <th>4</th>\n",
       "      <td>user_1</td>\n",
       "      <td>62</td>\n",
       "      <td>28.0</td>\n",
       "      <td>NaN</td>\n",
       "    </tr>\n",
       "    <tr>\n",
       "      <th>...</th>\n",
       "      <td>...</td>\n",
       "      <td>...</td>\n",
       "      <td>...</td>\n",
       "      <td>...</td>\n",
       "    </tr>\n",
       "    <tr>\n",
       "      <th>72</th>\n",
       "      <td>user_31</td>\n",
       "      <td>128</td>\n",
       "      <td>NaN</td>\n",
       "      <td>-104.75</td>\n",
       "    </tr>\n",
       "    <tr>\n",
       "      <th>73</th>\n",
       "      <td>user_4</td>\n",
       "      <td>40</td>\n",
       "      <td>NaN</td>\n",
       "      <td>-175.60</td>\n",
       "    </tr>\n",
       "    <tr>\n",
       "      <th>74</th>\n",
       "      <td>user_6</td>\n",
       "      <td>15</td>\n",
       "      <td>NaN</td>\n",
       "      <td>-62.60</td>\n",
       "    </tr>\n",
       "    <tr>\n",
       "      <th>75</th>\n",
       "      <td>user_7</td>\n",
       "      <td>8</td>\n",
       "      <td>NaN</td>\n",
       "      <td>-115.50</td>\n",
       "    </tr>\n",
       "    <tr>\n",
       "      <th>76</th>\n",
       "      <td>user_8</td>\n",
       "      <td>71</td>\n",
       "      <td>NaN</td>\n",
       "      <td>-160.40</td>\n",
       "    </tr>\n",
       "  </tbody>\n",
       "</table>\n",
       "<p>77 rows × 4 columns</p>\n",
       "</div>"
      ],
      "text/plain": [
       "        uid  num_commits  pageviews  AVG(diff)\n",
       "0    user_1           62       28.0        NaN\n",
       "1    user_1           62       28.0        NaN\n",
       "2    user_1           62       28.0        NaN\n",
       "3    user_1           62       28.0        NaN\n",
       "4    user_1           62       28.0        NaN\n",
       "..      ...          ...        ...        ...\n",
       "72  user_31          128        NaN    -104.75\n",
       "73   user_4           40        NaN    -175.60\n",
       "74   user_6           15        NaN     -62.60\n",
       "75   user_7            8        NaN    -115.50\n",
       "76   user_8           71        NaN    -160.40\n",
       "\n",
       "[77 rows x 4 columns]"
      ]
     },
     "execution_count": 111,
     "metadata": {},
     "output_type": "execute_result"
    }
   ],
   "source": [
    "df = pd.read_csv('../../datasets/checker_regression.csv')\n",
    "df"
   ]
  },
  {
   "cell_type": "code",
   "execution_count": 112,
   "metadata": {},
   "outputs": [
    {
     "data": {
      "application/vnd.microsoft.datawrangler.viewer.v0+json": {
       "columns": [
        {
         "name": "uid",
         "rawType": "object",
         "type": "string"
        },
        {
         "name": "num_commits",
         "rawType": "int64",
         "type": "integer"
        },
        {
         "name": "pageviews",
         "rawType": "float64",
         "type": "float"
        },
        {
         "name": "AVG(diff)",
         "rawType": "float64",
         "type": "float"
        }
       ],
       "ref": "ce586d0c-092d-4536-9fd6-9c41e4ffa4ec",
       "rows": [
        [
         "user_1",
         "62",
         "28.0",
         "0.0"
        ],
        [
         "user_10",
         "20",
         "89.0",
         "0.0"
        ],
        [
         "user_11",
         "7",
         "0.0",
         "-2.0"
        ],
        [
         "user_12",
         "86",
         "0.0",
         "-89.0"
        ],
        [
         "user_13",
         "52",
         "0.0",
         "-48.5"
        ],
        [
         "user_14",
         "61",
         "143.0",
         "0.0"
        ],
        [
         "user_15",
         "23",
         "0.0",
         "-17.5"
        ],
        [
         "user_16",
         "41",
         "0.0",
         "-39.333333333333336"
        ],
        [
         "user_17",
         "51",
         "47.0",
         "0.0"
        ],
        [
         "user_18",
         "5",
         "3.0",
         "0.0"
        ],
        [
         "user_19",
         "118",
         "16.0",
         "0.0"
        ],
        [
         "user_2",
         "46",
         "0.0",
         "-137.2"
        ],
        [
         "user_20",
         "57",
         "0.0",
         "-27.0"
        ],
        [
         "user_21",
         "65",
         "10.0",
         "0.0"
        ],
        [
         "user_22",
         "5",
         "0.0",
         "-141.4"
        ],
        [
         "user_23",
         "6",
         "0.0",
         "-84.0"
        ],
        [
         "user_24",
         "37",
         "0.0",
         "-223.6"
        ],
        [
         "user_25",
         "79",
         "179.0",
         "0.0"
        ],
        [
         "user_26",
         "36",
         "0.0",
         "-52.333333333333336"
        ],
        [
         "user_27",
         "27",
         "0.0",
         "-5.333333333333333"
        ],
        [
         "user_28",
         "60",
         "149.0",
         "0.0"
        ],
        [
         "user_29",
         "51",
         "0.0",
         "-157.4"
        ],
        [
         "user_3",
         "18",
         "317.0",
         "0.0"
        ],
        [
         "user_30",
         "34",
         "3.0",
         "0.0"
        ],
        [
         "user_31",
         "128",
         "0.0",
         "-104.75"
        ],
        [
         "user_4",
         "40",
         "0.0",
         "-175.6"
        ],
        [
         "user_6",
         "15",
         "0.0",
         "-62.6"
        ],
        [
         "user_7",
         "8",
         "0.0",
         "-115.5"
        ],
        [
         "user_8",
         "71",
         "0.0",
         "-160.4"
        ]
       ],
       "shape": {
        "columns": 3,
        "rows": 29
       }
      },
      "text/html": [
       "<div>\n",
       "<style scoped>\n",
       "    .dataframe tbody tr th:only-of-type {\n",
       "        vertical-align: middle;\n",
       "    }\n",
       "\n",
       "    .dataframe tbody tr th {\n",
       "        vertical-align: top;\n",
       "    }\n",
       "\n",
       "    .dataframe thead th {\n",
       "        text-align: right;\n",
       "    }\n",
       "</style>\n",
       "<table border=\"1\" class=\"dataframe\">\n",
       "  <thead>\n",
       "    <tr style=\"text-align: right;\">\n",
       "      <th></th>\n",
       "      <th>num_commits</th>\n",
       "      <th>pageviews</th>\n",
       "      <th>AVG(diff)</th>\n",
       "    </tr>\n",
       "    <tr>\n",
       "      <th>uid</th>\n",
       "      <th></th>\n",
       "      <th></th>\n",
       "      <th></th>\n",
       "    </tr>\n",
       "  </thead>\n",
       "  <tbody>\n",
       "    <tr>\n",
       "      <th>user_1</th>\n",
       "      <td>62</td>\n",
       "      <td>28.0</td>\n",
       "      <td>0.000000</td>\n",
       "    </tr>\n",
       "    <tr>\n",
       "      <th>user_10</th>\n",
       "      <td>20</td>\n",
       "      <td>89.0</td>\n",
       "      <td>0.000000</td>\n",
       "    </tr>\n",
       "    <tr>\n",
       "      <th>user_11</th>\n",
       "      <td>7</td>\n",
       "      <td>0.0</td>\n",
       "      <td>-2.000000</td>\n",
       "    </tr>\n",
       "    <tr>\n",
       "      <th>user_12</th>\n",
       "      <td>86</td>\n",
       "      <td>0.0</td>\n",
       "      <td>-89.000000</td>\n",
       "    </tr>\n",
       "    <tr>\n",
       "      <th>user_13</th>\n",
       "      <td>52</td>\n",
       "      <td>0.0</td>\n",
       "      <td>-48.500000</td>\n",
       "    </tr>\n",
       "    <tr>\n",
       "      <th>user_14</th>\n",
       "      <td>61</td>\n",
       "      <td>143.0</td>\n",
       "      <td>0.000000</td>\n",
       "    </tr>\n",
       "    <tr>\n",
       "      <th>user_15</th>\n",
       "      <td>23</td>\n",
       "      <td>0.0</td>\n",
       "      <td>-17.500000</td>\n",
       "    </tr>\n",
       "    <tr>\n",
       "      <th>user_16</th>\n",
       "      <td>41</td>\n",
       "      <td>0.0</td>\n",
       "      <td>-39.333333</td>\n",
       "    </tr>\n",
       "    <tr>\n",
       "      <th>user_17</th>\n",
       "      <td>51</td>\n",
       "      <td>47.0</td>\n",
       "      <td>0.000000</td>\n",
       "    </tr>\n",
       "    <tr>\n",
       "      <th>user_18</th>\n",
       "      <td>5</td>\n",
       "      <td>3.0</td>\n",
       "      <td>0.000000</td>\n",
       "    </tr>\n",
       "    <tr>\n",
       "      <th>user_19</th>\n",
       "      <td>118</td>\n",
       "      <td>16.0</td>\n",
       "      <td>0.000000</td>\n",
       "    </tr>\n",
       "    <tr>\n",
       "      <th>user_2</th>\n",
       "      <td>46</td>\n",
       "      <td>0.0</td>\n",
       "      <td>-137.200000</td>\n",
       "    </tr>\n",
       "    <tr>\n",
       "      <th>user_20</th>\n",
       "      <td>57</td>\n",
       "      <td>0.0</td>\n",
       "      <td>-27.000000</td>\n",
       "    </tr>\n",
       "    <tr>\n",
       "      <th>user_21</th>\n",
       "      <td>65</td>\n",
       "      <td>10.0</td>\n",
       "      <td>0.000000</td>\n",
       "    </tr>\n",
       "    <tr>\n",
       "      <th>user_22</th>\n",
       "      <td>5</td>\n",
       "      <td>0.0</td>\n",
       "      <td>-141.400000</td>\n",
       "    </tr>\n",
       "    <tr>\n",
       "      <th>user_23</th>\n",
       "      <td>6</td>\n",
       "      <td>0.0</td>\n",
       "      <td>-84.000000</td>\n",
       "    </tr>\n",
       "    <tr>\n",
       "      <th>user_24</th>\n",
       "      <td>37</td>\n",
       "      <td>0.0</td>\n",
       "      <td>-223.600000</td>\n",
       "    </tr>\n",
       "    <tr>\n",
       "      <th>user_25</th>\n",
       "      <td>79</td>\n",
       "      <td>179.0</td>\n",
       "      <td>0.000000</td>\n",
       "    </tr>\n",
       "    <tr>\n",
       "      <th>user_26</th>\n",
       "      <td>36</td>\n",
       "      <td>0.0</td>\n",
       "      <td>-52.333333</td>\n",
       "    </tr>\n",
       "    <tr>\n",
       "      <th>user_27</th>\n",
       "      <td>27</td>\n",
       "      <td>0.0</td>\n",
       "      <td>-5.333333</td>\n",
       "    </tr>\n",
       "    <tr>\n",
       "      <th>user_28</th>\n",
       "      <td>60</td>\n",
       "      <td>149.0</td>\n",
       "      <td>0.000000</td>\n",
       "    </tr>\n",
       "    <tr>\n",
       "      <th>user_29</th>\n",
       "      <td>51</td>\n",
       "      <td>0.0</td>\n",
       "      <td>-157.400000</td>\n",
       "    </tr>\n",
       "    <tr>\n",
       "      <th>user_3</th>\n",
       "      <td>18</td>\n",
       "      <td>317.0</td>\n",
       "      <td>0.000000</td>\n",
       "    </tr>\n",
       "    <tr>\n",
       "      <th>user_30</th>\n",
       "      <td>34</td>\n",
       "      <td>3.0</td>\n",
       "      <td>0.000000</td>\n",
       "    </tr>\n",
       "    <tr>\n",
       "      <th>user_31</th>\n",
       "      <td>128</td>\n",
       "      <td>0.0</td>\n",
       "      <td>-104.750000</td>\n",
       "    </tr>\n",
       "    <tr>\n",
       "      <th>user_4</th>\n",
       "      <td>40</td>\n",
       "      <td>0.0</td>\n",
       "      <td>-175.600000</td>\n",
       "    </tr>\n",
       "    <tr>\n",
       "      <th>user_6</th>\n",
       "      <td>15</td>\n",
       "      <td>0.0</td>\n",
       "      <td>-62.600000</td>\n",
       "    </tr>\n",
       "    <tr>\n",
       "      <th>user_7</th>\n",
       "      <td>8</td>\n",
       "      <td>0.0</td>\n",
       "      <td>-115.500000</td>\n",
       "    </tr>\n",
       "    <tr>\n",
       "      <th>user_8</th>\n",
       "      <td>71</td>\n",
       "      <td>0.0</td>\n",
       "      <td>-160.400000</td>\n",
       "    </tr>\n",
       "  </tbody>\n",
       "</table>\n",
       "</div>"
      ],
      "text/plain": [
       "         num_commits  pageviews   AVG(diff)\n",
       "uid                                        \n",
       "user_1            62       28.0    0.000000\n",
       "user_10           20       89.0    0.000000\n",
       "user_11            7        0.0   -2.000000\n",
       "user_12           86        0.0  -89.000000\n",
       "user_13           52        0.0  -48.500000\n",
       "user_14           61      143.0    0.000000\n",
       "user_15           23        0.0  -17.500000\n",
       "user_16           41        0.0  -39.333333\n",
       "user_17           51       47.0    0.000000\n",
       "user_18            5        3.0    0.000000\n",
       "user_19          118       16.0    0.000000\n",
       "user_2            46        0.0 -137.200000\n",
       "user_20           57        0.0  -27.000000\n",
       "user_21           65       10.0    0.000000\n",
       "user_22            5        0.0 -141.400000\n",
       "user_23            6        0.0  -84.000000\n",
       "user_24           37        0.0 -223.600000\n",
       "user_25           79      179.0    0.000000\n",
       "user_26           36        0.0  -52.333333\n",
       "user_27           27        0.0   -5.333333\n",
       "user_28           60      149.0    0.000000\n",
       "user_29           51        0.0 -157.400000\n",
       "user_3            18      317.0    0.000000\n",
       "user_30           34        3.0    0.000000\n",
       "user_31          128        0.0 -104.750000\n",
       "user_4            40        0.0 -175.600000\n",
       "user_6            15        0.0  -62.600000\n",
       "user_7             8        0.0 -115.500000\n",
       "user_8            71        0.0 -160.400000"
      ]
     },
     "execution_count": 112,
     "metadata": {},
     "output_type": "execute_result"
    }
   ],
   "source": [
    "df = df.groupby('uid').first().fillna(0)\n",
    "df"
   ]
  },
  {
   "cell_type": "code",
   "execution_count": 113,
   "metadata": {},
   "outputs": [],
   "source": [
    "random_state = 21\n",
    "test_size = 0.2"
   ]
  },
  {
   "cell_type": "code",
   "execution_count": 114,
   "metadata": {},
   "outputs": [
    {
     "data": {
      "text/plain": [
       "Index(['user_1', 'user_10', 'user_11', 'user_12', 'user_13', 'user_14',\n",
       "       'user_15', 'user_16', 'user_17', 'user_18', 'user_19', 'user_2',\n",
       "       'user_20', 'user_21', 'user_22', 'user_23', 'user_24', 'user_25',\n",
       "       'user_26', 'user_27', 'user_28', 'user_29', 'user_3', 'user_30',\n",
       "       'user_31', 'user_4', 'user_6', 'user_7', 'user_8'],\n",
       "      dtype='object', name='uid')"
      ]
     },
     "execution_count": 114,
     "metadata": {},
     "output_type": "execute_result"
    }
   ],
   "source": [
    "df.index"
   ]
  },
  {
   "cell_type": "code",
   "execution_count": 115,
   "metadata": {},
   "outputs": [
    {
     "data": {
      "application/vnd.microsoft.datawrangler.viewer.v0+json": {
       "columns": [
        {
         "name": "uid",
         "rawType": "object",
         "type": "string"
        },
        {
         "name": "AVG(diff)",
         "rawType": "float64",
         "type": "float"
        }
       ],
       "ref": "10da9f49-8b71-47d4-8b3f-c599389f2406",
       "rows": [
        [
         "user_1",
         "0.0"
        ],
        [
         "user_10",
         "0.0"
        ],
        [
         "user_11",
         "-2.0"
        ],
        [
         "user_12",
         "-89.0"
        ],
        [
         "user_13",
         "-48.5"
        ],
        [
         "user_14",
         "0.0"
        ],
        [
         "user_15",
         "-17.5"
        ],
        [
         "user_16",
         "-39.333333333333336"
        ],
        [
         "user_17",
         "0.0"
        ],
        [
         "user_18",
         "0.0"
        ],
        [
         "user_19",
         "0.0"
        ],
        [
         "user_2",
         "-137.2"
        ],
        [
         "user_20",
         "-27.0"
        ],
        [
         "user_21",
         "0.0"
        ],
        [
         "user_22",
         "-141.4"
        ],
        [
         "user_23",
         "-84.0"
        ],
        [
         "user_24",
         "-223.6"
        ],
        [
         "user_25",
         "0.0"
        ],
        [
         "user_26",
         "-52.333333333333336"
        ],
        [
         "user_27",
         "-5.333333333333333"
        ],
        [
         "user_28",
         "0.0"
        ],
        [
         "user_29",
         "-157.4"
        ],
        [
         "user_3",
         "0.0"
        ],
        [
         "user_30",
         "0.0"
        ],
        [
         "user_31",
         "-104.75"
        ],
        [
         "user_4",
         "-175.6"
        ],
        [
         "user_6",
         "-62.6"
        ],
        [
         "user_7",
         "-115.5"
        ],
        [
         "user_8",
         "-160.4"
        ]
       ],
       "shape": {
        "columns": 1,
        "rows": 29
       }
      },
      "text/plain": [
       "uid\n",
       "user_1       0.000000\n",
       "user_10      0.000000\n",
       "user_11     -2.000000\n",
       "user_12    -89.000000\n",
       "user_13    -48.500000\n",
       "user_14      0.000000\n",
       "user_15    -17.500000\n",
       "user_16    -39.333333\n",
       "user_17      0.000000\n",
       "user_18      0.000000\n",
       "user_19      0.000000\n",
       "user_2    -137.200000\n",
       "user_20    -27.000000\n",
       "user_21      0.000000\n",
       "user_22   -141.400000\n",
       "user_23    -84.000000\n",
       "user_24   -223.600000\n",
       "user_25      0.000000\n",
       "user_26    -52.333333\n",
       "user_27     -5.333333\n",
       "user_28      0.000000\n",
       "user_29   -157.400000\n",
       "user_3       0.000000\n",
       "user_30      0.000000\n",
       "user_31   -104.750000\n",
       "user_4    -175.600000\n",
       "user_6     -62.600000\n",
       "user_7    -115.500000\n",
       "user_8    -160.400000\n",
       "Name: AVG(diff), dtype: float64"
      ]
     },
     "execution_count": 115,
     "metadata": {},
     "output_type": "execute_result"
    }
   ],
   "source": [
    "X = df.drop('AVG(diff)', axis=1)\n",
    "y = df['AVG(diff)']\n",
    "y"
   ]
  },
  {
   "cell_type": "code",
   "execution_count": 116,
   "metadata": {},
   "outputs": [],
   "source": [
    "X_train, X_test, y_train, y_test = train_test_split(\n",
    "  X, \n",
    "  y, \n",
    "  test_size=test_size,\n",
    "  random_state=random_state\n",
    ")"
   ]
  },
  {
   "cell_type": "markdown",
   "metadata": {},
   "source": [
    "## 2. Crossvalidation"
   ]
  },
  {
   "cell_type": "markdown",
   "metadata": {},
   "source": [
    "1. Write a function `crossval` that takes as arguments: `n_splits` for `KFold()`, `X`, `y`, model instantiated class with the parameters of the model (keep in mind: `random_state=21`) and returns for a given model class a result like this:\n",
    "\n",
    "```\n",
    "train -  2696.4496895424836   |   test -  1589.9979527104958\n",
    "train -  2660.957874001452   |   test -  2075.102636027137\n",
    "train -  2847.315529246795   |   test -  320.911928168403\n",
    "train -  2500.7691099659237   |   test -  4132.461382030178\n",
    "train -  2643.927917295123   |   test -  2237.8140952197878\n",
    "train -  2396.295678819444   |   test -  4509.650064742476\n",
    "train -  2003.402267924976   |   test -  8403.491474908551\n",
    "train -  2531.876094212613   |   test -  3135.944102735099\n",
    "train -  2683.1795186023123   |   test -  1796.01426292594\n",
    "train -  2537.1192483996338   |   test -  3439.29824116941\n",
    "Average RMSE on crossval is 3164.0686140637476\n",
    "```\n",
    "\n",
    "2. Run the function for `LinearRegression`, `DecisionTreeRegressor`, `RandomForestRegressor`. You may choose the parameters by yourself, but find the good enough for you."
   ]
  },
  {
   "cell_type": "code",
   "execution_count": 117,
   "metadata": {},
   "outputs": [],
   "source": [
    "def crossal(n_splits, X, y, model ):\n",
    "  kf = KFold(\n",
    "    n_splits=n_splits,\n",
    "    shuffle=True,\n",
    "    random_state=random_state,\n",
    "  )\n",
    "  rmse = []\n",
    "  for train, test in kf.split(X, y):\n",
    "    X_train, X_test = X.iloc[train], X.iloc[test]\n",
    "    y_train, y_test = y.iloc[train], y.iloc[test]\n",
    "    model.fit(X_train, y_train)\n",
    "    rmse_train = mean_squared_error(y_train, model.predict(X_train))\n",
    "    rmse_test = mean_squared_error(y_test, model.predict(X_test))\n",
    "    rmse.append(rmse_test)\n",
    "    print(f'train - {rmse_train}\\t| test - {rmse_test}')\n",
    "  print(f'average RMSE - {np.mean(rmse)}')"
   ]
  },
  {
   "cell_type": "code",
   "execution_count": 118,
   "metadata": {},
   "outputs": [
    {
     "name": "stdout",
     "output_type": "stream",
     "text": [
      "train - 5295.46388834845\t| test - 4356.135453423286\n",
      "train - 5412.865304466857\t| test - 3242.1631670283864\n",
      "train - 5405.411503803197\t| test - 8133.5273829168555\n",
      "train - 4927.512813326553\t| test - 7384.282306913413\n",
      "train - 4976.706423733299\t| test - 7205.4787489399505\n",
      "train - 4875.961016142281\t| test - 7927.077421851752\n",
      "train - 5023.194064901886\t| test - 8739.364611253734\n",
      "train - 5684.890435230072\t| test - 804.5013949019562\n",
      "train - 4392.455725471922\t| test - 12159.076796578904\n",
      "train - 5335.670087320614\t| test - 3068.5791178086515\n",
      "average RMSE - 6302.018640161689\n"
     ]
    }
   ],
   "source": [
    "logreg = LinearRegression(\n",
    "  fit_intercept=False\n",
    ")\n",
    "crossal(10, X, y, logreg)"
   ]
  },
  {
   "cell_type": "code",
   "execution_count": 119,
   "metadata": {},
   "outputs": [
    {
     "name": "stdout",
     "output_type": "stream",
     "text": [
      "train - 0.0\t| test - 13730.493703703702\n",
      "train - 0.0\t| test - 6325.548148148147\n",
      "train - 0.0\t| test - 0.0\n",
      "train - 0.0\t| test - 6238.877407407406\n",
      "train - 0.0\t| test - 10275.27925925926\n",
      "train - 0.0\t| test - 1252.3366666666668\n",
      "train - 0.0\t| test - 0.0\n",
      "train - 0.0\t| test - 4873.456666666667\n",
      "train - 0.0\t| test - 13813.181203703702\n",
      "train - 0.0\t| test - 1647.3800000000003\n",
      "average RMSE - 5815.655305555555\n"
     ]
    }
   ],
   "source": [
    "tree = DecisionTreeRegressor(\n",
    "  max_depth=10,\n",
    ")\n",
    "crossal(10, X, y, tree)"
   ]
  },
  {
   "cell_type": "code",
   "execution_count": 120,
   "metadata": {},
   "outputs": [
    {
     "name": "stdout",
     "output_type": "stream",
     "text": [
      "train - 437.675518608974\t| test - 9506.903533962966\n",
      "train - 506.8671323504283\t| test - 6086.63726592594\n",
      "train - 700.0013565982892\t| test - 427.6075729259262\n",
      "train - 615.1183248076918\t| test - 3213.5964167407406\n",
      "train - 501.7803687264952\t| test - 6044.27330625926\n",
      "train - 568.798795458333\t| test - 2908.8027763333316\n",
      "train - 623.0037139786323\t| test - 66.27949141666667\n",
      "train - 592.0100860299145\t| test - 3296.688236490738\n",
      "train - 472.99996244871727\t| test - 8325.367059407412\n",
      "train - 696.9782499804528\t| test - 1033.9958284999977\n",
      "average RMSE - 4091.0151487962976\n"
     ]
    }
   ],
   "source": [
    "forest = RandomForestRegressor(\n",
    "  max_depth=10,\n",
    "  n_estimators=100,\n",
    "  random_state=random_state\n",
    ")\n",
    "crossal(10, X, y, forest)"
   ]
  },
  {
   "cell_type": "markdown",
   "metadata": {},
   "source": [
    "## 3. Predictions and evaluation"
   ]
  },
  {
   "cell_type": "markdown",
   "metadata": {},
   "source": [
    "1. Make predictions for the test dataset using each of the three models with the finalized parameters.\n",
    "2. Draw a plot for each of the models where the `x-axis` is the actual average difference and the `y-axis` is the prediction made by a model.\n",
    "3. How would plot look like in the ideal case? Put the answer to the markdown cell in the end of the section."
   ]
  },
  {
   "cell_type": "code",
   "execution_count": 121,
   "metadata": {},
   "outputs": [
    {
     "data": {
      "application/vnd.microsoft.datawrangler.viewer.v0+json": {
       "columns": [
        {
         "name": "uid",
         "rawType": "object",
         "type": "string"
        },
        {
         "name": "AVG(diff)",
         "rawType": "float64",
         "type": "float"
        },
        {
         "name": "logreg",
         "rawType": "float64",
         "type": "float"
        },
        {
         "name": "tree",
         "rawType": "float64",
         "type": "float"
        },
        {
         "name": "forest",
         "rawType": "float64",
         "type": "float"
        }
       ],
       "ref": "1df14d4b-9d68-4504-854b-918c49255b96",
       "rows": [
        [
         "user_26",
         "-52.333333333333336",
         "-34.60202871511575",
         "-52.333333333333336",
         "-107.93666666666674"
        ],
        [
         "user_29",
         "-157.4",
         "-49.019540679747315",
         "-157.4",
         "-118.43833333333319"
        ],
        [
         "user_10",
         "0.0",
         "1.9094942067773992",
         "0.0",
         "-0.175"
        ],
        [
         "user_2",
         "-137.2",
         "-44.21370335820346",
         "-137.2",
         "-105.1483333333334"
        ],
        [
         "user_14",
         "0.0",
         "-24.676197126292863",
         "0.0",
         "0.0"
        ],
        [
         "user_16",
         "-39.333333333333336",
         "-39.407866036659605",
         "-39.333333333333336",
         "-76.30599999999998"
        ]
       ],
       "shape": {
        "columns": 4,
        "rows": 6
       }
      },
      "text/html": [
       "<div>\n",
       "<style scoped>\n",
       "    .dataframe tbody tr th:only-of-type {\n",
       "        vertical-align: middle;\n",
       "    }\n",
       "\n",
       "    .dataframe tbody tr th {\n",
       "        vertical-align: top;\n",
       "    }\n",
       "\n",
       "    .dataframe thead th {\n",
       "        text-align: right;\n",
       "    }\n",
       "</style>\n",
       "<table border=\"1\" class=\"dataframe\">\n",
       "  <thead>\n",
       "    <tr style=\"text-align: right;\">\n",
       "      <th></th>\n",
       "      <th>AVG(diff)</th>\n",
       "      <th>logreg</th>\n",
       "      <th>tree</th>\n",
       "      <th>forest</th>\n",
       "    </tr>\n",
       "    <tr>\n",
       "      <th>uid</th>\n",
       "      <th></th>\n",
       "      <th></th>\n",
       "      <th></th>\n",
       "      <th></th>\n",
       "    </tr>\n",
       "  </thead>\n",
       "  <tbody>\n",
       "    <tr>\n",
       "      <th>user_26</th>\n",
       "      <td>-52.333333</td>\n",
       "      <td>-34.602029</td>\n",
       "      <td>-52.333333</td>\n",
       "      <td>-107.936667</td>\n",
       "    </tr>\n",
       "    <tr>\n",
       "      <th>user_29</th>\n",
       "      <td>-157.400000</td>\n",
       "      <td>-49.019541</td>\n",
       "      <td>-157.400000</td>\n",
       "      <td>-118.438333</td>\n",
       "    </tr>\n",
       "    <tr>\n",
       "      <th>user_10</th>\n",
       "      <td>0.000000</td>\n",
       "      <td>1.909494</td>\n",
       "      <td>0.000000</td>\n",
       "      <td>-0.175000</td>\n",
       "    </tr>\n",
       "    <tr>\n",
       "      <th>user_2</th>\n",
       "      <td>-137.200000</td>\n",
       "      <td>-44.213703</td>\n",
       "      <td>-137.200000</td>\n",
       "      <td>-105.148333</td>\n",
       "    </tr>\n",
       "    <tr>\n",
       "      <th>user_14</th>\n",
       "      <td>0.000000</td>\n",
       "      <td>-24.676197</td>\n",
       "      <td>0.000000</td>\n",
       "      <td>0.000000</td>\n",
       "    </tr>\n",
       "    <tr>\n",
       "      <th>user_16</th>\n",
       "      <td>-39.333333</td>\n",
       "      <td>-39.407866</td>\n",
       "      <td>-39.333333</td>\n",
       "      <td>-76.306000</td>\n",
       "    </tr>\n",
       "  </tbody>\n",
       "</table>\n",
       "</div>"
      ],
      "text/plain": [
       "          AVG(diff)     logreg        tree      forest\n",
       "uid                                                   \n",
       "user_26  -52.333333 -34.602029  -52.333333 -107.936667\n",
       "user_29 -157.400000 -49.019541 -157.400000 -118.438333\n",
       "user_10    0.000000   1.909494    0.000000   -0.175000\n",
       "user_2  -137.200000 -44.213703 -137.200000 -105.148333\n",
       "user_14    0.000000 -24.676197    0.000000    0.000000\n",
       "user_16  -39.333333 -39.407866  -39.333333  -76.306000"
      ]
     },
     "execution_count": 121,
     "metadata": {},
     "output_type": "execute_result"
    }
   ],
   "source": [
    "predictions = pd.DataFrame(\n",
    "  {\n",
    "    'AVG(diff)': y_test,\n",
    "    'logreg': logreg.predict(X_test),\n",
    "    'tree': tree.predict(X_test),\n",
    "    'forest': forest.predict(X_test)\n",
    "  },\n",
    "  index=X_test.index\n",
    ")\n",
    "predictions"
   ]
  },
  {
   "cell_type": "code",
   "execution_count": 122,
   "metadata": {},
   "outputs": [
    {
     "data": {
      "image/png": "[encoded data removed]",
      "text/plain": [
       "<Figure size 1500x800 with 1 Axes>"
      ]
     },
     "metadata": {},
     "output_type": "display_data"
    },
    {
     "data": {
      "image/png": "[encoded data removed]",
      "text/plain": [
       "<Figure size 1500x800 with 1 Axes>"
      ]
     },
     "metadata": {},
     "output_type": "display_data"
    },
    {
     "data": {
      "image/png": "[encoded data removed]",
      "text/plain": [
       "<Figure size 1500x800 with 1 Axes>"
      ]
     },
     "metadata": {},
     "output_type": "display_data"
    }
   ],
   "source": [
    "for model in ['logreg', 'tree', 'forest']:\n",
    "  predictions.plot.scatter(x='AVG(diff)', y=model, figsize=(15, 8), s=200)\n",
    "  plt.suptitle(model, fontsize=30)\n",
    "  plt.grid()"
   ]
  },
  {
   "cell_type": "markdown",
   "metadata": {},
   "source": [
    "Diagonal"
   ]
  }
 ],
 "metadata": {
  "kernelspec": {
   "display_name": ".venv",
   "language": "python",
   "name": "python3"
  },
  "language_info": {
   "codemirror_mode": {
    "name": "ipython",
    "version": 3
   },
   "file_extension": ".py",
   "mimetype": "text/x-python",
   "name": "python",
   "nbconvert_exporter": "python",
   "pygments_lexer": "ipython3",
   "version": "3.12.3"
  }
 },
 "nbformat": 4,
 "nbformat_minor": 4
}
