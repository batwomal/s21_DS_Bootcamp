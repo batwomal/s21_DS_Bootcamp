{
 "cells": [
  {
   "cell_type": "code",
   "execution_count": 17,
   "metadata": {},
   "outputs": [],
   "source": [
    "import pandas as pd\n",
    "import sqlite3"
   ]
  },
  {
   "cell_type": "markdown",
   "metadata": {},
   "source": [
    "## create a connection to the database using the library `sqlite3`"
   ]
  },
  {
   "cell_type": "code",
   "execution_count": 18,
   "metadata": {},
   "outputs": [],
   "source": [
    "con = sqlite3.connect('../../datasets/checking-logs.sqlite')"
   ]
  },
  {
   "cell_type": "markdown",
   "metadata": {},
   "source": [
    "## find among all the users the `minimum` value of the delta between the first commit of the user and the deadline of the corresponding lab using only one query\n",
    "  * do this by joining the table with the table `deadlines`\n",
    "  * the difference should be displayed in `hours`\n",
    "  * do not take the lab `project1` into account, it has longer deadlines and will be\n",
    "  an outlier\n",
    "  * the value should be stored in the dataframe `df_min` with the corresponding\n",
    "  uid"
   ]
  },
  {
   "cell_type": "code",
   "execution_count": 19,
   "metadata": {},
   "outputs": [
    {
     "data": {
      "text/html": [
       "<div>\n",
       "<style scoped>\n",
       "    .dataframe tbody tr th:only-of-type {\n",
       "        vertical-align: middle;\n",
       "    }\n",
       "\n",
       "    .dataframe tbody tr th {\n",
       "        vertical-align: top;\n",
       "    }\n",
       "\n",
       "    .dataframe thead th {\n",
       "        text-align: right;\n",
       "    }\n",
       "</style>\n",
       "<table border=\"1\" class=\"dataframe\">\n",
       "  <thead>\n",
       "    <tr style=\"text-align: right;\">\n",
       "      <th></th>\n",
       "      <th>time</th>\n",
       "      <th>average</th>\n",
       "    </tr>\n",
       "  </thead>\n",
       "  <tbody>\n",
       "    <tr>\n",
       "      <th>0</th>\n",
       "      <td>after</td>\n",
       "      <td>-104.6000</td>\n",
       "    </tr>\n",
       "    <tr>\n",
       "      <th>1</th>\n",
       "      <td>before</td>\n",
       "      <td>-60.5625</td>\n",
       "    </tr>\n",
       "  </tbody>\n",
       "</table>\n",
       "</div>"
      ],
      "text/plain": [
       "     time   average\n",
       "0   after -104.6000\n",
       "1  before  -60.5625"
      ]
     },
     "execution_count": 19,
     "metadata": {},
     "output_type": "execute_result"
    }
   ],
   "source": [
    "test_results = pd.read_sql(\n",
    "    '''\n",
    "        SELECT\n",
    "            time,\n",
    "            AVG(delta) AS average\n",
    "        FROM (\n",
    "            SELECT \n",
    "                t.uid,\n",
    "                CAST((julianday(t.first_commit_ts) - julianday(d.deadlines, 'unixepoch'))\n",
    "                 * 24 AS INTEGER) AS delta,\n",
    "                CASE WHEN t.first_commit_ts < t.first_view_ts THEN 'before'\n",
    "                    ELSE 'after' END AS time\n",
    "            FROM test AS t\n",
    "            LEFT JOIN deadlines AS d ON t.labname = d.labs\n",
    "            WHERE t.labname <> 'project1'\n",
    "        )\n",
    "        WHERE uid in (\n",
    "                    SELECT uid\n",
    "                    FROM (\n",
    "                        SELECT t.uid,  \n",
    "                        CASE WHEN t.first_commit_ts < t.first_view_ts THEN 'before'\n",
    "                            ELSE 'after' END AS time\n",
    "                        FROM test AS t\n",
    "                        LEFT JOIN deadlines AS d ON t.labname = d.labs\n",
    "                        WHERE t.labname <> 'project1'\n",
    "                        GROUP BY t.uid\n",
    "                        HAVING COUNT(DISTINCT time) = 2\n",
    "                    )\n",
    "                )\n",
    "        GROUP BY time \n",
    "    ''',\n",
    "    con\n",
    ")\n",
    "test_results"
   ]
  },
  {
   "cell_type": "code",
   "execution_count": 20,
   "metadata": {},
   "outputs": [
    {
     "data": {
      "text/html": [
       "<div>\n",
       "<style scoped>\n",
       "    .dataframe tbody tr th:only-of-type {\n",
       "        vertical-align: middle;\n",
       "    }\n",
       "\n",
       "    .dataframe tbody tr th {\n",
       "        vertical-align: top;\n",
       "    }\n",
       "\n",
       "    .dataframe thead th {\n",
       "        text-align: right;\n",
       "    }\n",
       "</style>\n",
       "<table border=\"1\" class=\"dataframe\">\n",
       "  <thead>\n",
       "    <tr style=\"text-align: right;\">\n",
       "      <th></th>\n",
       "      <th>time</th>\n",
       "      <th>average</th>\n",
       "    </tr>\n",
       "  </thead>\n",
       "  <tbody>\n",
       "    <tr>\n",
       "      <th>0</th>\n",
       "      <td>after</td>\n",
       "      <td>-117.636364</td>\n",
       "    </tr>\n",
       "    <tr>\n",
       "      <th>1</th>\n",
       "      <td>before</td>\n",
       "      <td>-99.464286</td>\n",
       "    </tr>\n",
       "  </tbody>\n",
       "</table>\n",
       "</div>"
      ],
      "text/plain": [
       "     time     average\n",
       "0   after -117.636364\n",
       "1  before  -99.464286"
      ]
     },
     "execution_count": 20,
     "metadata": {},
     "output_type": "execute_result"
    }
   ],
   "source": [
    "control_results = pd.read_sql(\n",
    "    '''\n",
    "        SELECT\n",
    "            time,\n",
    "            AVG(delta) AS average\n",
    "        FROM (\n",
    "            SELECT \n",
    "                c.uid,\n",
    "                CAST((julianday(c.first_commit_ts) - julianday(d.deadlines, 'unixepoch'))\n",
    "                 * 24 AS INTEGER) AS delta,\n",
    "                CASE WHEN c.first_commit_ts < c.first_view_ts THEN 'before'\n",
    "                    ELSE 'after' END AS time\n",
    "            FROM control AS c\n",
    "            LEFT JOIN deadlines AS d ON c.labname = d.labs\n",
    "            WHERE c.labname <> 'project1'\n",
    "        )\n",
    "        WHERE uid in (\n",
    "                    SELECT uid\n",
    "                    FROM (\n",
    "                        SELECT c.uid,  \n",
    "                        CASE WHEN c.first_commit_ts < c.first_view_ts THEN 'before'\n",
    "                            ELSE 'after' END AS time\n",
    "                        FROM control AS c\n",
    "                        LEFT JOIN deadlines AS d ON c.labname = d.labs\n",
    "                        WHERE c.labname <> 'project1'\n",
    "                        GROUP BY c.uid\n",
    "                        HAVING COUNT(DISTINCT time) = 2\n",
    "                    )\n",
    "                )\n",
    "        GROUP BY time \n",
    "    ''',\n",
    "    con\n",
    ")\n",
    "control_results"
   ]
  },
  {
   "cell_type": "markdown",
   "metadata": {},
   "source": [
    "## Close the connection"
   ]
  },
  {
   "cell_type": "code",
   "execution_count": 21,
   "metadata": {},
   "outputs": [],
   "source": [
    "con.close()"
   ]
  }
 ],
 "metadata": {
  "kernelspec": {
   "display_name": ".venv",
   "language": "python",
   "name": "python3"
  },
  "language_info": {
   "codemirror_mode": {
    "name": "ipython",
    "version": 3
   },
   "file_extension": ".py",
   "mimetype": "text/x-python",
   "name": "python",
   "nbconvert_exporter": "python",
   "pygments_lexer": "ipython3",
   "version": "3.12.3"
  }
 },
 "nbformat": 4,
 "nbformat_minor": 2
}
