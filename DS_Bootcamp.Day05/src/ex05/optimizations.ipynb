{
 "cells": [
  {
   "cell_type": "code",
   "execution_count": 127,
   "metadata": {},
   "outputs": [],
   "source": [
    "import pandas as pd\n",
    "import gc"
   ]
  },
  {
   "cell_type": "markdown",
   "metadata": {},
   "source": [
    "## read the fines.csv that you saved in the previous exercise"
   ]
  },
  {
   "cell_type": "code",
   "execution_count": 128,
   "metadata": {},
   "outputs": [
    {
     "data": {
      "text/html": [
       "<div>\n",
       "<style scoped>\n",
       "    .dataframe tbody tr th:only-of-type {\n",
       "        vertical-align: middle;\n",
       "    }\n",
       "\n",
       "    .dataframe tbody tr th {\n",
       "        vertical-align: top;\n",
       "    }\n",
       "\n",
       "    .dataframe thead th {\n",
       "        text-align: right;\n",
       "    }\n",
       "</style>\n",
       "<table border=\"1\" class=\"dataframe\">\n",
       "  <thead>\n",
       "    <tr style=\"text-align: right;\">\n",
       "      <th></th>\n",
       "      <th>CarNumber</th>\n",
       "      <th>Refund</th>\n",
       "      <th>Fines</th>\n",
       "      <th>Make</th>\n",
       "      <th>Model</th>\n",
       "      <th>Year</th>\n",
       "    </tr>\n",
       "  </thead>\n",
       "  <tbody>\n",
       "    <tr>\n",
       "      <th>0</th>\n",
       "      <td>Y163O8161RUS</td>\n",
       "      <td>2.000</td>\n",
       "      <td>3200.0</td>\n",
       "      <td>Ford</td>\n",
       "      <td>Focus</td>\n",
       "      <td>2018</td>\n",
       "    </tr>\n",
       "    <tr>\n",
       "      <th>1</th>\n",
       "      <td>E432XX77RUS</td>\n",
       "      <td>1.000</td>\n",
       "      <td>6500.0</td>\n",
       "      <td>Toyota</td>\n",
       "      <td>Camry</td>\n",
       "      <td>2008</td>\n",
       "    </tr>\n",
       "    <tr>\n",
       "      <th>2</th>\n",
       "      <td>7184TT36RUS</td>\n",
       "      <td>1.000</td>\n",
       "      <td>2100.0</td>\n",
       "      <td>Ford</td>\n",
       "      <td>Focus</td>\n",
       "      <td>1994</td>\n",
       "    </tr>\n",
       "    <tr>\n",
       "      <th>3</th>\n",
       "      <td>X582HE161RUS</td>\n",
       "      <td>2.000</td>\n",
       "      <td>2000.0</td>\n",
       "      <td>Ford</td>\n",
       "      <td>Focus</td>\n",
       "      <td>1987</td>\n",
       "    </tr>\n",
       "    <tr>\n",
       "      <th>4</th>\n",
       "      <td>92918M178RUS</td>\n",
       "      <td>1.000</td>\n",
       "      <td>5700.0</td>\n",
       "      <td>Ford</td>\n",
       "      <td>Focus</td>\n",
       "      <td>2000</td>\n",
       "    </tr>\n",
       "    <tr>\n",
       "      <th>...</th>\n",
       "      <td>...</td>\n",
       "      <td>...</td>\n",
       "      <td>...</td>\n",
       "      <td>...</td>\n",
       "      <td>...</td>\n",
       "      <td>...</td>\n",
       "    </tr>\n",
       "    <tr>\n",
       "      <th>925</th>\n",
       "      <td>a121345raaa</td>\n",
       "      <td>2.000</td>\n",
       "      <td>12345.0</td>\n",
       "      <td>Harry</td>\n",
       "      <td>Potter</td>\n",
       "      <td>1000</td>\n",
       "    </tr>\n",
       "    <tr>\n",
       "      <th>926</th>\n",
       "      <td>33XJudas</td>\n",
       "      <td>3.140</td>\n",
       "      <td>1337.0</td>\n",
       "      <td>Jesus</td>\n",
       "      <td>Christ</td>\n",
       "      <td>0</td>\n",
       "    </tr>\n",
       "    <tr>\n",
       "      <th>927</th>\n",
       "      <td>BigChungus42</td>\n",
       "      <td>69.000</td>\n",
       "      <td>420.0</td>\n",
       "      <td>Shrek</td>\n",
       "      <td>Swamp</td>\n",
       "      <td>2000</td>\n",
       "    </tr>\n",
       "    <tr>\n",
       "      <th>928</th>\n",
       "      <td>Poland</td>\n",
       "      <td>4.200</td>\n",
       "      <td>123.0</td>\n",
       "      <td>BOBR</td>\n",
       "      <td>Kurva</td>\n",
       "      <td>2007</td>\n",
       "    </tr>\n",
       "    <tr>\n",
       "      <th>929</th>\n",
       "      <td>DogeCoinToTheMoon</td>\n",
       "      <td>1.618</td>\n",
       "      <td>1000000.0</td>\n",
       "      <td>Elon</td>\n",
       "      <td>Tusk</td>\n",
       "      <td>2023</td>\n",
       "    </tr>\n",
       "  </tbody>\n",
       "</table>\n",
       "<p>930 rows × 6 columns</p>\n",
       "</div>"
      ],
      "text/plain": [
       "             CarNumber  Refund      Fines    Make   Model  Year\n",
       "0         Y163O8161RUS   2.000     3200.0    Ford   Focus  2018\n",
       "1          E432XX77RUS   1.000     6500.0  Toyota   Camry  2008\n",
       "2          7184TT36RUS   1.000     2100.0    Ford   Focus  1994\n",
       "3         X582HE161RUS   2.000     2000.0    Ford   Focus  1987\n",
       "4         92918M178RUS   1.000     5700.0    Ford   Focus  2000\n",
       "..                 ...     ...        ...     ...     ...   ...\n",
       "925        a121345raaa   2.000    12345.0   Harry  Potter  1000\n",
       "926           33XJudas   3.140     1337.0   Jesus  Christ     0\n",
       "927       BigChungus42  69.000      420.0   Shrek   Swamp  2000\n",
       "928             Poland   4.200      123.0    BOBR   Kurva  2007\n",
       "929  DogeCoinToTheMoon   1.618  1000000.0    Elon    Tusk  2023\n",
       "\n",
       "[930 rows x 6 columns]"
      ]
     },
     "execution_count": 128,
     "metadata": {},
     "output_type": "execute_result"
    }
   ],
   "source": [
    "fines = pd.read_csv('../ex04/fines.csv')\n",
    "fines"
   ]
  },
  {
   "cell_type": "markdown",
   "metadata": {},
   "source": [
    "## iterations: in all the following subtasks, you need to calculate `fines/refund*year` for each row and create a new column with the calculated data and measure the time using the magic command `%%timeit` in the cell"
   ]
  },
  {
   "cell_type": "markdown",
   "metadata": {},
   "source": [
    "\n",
    "### loop: write a function that iterates through the dataframe using `for i in range(0, len(df))`, `iloc` and `append()` to a list, assign the result of the function to a new column in the dataframe\n"
   ]
  },
  {
   "cell_type": "code",
   "execution_count": 129,
   "metadata": {},
   "outputs": [],
   "source": [
    "def loop_calc(df):\n",
    "  calc = []\n",
    "  for i in range(0, len(df)):\n",
    "    calc.append(df.iloc[i]['Fines'] / df.iloc[i]\n",
    "                ['Refund'] * df.iloc[i]['Year'])\n",
    "  return calc"
   ]
  },
  {
   "cell_type": "code",
   "execution_count": 130,
   "metadata": {},
   "outputs": [
    {
     "name": "stdout",
     "output_type": "stream",
     "text": [
      "79.6 ms ± 707 μs per loop (mean ± std. dev. of 7 runs, 10 loops each)\n"
     ]
    }
   ],
   "source": [
    "%%timeit \n",
    "fines['CalcLoop'] = loop_calc(fines)"
   ]
  },
  {
   "cell_type": "markdown",
   "metadata": {},
   "source": [
    "### do it using `iterrows()`"
   ]
  },
  {
   "cell_type": "code",
   "execution_count": 131,
   "metadata": {},
   "outputs": [],
   "source": [
    "def calc_iter(df):\n",
    "  return [row['Fines'] / row['Refund'] * row['Year'] for _, row in df.iterrows()]"
   ]
  },
  {
   "cell_type": "code",
   "execution_count": 132,
   "metadata": {},
   "outputs": [
    {
     "name": "stdout",
     "output_type": "stream",
     "text": [
      "27.3 ms ± 175 μs per loop (mean ± std. dev. of 7 runs, 10 loops each)\n"
     ]
    }
   ],
   "source": [
    "%%timeit\n",
    "fines['CalcInter']  = calc_iter(fines)"
   ]
  },
  {
   "cell_type": "markdown",
   "metadata": {},
   "source": [
    "### do it using `apply()` and lambda function"
   ]
  },
  {
   "cell_type": "code",
   "execution_count": 133,
   "metadata": {},
   "outputs": [],
   "source": [
    "def calc_apply(df):\n",
    "  return df.apply(\n",
    "      lambda x:   x['Fines'] / x['Refund'] * x['Year'],\n",
    "      axis=1,\n",
    "  )"
   ]
  },
  {
   "cell_type": "code",
   "execution_count": 134,
   "metadata": {},
   "outputs": [
    {
     "name": "stdout",
     "output_type": "stream",
     "text": [
      "6.73 ms ± 77.8 μs per loop (mean ± std. dev. of 7 runs, 100 loops each)\n"
     ]
    }
   ],
   "source": [
    "%%timeit\n",
    "fines['CalcApply'] = calc_apply(fines)"
   ]
  },
  {
   "cell_type": "markdown",
   "metadata": {},
   "source": [
    "### do it using `Series` objects from the dataframe"
   ]
  },
  {
   "cell_type": "code",
   "execution_count": 135,
   "metadata": {},
   "outputs": [],
   "source": [
    "def calc_series(df):\n",
    "  return df['Fines'] / df['Refund'] * df['Year']"
   ]
  },
  {
   "cell_type": "code",
   "execution_count": 136,
   "metadata": {},
   "outputs": [
    {
     "name": "stdout",
     "output_type": "stream",
     "text": [
      "148 μs ± 2.84 μs per loop (mean ± std. dev. of 7 runs, 1,000 loops each)\n"
     ]
    }
   ],
   "source": [
    "%%timeit\n",
    "fines['CalcSeries'] = calc_series(fines)"
   ]
  },
  {
   "cell_type": "markdown",
   "metadata": {},
   "source": [
    "### do it as in the previous subtask but with the method `.values`"
   ]
  },
  {
   "cell_type": "code",
   "execution_count": 137,
   "metadata": {},
   "outputs": [],
   "source": [
    "def calc_series_values(df):\n",
    "  return df['Fines'].values / df['Refund'].values * df['Year'].values"
   ]
  },
  {
   "cell_type": "code",
   "execution_count": 138,
   "metadata": {},
   "outputs": [
    {
     "name": "stdout",
     "output_type": "stream",
     "text": [
      "70.3 μs ± 1.42 μs per loop (mean ± std. dev. of 7 runs, 10,000 loops each)\n"
     ]
    }
   ],
   "source": [
    "%%timeit\n",
    "fines['CalcSeriesValues'] = calc_series_values(fines)"
   ]
  },
  {
   "cell_type": "markdown",
   "metadata": {},
   "source": [
    "### final df"
   ]
  },
  {
   "cell_type": "code",
   "execution_count": 139,
   "metadata": {},
   "outputs": [
    {
     "data": {
      "text/html": [
       "<div>\n",
       "<style scoped>\n",
       "    .dataframe tbody tr th:only-of-type {\n",
       "        vertical-align: middle;\n",
       "    }\n",
       "\n",
       "    .dataframe tbody tr th {\n",
       "        vertical-align: top;\n",
       "    }\n",
       "\n",
       "    .dataframe thead th {\n",
       "        text-align: right;\n",
       "    }\n",
       "</style>\n",
       "<table border=\"1\" class=\"dataframe\">\n",
       "  <thead>\n",
       "    <tr style=\"text-align: right;\">\n",
       "      <th></th>\n",
       "      <th>CarNumber</th>\n",
       "      <th>Refund</th>\n",
       "      <th>Fines</th>\n",
       "      <th>Make</th>\n",
       "      <th>Model</th>\n",
       "      <th>Year</th>\n",
       "      <th>CalcLoop</th>\n",
       "      <th>CalcInter</th>\n",
       "      <th>CalcApply</th>\n",
       "      <th>CalcSeries</th>\n",
       "      <th>CalcSeriesValues</th>\n",
       "    </tr>\n",
       "  </thead>\n",
       "  <tbody>\n",
       "    <tr>\n",
       "      <th>0</th>\n",
       "      <td>Y163O8161RUS</td>\n",
       "      <td>2.000</td>\n",
       "      <td>3200.0</td>\n",
       "      <td>Ford</td>\n",
       "      <td>Focus</td>\n",
       "      <td>2018</td>\n",
       "      <td>3.228800e+06</td>\n",
       "      <td>3.228800e+06</td>\n",
       "      <td>3.228800e+06</td>\n",
       "      <td>3.228800e+06</td>\n",
       "      <td>3.228800e+06</td>\n",
       "    </tr>\n",
       "    <tr>\n",
       "      <th>1</th>\n",
       "      <td>E432XX77RUS</td>\n",
       "      <td>1.000</td>\n",
       "      <td>6500.0</td>\n",
       "      <td>Toyota</td>\n",
       "      <td>Camry</td>\n",
       "      <td>2008</td>\n",
       "      <td>1.305200e+07</td>\n",
       "      <td>1.305200e+07</td>\n",
       "      <td>1.305200e+07</td>\n",
       "      <td>1.305200e+07</td>\n",
       "      <td>1.305200e+07</td>\n",
       "    </tr>\n",
       "    <tr>\n",
       "      <th>2</th>\n",
       "      <td>7184TT36RUS</td>\n",
       "      <td>1.000</td>\n",
       "      <td>2100.0</td>\n",
       "      <td>Ford</td>\n",
       "      <td>Focus</td>\n",
       "      <td>1994</td>\n",
       "      <td>4.187400e+06</td>\n",
       "      <td>4.187400e+06</td>\n",
       "      <td>4.187400e+06</td>\n",
       "      <td>4.187400e+06</td>\n",
       "      <td>4.187400e+06</td>\n",
       "    </tr>\n",
       "    <tr>\n",
       "      <th>3</th>\n",
       "      <td>X582HE161RUS</td>\n",
       "      <td>2.000</td>\n",
       "      <td>2000.0</td>\n",
       "      <td>Ford</td>\n",
       "      <td>Focus</td>\n",
       "      <td>1987</td>\n",
       "      <td>1.987000e+06</td>\n",
       "      <td>1.987000e+06</td>\n",
       "      <td>1.987000e+06</td>\n",
       "      <td>1.987000e+06</td>\n",
       "      <td>1.987000e+06</td>\n",
       "    </tr>\n",
       "    <tr>\n",
       "      <th>4</th>\n",
       "      <td>92918M178RUS</td>\n",
       "      <td>1.000</td>\n",
       "      <td>5700.0</td>\n",
       "      <td>Ford</td>\n",
       "      <td>Focus</td>\n",
       "      <td>2000</td>\n",
       "      <td>1.140000e+07</td>\n",
       "      <td>1.140000e+07</td>\n",
       "      <td>1.140000e+07</td>\n",
       "      <td>1.140000e+07</td>\n",
       "      <td>1.140000e+07</td>\n",
       "    </tr>\n",
       "    <tr>\n",
       "      <th>...</th>\n",
       "      <td>...</td>\n",
       "      <td>...</td>\n",
       "      <td>...</td>\n",
       "      <td>...</td>\n",
       "      <td>...</td>\n",
       "      <td>...</td>\n",
       "      <td>...</td>\n",
       "      <td>...</td>\n",
       "      <td>...</td>\n",
       "      <td>...</td>\n",
       "      <td>...</td>\n",
       "    </tr>\n",
       "    <tr>\n",
       "      <th>925</th>\n",
       "      <td>a121345raaa</td>\n",
       "      <td>2.000</td>\n",
       "      <td>12345.0</td>\n",
       "      <td>Harry</td>\n",
       "      <td>Potter</td>\n",
       "      <td>1000</td>\n",
       "      <td>6.172500e+06</td>\n",
       "      <td>6.172500e+06</td>\n",
       "      <td>6.172500e+06</td>\n",
       "      <td>6.172500e+06</td>\n",
       "      <td>6.172500e+06</td>\n",
       "    </tr>\n",
       "    <tr>\n",
       "      <th>926</th>\n",
       "      <td>33XJudas</td>\n",
       "      <td>3.140</td>\n",
       "      <td>1337.0</td>\n",
       "      <td>Jesus</td>\n",
       "      <td>Christ</td>\n",
       "      <td>0</td>\n",
       "      <td>0.000000e+00</td>\n",
       "      <td>0.000000e+00</td>\n",
       "      <td>0.000000e+00</td>\n",
       "      <td>0.000000e+00</td>\n",
       "      <td>0.000000e+00</td>\n",
       "    </tr>\n",
       "    <tr>\n",
       "      <th>927</th>\n",
       "      <td>BigChungus42</td>\n",
       "      <td>69.000</td>\n",
       "      <td>420.0</td>\n",
       "      <td>Shrek</td>\n",
       "      <td>Swamp</td>\n",
       "      <td>2000</td>\n",
       "      <td>1.217391e+04</td>\n",
       "      <td>1.217391e+04</td>\n",
       "      <td>1.217391e+04</td>\n",
       "      <td>1.217391e+04</td>\n",
       "      <td>1.217391e+04</td>\n",
       "    </tr>\n",
       "    <tr>\n",
       "      <th>928</th>\n",
       "      <td>Poland</td>\n",
       "      <td>4.200</td>\n",
       "      <td>123.0</td>\n",
       "      <td>BOBR</td>\n",
       "      <td>Kurva</td>\n",
       "      <td>2007</td>\n",
       "      <td>5.877643e+04</td>\n",
       "      <td>5.877643e+04</td>\n",
       "      <td>5.877643e+04</td>\n",
       "      <td>5.877643e+04</td>\n",
       "      <td>5.877643e+04</td>\n",
       "    </tr>\n",
       "    <tr>\n",
       "      <th>929</th>\n",
       "      <td>DogeCoinToTheMoon</td>\n",
       "      <td>1.618</td>\n",
       "      <td>1000000.0</td>\n",
       "      <td>Elon</td>\n",
       "      <td>Tusk</td>\n",
       "      <td>2023</td>\n",
       "      <td>1.250309e+09</td>\n",
       "      <td>1.250309e+09</td>\n",
       "      <td>1.250309e+09</td>\n",
       "      <td>1.250309e+09</td>\n",
       "      <td>1.250309e+09</td>\n",
       "    </tr>\n",
       "  </tbody>\n",
       "</table>\n",
       "<p>930 rows × 11 columns</p>\n",
       "</div>"
      ],
      "text/plain": [
       "             CarNumber  Refund      Fines    Make   Model  Year      CalcLoop  \\\n",
       "0         Y163O8161RUS   2.000     3200.0    Ford   Focus  2018  3.228800e+06   \n",
       "1          E432XX77RUS   1.000     6500.0  Toyota   Camry  2008  1.305200e+07   \n",
       "2          7184TT36RUS   1.000     2100.0    Ford   Focus  1994  4.187400e+06   \n",
       "3         X582HE161RUS   2.000     2000.0    Ford   Focus  1987  1.987000e+06   \n",
       "4         92918M178RUS   1.000     5700.0    Ford   Focus  2000  1.140000e+07   \n",
       "..                 ...     ...        ...     ...     ...   ...           ...   \n",
       "925        a121345raaa   2.000    12345.0   Harry  Potter  1000  6.172500e+06   \n",
       "926           33XJudas   3.140     1337.0   Jesus  Christ     0  0.000000e+00   \n",
       "927       BigChungus42  69.000      420.0   Shrek   Swamp  2000  1.217391e+04   \n",
       "928             Poland   4.200      123.0    BOBR   Kurva  2007  5.877643e+04   \n",
       "929  DogeCoinToTheMoon   1.618  1000000.0    Elon    Tusk  2023  1.250309e+09   \n",
       "\n",
       "        CalcInter     CalcApply    CalcSeries  CalcSeriesValues  \n",
       "0    3.228800e+06  3.228800e+06  3.228800e+06      3.228800e+06  \n",
       "1    1.305200e+07  1.305200e+07  1.305200e+07      1.305200e+07  \n",
       "2    4.187400e+06  4.187400e+06  4.187400e+06      4.187400e+06  \n",
       "3    1.987000e+06  1.987000e+06  1.987000e+06      1.987000e+06  \n",
       "4    1.140000e+07  1.140000e+07  1.140000e+07      1.140000e+07  \n",
       "..            ...           ...           ...               ...  \n",
       "925  6.172500e+06  6.172500e+06  6.172500e+06      6.172500e+06  \n",
       "926  0.000000e+00  0.000000e+00  0.000000e+00      0.000000e+00  \n",
       "927  1.217391e+04  1.217391e+04  1.217391e+04      1.217391e+04  \n",
       "928  5.877643e+04  5.877643e+04  5.877643e+04      5.877643e+04  \n",
       "929  1.250309e+09  1.250309e+09  1.250309e+09      1.250309e+09  \n",
       "\n",
       "[930 rows x 11 columns]"
      ]
     },
     "execution_count": 139,
     "metadata": {},
     "output_type": "execute_result"
    }
   ],
   "source": [
    "fines"
   ]
  },
  {
   "cell_type": "markdown",
   "metadata": {},
   "source": [
    "## indexing: measure the time using the magic command `%%timeit` in the cell"
   ]
  },
  {
   "cell_type": "markdown",
   "metadata": {},
   "source": [
    "### get a row for a specific `CarNumber`, for example, `’O136HO197RUS’`"
   ]
  },
  {
   "cell_type": "code",
   "execution_count": 140,
   "metadata": {},
   "outputs": [
    {
     "name": "stdout",
     "output_type": "stream",
     "text": [
      "256 μs ± 10.4 μs per loop (mean ± std. dev. of 7 runs, 1,000 loops each)\n"
     ]
    }
   ],
   "source": [
    "%%timeit\n",
    "filt = fines['CarNumber'] == 'O136HO197RUS'\n",
    "fines[filt]"
   ]
  },
  {
   "cell_type": "markdown",
   "metadata": {},
   "source": [
    "### set the index in your dataframe with CarNumber"
   ]
  },
  {
   "cell_type": "code",
   "execution_count": 141,
   "metadata": {},
   "outputs": [],
   "source": [
    "fines.set_index('CarNumber', inplace=True)"
   ]
  },
  {
   "cell_type": "markdown",
   "metadata": {},
   "source": [
    "### again, get a row for the same `CarNumber`"
   ]
  },
  {
   "cell_type": "code",
   "execution_count": 142,
   "metadata": {},
   "outputs": [
    {
     "name": "stdout",
     "output_type": "stream",
     "text": [
      "43.1 μs ± 1.11 μs per loop (mean ± std. dev. of 7 runs, 10,000 loops each)\n"
     ]
    }
   ],
   "source": [
    "%%timeit\n",
    "fines.loc['O136HO197RUS']"
   ]
  },
  {
   "cell_type": "markdown",
   "metadata": {},
   "source": [
    "## downcasting:"
   ]
  },
  {
   "cell_type": "markdown",
   "metadata": {},
   "source": [
    "### run `df.info(memory_usage=’deep’)`, pay attention to the `Dtype` and the memory usage"
   ]
  },
  {
   "cell_type": "code",
   "execution_count": 143,
   "metadata": {},
   "outputs": [
    {
     "name": "stdout",
     "output_type": "stream",
     "text": [
      "<class 'pandas.core.frame.DataFrame'>\n",
      "Index: 930 entries, Y163O8161RUS to DogeCoinToTheMoon\n",
      "Data columns (total 10 columns):\n",
      " #   Column            Non-Null Count  Dtype  \n",
      "---  ------            --------------  -----  \n",
      " 0   Refund            930 non-null    float64\n",
      " 1   Fines             930 non-null    float64\n",
      " 2   Make              930 non-null    object \n",
      " 3   Model             919 non-null    object \n",
      " 4   Year              930 non-null    int64  \n",
      " 5   CalcLoop          930 non-null    float64\n",
      " 6   CalcInter         930 non-null    float64\n",
      " 7   CalcApply         930 non-null    float64\n",
      " 8   CalcSeries        930 non-null    float64\n",
      " 9   CalcSeriesValues  930 non-null    float64\n",
      "dtypes: float64(7), int64(1), object(2)\n",
      "memory usage: 243.4 KB\n"
     ]
    }
   ],
   "source": [
    "fines.info(memory_usage='deep')"
   ]
  },
  {
   "cell_type": "markdown",
   "metadata": {},
   "source": [
    "### make a `copy()` of your initial dataframe into another dataframe `optimized`"
   ]
  },
  {
   "cell_type": "code",
   "execution_count": 144,
   "metadata": {},
   "outputs": [
    {
     "data": {
      "text/html": [
       "<div>\n",
       "<style scoped>\n",
       "    .dataframe tbody tr th:only-of-type {\n",
       "        vertical-align: middle;\n",
       "    }\n",
       "\n",
       "    .dataframe tbody tr th {\n",
       "        vertical-align: top;\n",
       "    }\n",
       "\n",
       "    .dataframe thead th {\n",
       "        text-align: right;\n",
       "    }\n",
       "</style>\n",
       "<table border=\"1\" class=\"dataframe\">\n",
       "  <thead>\n",
       "    <tr style=\"text-align: right;\">\n",
       "      <th></th>\n",
       "      <th>Refund</th>\n",
       "      <th>Fines</th>\n",
       "      <th>Make</th>\n",
       "      <th>Model</th>\n",
       "      <th>Year</th>\n",
       "      <th>CalcLoop</th>\n",
       "      <th>CalcInter</th>\n",
       "      <th>CalcApply</th>\n",
       "      <th>CalcSeries</th>\n",
       "      <th>CalcSeriesValues</th>\n",
       "    </tr>\n",
       "    <tr>\n",
       "      <th>CarNumber</th>\n",
       "      <th></th>\n",
       "      <th></th>\n",
       "      <th></th>\n",
       "      <th></th>\n",
       "      <th></th>\n",
       "      <th></th>\n",
       "      <th></th>\n",
       "      <th></th>\n",
       "      <th></th>\n",
       "      <th></th>\n",
       "    </tr>\n",
       "  </thead>\n",
       "  <tbody>\n",
       "    <tr>\n",
       "      <th>Y163O8161RUS</th>\n",
       "      <td>2.000</td>\n",
       "      <td>3200.0</td>\n",
       "      <td>Ford</td>\n",
       "      <td>Focus</td>\n",
       "      <td>2018</td>\n",
       "      <td>3.228800e+06</td>\n",
       "      <td>3.228800e+06</td>\n",
       "      <td>3.228800e+06</td>\n",
       "      <td>3.228800e+06</td>\n",
       "      <td>3.228800e+06</td>\n",
       "    </tr>\n",
       "    <tr>\n",
       "      <th>E432XX77RUS</th>\n",
       "      <td>1.000</td>\n",
       "      <td>6500.0</td>\n",
       "      <td>Toyota</td>\n",
       "      <td>Camry</td>\n",
       "      <td>2008</td>\n",
       "      <td>1.305200e+07</td>\n",
       "      <td>1.305200e+07</td>\n",
       "      <td>1.305200e+07</td>\n",
       "      <td>1.305200e+07</td>\n",
       "      <td>1.305200e+07</td>\n",
       "    </tr>\n",
       "    <tr>\n",
       "      <th>7184TT36RUS</th>\n",
       "      <td>1.000</td>\n",
       "      <td>2100.0</td>\n",
       "      <td>Ford</td>\n",
       "      <td>Focus</td>\n",
       "      <td>1994</td>\n",
       "      <td>4.187400e+06</td>\n",
       "      <td>4.187400e+06</td>\n",
       "      <td>4.187400e+06</td>\n",
       "      <td>4.187400e+06</td>\n",
       "      <td>4.187400e+06</td>\n",
       "    </tr>\n",
       "    <tr>\n",
       "      <th>X582HE161RUS</th>\n",
       "      <td>2.000</td>\n",
       "      <td>2000.0</td>\n",
       "      <td>Ford</td>\n",
       "      <td>Focus</td>\n",
       "      <td>1987</td>\n",
       "      <td>1.987000e+06</td>\n",
       "      <td>1.987000e+06</td>\n",
       "      <td>1.987000e+06</td>\n",
       "      <td>1.987000e+06</td>\n",
       "      <td>1.987000e+06</td>\n",
       "    </tr>\n",
       "    <tr>\n",
       "      <th>92918M178RUS</th>\n",
       "      <td>1.000</td>\n",
       "      <td>5700.0</td>\n",
       "      <td>Ford</td>\n",
       "      <td>Focus</td>\n",
       "      <td>2000</td>\n",
       "      <td>1.140000e+07</td>\n",
       "      <td>1.140000e+07</td>\n",
       "      <td>1.140000e+07</td>\n",
       "      <td>1.140000e+07</td>\n",
       "      <td>1.140000e+07</td>\n",
       "    </tr>\n",
       "    <tr>\n",
       "      <th>...</th>\n",
       "      <td>...</td>\n",
       "      <td>...</td>\n",
       "      <td>...</td>\n",
       "      <td>...</td>\n",
       "      <td>...</td>\n",
       "      <td>...</td>\n",
       "      <td>...</td>\n",
       "      <td>...</td>\n",
       "      <td>...</td>\n",
       "      <td>...</td>\n",
       "    </tr>\n",
       "    <tr>\n",
       "      <th>a121345raaa</th>\n",
       "      <td>2.000</td>\n",
       "      <td>12345.0</td>\n",
       "      <td>Harry</td>\n",
       "      <td>Potter</td>\n",
       "      <td>1000</td>\n",
       "      <td>6.172500e+06</td>\n",
       "      <td>6.172500e+06</td>\n",
       "      <td>6.172500e+06</td>\n",
       "      <td>6.172500e+06</td>\n",
       "      <td>6.172500e+06</td>\n",
       "    </tr>\n",
       "    <tr>\n",
       "      <th>33XJudas</th>\n",
       "      <td>3.140</td>\n",
       "      <td>1337.0</td>\n",
       "      <td>Jesus</td>\n",
       "      <td>Christ</td>\n",
       "      <td>0</td>\n",
       "      <td>0.000000e+00</td>\n",
       "      <td>0.000000e+00</td>\n",
       "      <td>0.000000e+00</td>\n",
       "      <td>0.000000e+00</td>\n",
       "      <td>0.000000e+00</td>\n",
       "    </tr>\n",
       "    <tr>\n",
       "      <th>BigChungus42</th>\n",
       "      <td>69.000</td>\n",
       "      <td>420.0</td>\n",
       "      <td>Shrek</td>\n",
       "      <td>Swamp</td>\n",
       "      <td>2000</td>\n",
       "      <td>1.217391e+04</td>\n",
       "      <td>1.217391e+04</td>\n",
       "      <td>1.217391e+04</td>\n",
       "      <td>1.217391e+04</td>\n",
       "      <td>1.217391e+04</td>\n",
       "    </tr>\n",
       "    <tr>\n",
       "      <th>Poland</th>\n",
       "      <td>4.200</td>\n",
       "      <td>123.0</td>\n",
       "      <td>BOBR</td>\n",
       "      <td>Kurva</td>\n",
       "      <td>2007</td>\n",
       "      <td>5.877643e+04</td>\n",
       "      <td>5.877643e+04</td>\n",
       "      <td>5.877643e+04</td>\n",
       "      <td>5.877643e+04</td>\n",
       "      <td>5.877643e+04</td>\n",
       "    </tr>\n",
       "    <tr>\n",
       "      <th>DogeCoinToTheMoon</th>\n",
       "      <td>1.618</td>\n",
       "      <td>1000000.0</td>\n",
       "      <td>Elon</td>\n",
       "      <td>Tusk</td>\n",
       "      <td>2023</td>\n",
       "      <td>1.250309e+09</td>\n",
       "      <td>1.250309e+09</td>\n",
       "      <td>1.250309e+09</td>\n",
       "      <td>1.250309e+09</td>\n",
       "      <td>1.250309e+09</td>\n",
       "    </tr>\n",
       "  </tbody>\n",
       "</table>\n",
       "<p>930 rows × 10 columns</p>\n",
       "</div>"
      ],
      "text/plain": [
       "                   Refund      Fines    Make   Model  Year      CalcLoop  \\\n",
       "CarNumber                                                                  \n",
       "Y163O8161RUS        2.000     3200.0    Ford   Focus  2018  3.228800e+06   \n",
       "E432XX77RUS         1.000     6500.0  Toyota   Camry  2008  1.305200e+07   \n",
       "7184TT36RUS         1.000     2100.0    Ford   Focus  1994  4.187400e+06   \n",
       "X582HE161RUS        2.000     2000.0    Ford   Focus  1987  1.987000e+06   \n",
       "92918M178RUS        1.000     5700.0    Ford   Focus  2000  1.140000e+07   \n",
       "...                   ...        ...     ...     ...   ...           ...   \n",
       "a121345raaa         2.000    12345.0   Harry  Potter  1000  6.172500e+06   \n",
       "33XJudas            3.140     1337.0   Jesus  Christ     0  0.000000e+00   \n",
       "BigChungus42       69.000      420.0   Shrek   Swamp  2000  1.217391e+04   \n",
       "Poland              4.200      123.0    BOBR   Kurva  2007  5.877643e+04   \n",
       "DogeCoinToTheMoon   1.618  1000000.0    Elon    Tusk  2023  1.250309e+09   \n",
       "\n",
       "                      CalcInter     CalcApply    CalcSeries  CalcSeriesValues  \n",
       "CarNumber                                                                      \n",
       "Y163O8161RUS       3.228800e+06  3.228800e+06  3.228800e+06      3.228800e+06  \n",
       "E432XX77RUS        1.305200e+07  1.305200e+07  1.305200e+07      1.305200e+07  \n",
       "7184TT36RUS        4.187400e+06  4.187400e+06  4.187400e+06      4.187400e+06  \n",
       "X582HE161RUS       1.987000e+06  1.987000e+06  1.987000e+06      1.987000e+06  \n",
       "92918M178RUS       1.140000e+07  1.140000e+07  1.140000e+07      1.140000e+07  \n",
       "...                         ...           ...           ...               ...  \n",
       "a121345raaa        6.172500e+06  6.172500e+06  6.172500e+06      6.172500e+06  \n",
       "33XJudas           0.000000e+00  0.000000e+00  0.000000e+00      0.000000e+00  \n",
       "BigChungus42       1.217391e+04  1.217391e+04  1.217391e+04      1.217391e+04  \n",
       "Poland             5.877643e+04  5.877643e+04  5.877643e+04      5.877643e+04  \n",
       "DogeCoinToTheMoon  1.250309e+09  1.250309e+09  1.250309e+09      1.250309e+09  \n",
       "\n",
       "[930 rows x 10 columns]"
      ]
     },
     "execution_count": 144,
     "metadata": {},
     "output_type": "execute_result"
    }
   ],
   "source": [
    "optimized = fines.copy()\n",
    "optimized"
   ]
  },
  {
   "cell_type": "markdown",
   "metadata": {},
   "source": [
    "### downcast from `float64` to `float32` for all the columns"
   ]
  },
  {
   "cell_type": "code",
   "execution_count": 145,
   "metadata": {},
   "outputs": [],
   "source": [
    "optimized = optimized.apply(lambda x:\n",
    "                            pd.to_numeric(\n",
    "                                x,\n",
    "                                downcast='float',\n",
    "\n",
    "                            ) if pd.api.types.is_float_dtype(x) else x,\n",
    "                            )"
   ]
  },
  {
   "cell_type": "markdown",
   "metadata": {},
   "source": [
    "### downcast from `int64` to the smallest numerical dtype possible"
   ]
  },
  {
   "cell_type": "code",
   "execution_count": 146,
   "metadata": {},
   "outputs": [],
   "source": [
    "optimized = optimized.apply(lambda x:\n",
    "                            pd.to_numeric(\n",
    "                                x,\n",
    "                                downcast='integer',\n",
    "\n",
    "                            ) if pd.api.types.is_integer_dtype(x) else x,\n",
    "                            )"
   ]
  },
  {
   "cell_type": "markdown",
   "metadata": {},
   "source": [
    "### run `info(memory_usage='deep')` for your new dataframe, pay attention to the Dtype and the memory usage"
   ]
  },
  {
   "cell_type": "code",
   "execution_count": 147,
   "metadata": {},
   "outputs": [
    {
     "name": "stdout",
     "output_type": "stream",
     "text": [
      "<class 'pandas.core.frame.DataFrame'>\n",
      "Index: 930 entries, Y163O8161RUS to DogeCoinToTheMoon\n",
      "Data columns (total 10 columns):\n",
      " #   Column            Non-Null Count  Dtype  \n",
      "---  ------            --------------  -----  \n",
      " 0   Refund            930 non-null    float32\n",
      " 1   Fines             930 non-null    float32\n",
      " 2   Make              930 non-null    object \n",
      " 3   Model             919 non-null    object \n",
      " 4   Year              930 non-null    int16  \n",
      " 5   CalcLoop          930 non-null    float64\n",
      " 6   CalcInter         930 non-null    float64\n",
      " 7   CalcApply         930 non-null    float64\n",
      " 8   CalcSeries        930 non-null    float64\n",
      " 9   CalcSeriesValues  930 non-null    float64\n",
      "dtypes: float32(2), float64(5), int16(1), object(2)\n",
      "memory usage: 230.7 KB\n"
     ]
    }
   ],
   "source": [
    "optimized.info(memory_usage='deep')"
   ]
  },
  {
   "cell_type": "markdown",
   "metadata": {},
   "source": [
    "## categories:"
   ]
  },
  {
   "cell_type": "markdown",
   "metadata": {},
   "source": [
    "### change the `object` type columns to the type `category`!"
   ]
  },
  {
   "cell_type": "code",
   "execution_count": 148,
   "metadata": {},
   "outputs": [],
   "source": [
    "optimized = optimized.astype(\n",
    "    {\n",
    "        col: 'category'\n",
    "        for col\n",
    "        in optimized.select_dtypes(include='object').columns\n",
    "    }\n",
    ")"
   ]
  },
  {
   "cell_type": "markdown",
   "metadata": {},
   "source": [
    "### This time, check the memory usage, it probably has a decrease of 2–3 times compared to the initial dataframe"
   ]
  },
  {
   "cell_type": "code",
   "execution_count": 149,
   "metadata": {},
   "outputs": [
    {
     "name": "stdout",
     "output_type": "stream",
     "text": [
      "<class 'pandas.core.frame.DataFrame'>\n",
      "Index: 930 entries, Y163O8161RUS to DogeCoinToTheMoon\n",
      "Data columns (total 10 columns):\n",
      " #   Column            Non-Null Count  Dtype   \n",
      "---  ------            --------------  -----   \n",
      " 0   Refund            930 non-null    float32 \n",
      " 1   Fines             930 non-null    float32 \n",
      " 2   Make              930 non-null    category\n",
      " 3   Model             919 non-null    category\n",
      " 4   Year              930 non-null    int16   \n",
      " 5   CalcLoop          930 non-null    float64 \n",
      " 6   CalcInter         930 non-null    float64 \n",
      " 7   CalcApply         930 non-null    float64 \n",
      " 8   CalcSeries        930 non-null    float64 \n",
      " 9   CalcSeriesValues  930 non-null    float64 \n",
      "dtypes: category(2), float32(2), float64(5), int16(1)\n",
      "memory usage: 137.0 KB\n"
     ]
    }
   ],
   "source": [
    "optimized.info(memory_usage='deep')"
   ]
  },
  {
   "cell_type": "markdown",
   "metadata": {},
   "source": [
    "## memory clean"
   ]
  },
  {
   "cell_type": "markdown",
   "metadata": {},
   "source": [
    "### using `%reset_selective` and the library `gc` clean the memory of your initial dataframe only"
   ]
  },
  {
   "cell_type": "code",
   "execution_count": 150,
   "metadata": {},
   "outputs": [],
   "source": [
    "%reset_selective fines"
   ]
  },
  {
   "cell_type": "code",
   "execution_count": 151,
   "metadata": {},
   "outputs": [
    {
     "ename": "NameError",
     "evalue": "name 'fines' is not defined",
     "output_type": "error",
     "traceback": [
      "\u001b[31m---------------------------------------------------------------------------\u001b[39m",
      "\u001b[31mNameError\u001b[39m                                 Traceback (most recent call last)",
      "\u001b[36mCell\u001b[39m\u001b[36m \u001b[39m\u001b[32mIn[151]\u001b[39m\u001b[32m, line 1\u001b[39m\n\u001b[32m----> \u001b[39m\u001b[32m1\u001b[39m \u001b[43mfines\u001b[49m\n",
      "\u001b[31mNameError\u001b[39m: name 'fines' is not defined"
     ]
    }
   ],
   "source": [
    "fines"
   ]
  }
 ],
 "metadata": {
  "kernelspec": {
   "display_name": ".venv",
   "language": "python",
   "name": "python3"
  },
  "language_info": {
   "codemirror_mode": {
    "name": "ipython",
    "version": 3
   },
   "file_extension": ".py",
   "mimetype": "text/x-python",
   "name": "python",
   "nbconvert_exporter": "python",
   "pygments_lexer": "ipython3",
   "version": "3.12.3"
  }
 },
 "nbformat": 4,
 "nbformat_minor": 2
}
